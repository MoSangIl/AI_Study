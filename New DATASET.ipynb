{
 "cells": [
  {
   "cell_type": "code",
   "execution_count": 1,
   "metadata": {},
   "outputs": [],
   "source": [
    "import pandas as pd"
   ]
  },
  {
   "cell_type": "code",
   "execution_count": 2,
   "metadata": {},
   "outputs": [],
   "source": [
    "dst1 = pd.read_csv('Dataset1.csv')\n",
    "dst2 = pd.read_csv('Dataset2.csv')"
   ]
  },
  {
   "cell_type": "code",
   "execution_count": 3,
   "metadata": {},
   "outputs": [
    {
     "data": {
      "text/html": [
       "<div>\n",
       "<style scoped>\n",
       "    .dataframe tbody tr th:only-of-type {\n",
       "        vertical-align: middle;\n",
       "    }\n",
       "\n",
       "    .dataframe tbody tr th {\n",
       "        vertical-align: top;\n",
       "    }\n",
       "\n",
       "    .dataframe thead th {\n",
       "        text-align: right;\n",
       "    }\n",
       "</style>\n",
       "<table border=\"1\" class=\"dataframe\">\n",
       "  <thead>\n",
       "    <tr style=\"text-align: right;\">\n",
       "      <th></th>\n",
       "      <th>Machine</th>\n",
       "      <th>Process</th>\n",
       "      <th>Step</th>\n",
       "      <th>Value</th>\n",
       "    </tr>\n",
       "  </thead>\n",
       "  <tbody>\n",
       "    <tr>\n",
       "      <th>0</th>\n",
       "      <td>X0002441A</td>\n",
       "      <td>0</td>\n",
       "      <td>C</td>\n",
       "      <td>0.920577</td>\n",
       "    </tr>\n",
       "    <tr>\n",
       "      <th>1</th>\n",
       "      <td>X0002441A</td>\n",
       "      <td>0</td>\n",
       "      <td>C</td>\n",
       "      <td>1.131612</td>\n",
       "    </tr>\n",
       "    <tr>\n",
       "      <th>2</th>\n",
       "      <td>X0002441A</td>\n",
       "      <td>0</td>\n",
       "      <td>C</td>\n",
       "      <td>0.689192</td>\n",
       "    </tr>\n",
       "    <tr>\n",
       "      <th>3</th>\n",
       "      <td>X0002441A</td>\n",
       "      <td>0</td>\n",
       "      <td>C</td>\n",
       "      <td>0.014700</td>\n",
       "    </tr>\n",
       "    <tr>\n",
       "      <th>4</th>\n",
       "      <td>X0002441A</td>\n",
       "      <td>0</td>\n",
       "      <td>C</td>\n",
       "      <td>0.993231</td>\n",
       "    </tr>\n",
       "    <tr>\n",
       "      <th>5</th>\n",
       "      <td>X0002441A</td>\n",
       "      <td>0</td>\n",
       "      <td>C</td>\n",
       "      <td>0.656724</td>\n",
       "    </tr>\n",
       "    <tr>\n",
       "      <th>6</th>\n",
       "      <td>X0002441A</td>\n",
       "      <td>0</td>\n",
       "      <td>C</td>\n",
       "      <td>0.632023</td>\n",
       "    </tr>\n",
       "    <tr>\n",
       "      <th>7</th>\n",
       "      <td>X0002441A</td>\n",
       "      <td>0</td>\n",
       "      <td>C</td>\n",
       "      <td>0.975923</td>\n",
       "    </tr>\n",
       "    <tr>\n",
       "      <th>8</th>\n",
       "      <td>X0002441A</td>\n",
       "      <td>0</td>\n",
       "      <td>C</td>\n",
       "      <td>1.111491</td>\n",
       "    </tr>\n",
       "    <tr>\n",
       "      <th>9</th>\n",
       "      <td>X0002441A</td>\n",
       "      <td>0</td>\n",
       "      <td>C</td>\n",
       "      <td>0.880685</td>\n",
       "    </tr>\n",
       "  </tbody>\n",
       "</table>\n",
       "</div>"
      ],
      "text/plain": [
       "     Machine  Process Step     Value\n",
       "0  X0002441A        0    C  0.920577\n",
       "1  X0002441A        0    C  1.131612\n",
       "2  X0002441A        0    C  0.689192\n",
       "3  X0002441A        0    C  0.014700\n",
       "4  X0002441A        0    C  0.993231\n",
       "5  X0002441A        0    C  0.656724\n",
       "6  X0002441A        0    C  0.632023\n",
       "7  X0002441A        0    C  0.975923\n",
       "8  X0002441A        0    C  1.111491\n",
       "9  X0002441A        0    C  0.880685"
      ]
     },
     "execution_count": 3,
     "metadata": {},
     "output_type": "execute_result"
    }
   ],
   "source": [
    "dst1.head(10)"
   ]
  },
  {
   "cell_type": "code",
   "execution_count": 4,
   "metadata": {},
   "outputs": [
    {
     "data": {
      "text/html": [
       "<div>\n",
       "<style scoped>\n",
       "    .dataframe tbody tr th:only-of-type {\n",
       "        vertical-align: middle;\n",
       "    }\n",
       "\n",
       "    .dataframe tbody tr th {\n",
       "        vertical-align: top;\n",
       "    }\n",
       "\n",
       "    .dataframe thead th {\n",
       "        text-align: right;\n",
       "    }\n",
       "</style>\n",
       "<table border=\"1\" class=\"dataframe\">\n",
       "  <thead>\n",
       "    <tr style=\"text-align: right;\">\n",
       "      <th></th>\n",
       "      <th>Machine</th>\n",
       "      <th>Process</th>\n",
       "      <th>Step</th>\n",
       "      <th>Value</th>\n",
       "    </tr>\n",
       "  </thead>\n",
       "  <tbody>\n",
       "    <tr>\n",
       "      <th>0</th>\n",
       "      <td>P-1</td>\n",
       "      <td>0</td>\n",
       "      <td>P23</td>\n",
       "      <td>11.169551</td>\n",
       "    </tr>\n",
       "    <tr>\n",
       "      <th>1</th>\n",
       "      <td>P-1</td>\n",
       "      <td>0</td>\n",
       "      <td>P23</td>\n",
       "      <td>10.239201</td>\n",
       "    </tr>\n",
       "    <tr>\n",
       "      <th>2</th>\n",
       "      <td>P-1</td>\n",
       "      <td>0</td>\n",
       "      <td>P23</td>\n",
       "      <td>10.498562</td>\n",
       "    </tr>\n",
       "    <tr>\n",
       "      <th>3</th>\n",
       "      <td>P-1</td>\n",
       "      <td>0</td>\n",
       "      <td>P23</td>\n",
       "      <td>11.393318</td>\n",
       "    </tr>\n",
       "    <tr>\n",
       "      <th>4</th>\n",
       "      <td>P-1</td>\n",
       "      <td>0</td>\n",
       "      <td>P23</td>\n",
       "      <td>10.293653</td>\n",
       "    </tr>\n",
       "    <tr>\n",
       "      <th>5</th>\n",
       "      <td>P-1</td>\n",
       "      <td>0</td>\n",
       "      <td>P23</td>\n",
       "      <td>9.451925</td>\n",
       "    </tr>\n",
       "    <tr>\n",
       "      <th>6</th>\n",
       "      <td>P-1</td>\n",
       "      <td>0</td>\n",
       "      <td>P23</td>\n",
       "      <td>24.065633</td>\n",
       "    </tr>\n",
       "    <tr>\n",
       "      <th>7</th>\n",
       "      <td>P-1</td>\n",
       "      <td>0</td>\n",
       "      <td>P23</td>\n",
       "      <td>23.258712</td>\n",
       "    </tr>\n",
       "    <tr>\n",
       "      <th>8</th>\n",
       "      <td>P-1</td>\n",
       "      <td>0</td>\n",
       "      <td>P23</td>\n",
       "      <td>26.418404</td>\n",
       "    </tr>\n",
       "    <tr>\n",
       "      <th>9</th>\n",
       "      <td>P-1</td>\n",
       "      <td>0</td>\n",
       "      <td>P23</td>\n",
       "      <td>26.056583</td>\n",
       "    </tr>\n",
       "  </tbody>\n",
       "</table>\n",
       "</div>"
      ],
      "text/plain": [
       "  Machine  Process Step      Value\n",
       "0     P-1        0  P23  11.169551\n",
       "1     P-1        0  P23  10.239201\n",
       "2     P-1        0  P23  10.498562\n",
       "3     P-1        0  P23  11.393318\n",
       "4     P-1        0  P23  10.293653\n",
       "5     P-1        0  P23   9.451925\n",
       "6     P-1        0  P23  24.065633\n",
       "7     P-1        0  P23  23.258712\n",
       "8     P-1        0  P23  26.418404\n",
       "9     P-1        0  P23  26.056583"
      ]
     },
     "execution_count": 4,
     "metadata": {},
     "output_type": "execute_result"
    }
   ],
   "source": [
    "dst2.head(10)"
   ]
  },
  {
   "cell_type": "code",
   "execution_count": 13,
   "metadata": {},
   "outputs": [],
   "source": [
    "machine = dst1['Machine']\n",
    "process = dst1['Process']\n",
    "step = dst1['Step']"
   ]
  },
  {
   "cell_type": "code",
   "execution_count": 17,
   "metadata": {},
   "outputs": [],
   "source": [
    "ma_count = machine.value_counts()\n",
    "pr_count = process.value_counts().sort_values()\n",
    "st_count = step.value_counts()"
   ]
  },
  {
   "cell_type": "code",
   "execution_count": 46,
   "metadata": {},
   "outputs": [],
   "source": [
    "import numpy as np"
   ]
  },
  {
   "cell_type": "code",
   "execution_count": 49,
   "metadata": {},
   "outputs": [
    {
     "name": "stdout",
     "output_type": "stream",
     "text": [
      "[  0   1   2   3   4   5   6   7   8   9  10  11  12  13  14  15  16  17\n",
      "  18  19  20  21  22  23  24  25  26  27  28  29  30  31  32  33  34  35\n",
      "  36  37  38  39  40  41  42  43  44  45  46  47  48  49  50  51  52  53\n",
      "  54  55  56  57  58  59  60  61  62  63  64  65  66  67  68  69  70  71\n",
      "  72  73  74  75  76  77  78  79  80  81  82  83  84  85  86  87  88  89\n",
      "  90  91  92  93  94  95  96  97  98  99 100 101 102 103 104 105 106 107\n",
      " 108 109 110 111 112 113 114 115 116 117 118 119 120 121 122 123 124 125\n",
      " 126 127 128 129 130 131 132 133 134 135 136 137 138 139 140 141 142 143\n",
      " 144 145 146 147 148 149 150 151 152 153 154 155 156 157 158 159 160 161\n",
      " 162 163 164 165 166 167 168 169 170 171 172 173 174 175 176 177 178 179\n",
      " 180 181 182 183 184 185 186 187 188 189 190 191 192 193 194 195 196 197\n",
      " 198 199 200 201 202 203 204 205 206 207 208 209 210 211 212 213 214 215\n",
      " 216 217 218 219 220 221 222 223 224 225 226 227 228 229 230 231 232 233\n",
      " 234 235 236 237 238 239 240 241 242 243 244 245 246 247 248 249 250 251\n",
      " 252 253 254 255 256 257 258 259 260 261 262 263 264 265 266 267 268 269\n",
      " 270 271 272 273 274 275 276 277 278 279 280 281 282 283 284 285 286 287\n",
      " 288 289 290 291 292 293 294 295 296 297 298 299]\n"
     ]
    },
    {
     "data": {
      "text/plain": [
       "(300,)"
      ]
     },
     "execution_count": 49,
     "metadata": {},
     "output_type": "execute_result"
    }
   ],
   "source": [
    "idx = pr_count.index\n",
    "idx = np.array(idx)\n",
    "idx.sort()\n",
    "print(idx)\n",
    "idx.shape"
   ]
  },
  {
   "cell_type": "code",
   "execution_count": 20,
   "metadata": {},
   "outputs": [
    {
     "name": "stdout",
     "output_type": "stream",
     "text": [
      "X0002441A    51600\n",
      "Name: Machine, dtype: int64\n",
      "287    172\n",
      "159    172\n",
      "127    172\n",
      "95     172\n",
      "63     172\n",
      "      ... \n",
      "32     172\n",
      "193    172\n",
      "71     172\n",
      "289    172\n",
      "0      172\n",
      "Name: Process, Length: 300, dtype: int64\n",
      "R    17888\n",
      "A    17888\n",
      "C    15824\n",
      "Name: Step, dtype: int64\n"
     ]
    }
   ],
   "source": [
    "print(ma_count)\n",
    "print(pr_count)\n",
    "print(st_count)"
   ]
  },
  {
   "cell_type": "code",
   "execution_count": 38,
   "metadata": {},
   "outputs": [],
   "source": [
    "machine2 = dst2['Machine']\n",
    "process2 = dst2['Process']\n",
    "step2 = dst2['Step']"
   ]
  },
  {
   "cell_type": "code",
   "execution_count": 39,
   "metadata": {},
   "outputs": [],
   "source": [
    "ma2_count = machine2.value_counts()\n",
    "pr2_count = process2.value_counts()\n",
    "st2_count = step2.value_counts()"
   ]
  },
  {
   "cell_type": "code",
   "execution_count": 50,
   "metadata": {},
   "outputs": [
    {
     "name": "stdout",
     "output_type": "stream",
     "text": [
      "[  0   2   3   4   5   6   7   8   9  10  11  12  13  14  15  16  17  18\n",
      "  19  20  21  22  23  24  25  26  27  28  29  30  31  32  33  34  36  37\n",
      "  38  39  40  41  42  43  44  45  46  47  48  49  50  51  52  53  54  55\n",
      "  56  57  58  59  60  61  62  63  64  66  67  68  69  70  71  72  73  74\n",
      "  75  76  77  78  79  80  81  82  83  84  85  86  87  88  89  90  91  92\n",
      "  93  94  95  96  97  98  99 100 102 103 104 105 106 107 108 109 110 111\n",
      " 112 113 114 115 116 117 119 120 121 122 123 124 125 126 127 128 129 130\n",
      " 131 132 133 134 135 136 137 138 139 140 141 142 143 144 145 146 147 148\n",
      " 149 150 151 152 153 154 155 156 157 158 159 160 161 162 163 164 165 166\n",
      " 167 168 169 170 171 172 173 174 175 176 177 178 179 180 181 182 183 184\n",
      " 185 186 187 188 189 190 191 192 193 194 195 196 197 198 199 200 201 202\n",
      " 203 204 205 206 207 208 209 210 211 213 214 215 216 217 218 219 220 221\n",
      " 222 223 224 225 226 228 229 230 231 232 233 234 235 236 237 238 239 240\n",
      " 242 243 244 245 246 247 248 249]\n"
     ]
    },
    {
     "data": {
      "text/plain": [
       "(242,)"
      ]
     },
     "execution_count": 50,
     "metadata": {},
     "output_type": "execute_result"
    }
   ],
   "source": [
    "idx2 = pr2_count.index\n",
    "idx2 = np.array(idx2)\n",
    "idx2.sort()\n",
    "print(idx2)\n",
    "idx2.shape"
   ]
  },
  {
   "cell_type": "code",
   "execution_count": 40,
   "metadata": {},
   "outputs": [
    {
     "name": "stdout",
     "output_type": "stream",
     "text": [
      "P-1    42829\n",
      "Name: Machine, dtype: int64\n",
      "61     True\n",
      "72     True\n",
      "155    True\n",
      "211    True\n",
      "29     True\n",
      "       ... \n",
      "82     True\n",
      "102    True\n",
      "46     True\n",
      "43     True\n",
      "223    True\n",
      "Name: Process, Length: 242, dtype: bool\n",
      "P23    16062\n",
      "P02    13677\n",
      "XXC    13090\n",
      "Name: Step, dtype: int64\n"
     ]
    }
   ],
   "source": [
    "print(ma2_count)\n",
    "print(pr2_count.apply(lambda a: a!=172))\n",
    "print(st2_count)"
   ]
  },
  {
   "cell_type": "code",
   "execution_count": null,
   "metadata": {},
   "outputs": [],
   "source": []
  }
 ],
 "metadata": {
  "kernelspec": {
   "display_name": "Python 3",
   "language": "python",
   "name": "python3"
  },
  "language_info": {
   "codemirror_mode": {
    "name": "ipython",
    "version": 3
   },
   "file_extension": ".py",
   "mimetype": "text/x-python",
   "name": "python",
   "nbconvert_exporter": "python",
   "pygments_lexer": "ipython3",
   "version": "3.8.5"
  }
 },
 "nbformat": 4,
 "nbformat_minor": 4
}
