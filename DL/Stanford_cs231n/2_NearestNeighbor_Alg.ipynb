{
 "cells": [
  {
   "cell_type": "markdown",
   "metadata": {},
   "source": [
    "## Data-Driven Approach\n",
    "\n",
    "- Process : train -> Memorize / test -> Predict\n",
    "- How to compare? : L1 Distance (Manhatten Distance) $ d(I_1, I_2) = \\sum_{p}{|I_1^p \\ - \\ I_2^p|} $"
   ]
  },
  {
   "cell_type": "code",
   "execution_count": 1,
   "metadata": {},
   "outputs": [],
   "source": [
    "import numpy as np\n",
    "\n",
    "class NearestNeighbor:\n",
    "    def __init__(self):\n",
    "        pass\n",
    "    \n",
    "    def train(self, X, y):\n",
    "        \"\"\" X is N x D where each row is an example. Y is 1-dimension of size N\"\"\"\n",
    "        \n",
    "        self.Xtr = X\n",
    "        self.ytr = y\n",
    "        \n",
    "    def predict(self, X):\n",
    "        \"\"\" X is N x D where each row is an example we wish to predict label for\"\"\"\n",
    "        num_test = X.shape[0]\n",
    "        \n",
    "        Ypred = np.zeros(num_test, dtype = self.ytr.dtype)\n",
    "        \n",
    "        for i in xrange(num_test):\n",
    "            distances = np.sum(np.abs(self.Xtr - X[i,:]), axis=1)\n",
    "            min_index = np.argmin(distances)\n",
    "            Ypred[i] = self.ytr[min_index]\n",
    "            \n",
    "        return Ypred"
   ]
  },
  {
   "cell_type": "code",
   "execution_count": null,
   "metadata": {},
   "outputs": [],
   "source": []
  }
 ],
 "metadata": {
  "kernelspec": {
   "display_name": "Python 3",
   "language": "python",
   "name": "python3"
  },
  "language_info": {
   "codemirror_mode": {
    "name": "ipython",
    "version": 3
   },
   "file_extension": ".py",
   "mimetype": "text/x-python",
   "name": "python",
   "nbconvert_exporter": "python",
   "pygments_lexer": "ipython3",
   "version": "3.8.3"
  }
 },
 "nbformat": 4,
 "nbformat_minor": 4
}
