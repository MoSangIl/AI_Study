{
 "cells": [
  {
   "cell_type": "code",
   "execution_count": 4,
   "metadata": {},
   "outputs": [],
   "source": [
    "import pandas as pd\n",
    "import numpy as np\n",
    "import matplotlib.pyplot as plt\n",
    "from keras.models import Sequential\n",
    "from keras.layers import LSTM, Dropout, Dense, Activation\n",
    "\n",
    "import datetime"
   ]
  },
  {
   "cell_type": "code",
   "execution_count": 5,
   "metadata": {},
   "outputs": [
    {
     "data": {
      "text/html": [
       "<div>\n",
       "<style scoped>\n",
       "    .dataframe tbody tr th:only-of-type {\n",
       "        vertical-align: middle;\n",
       "    }\n",
       "\n",
       "    .dataframe tbody tr th {\n",
       "        vertical-align: top;\n",
       "    }\n",
       "\n",
       "    .dataframe thead th {\n",
       "        text-align: right;\n",
       "    }\n",
       "</style>\n",
       "<table border=\"1\" class=\"dataframe\">\n",
       "  <thead>\n",
       "    <tr style=\"text-align: right;\">\n",
       "      <th></th>\n",
       "      <th>Date</th>\n",
       "      <th>Open*</th>\n",
       "      <th>High</th>\n",
       "      <th>Low</th>\n",
       "      <th>Close**</th>\n",
       "      <th>Volume</th>\n",
       "      <th>Market Cap</th>\n",
       "    </tr>\n",
       "  </thead>\n",
       "  <tbody>\n",
       "    <tr>\n",
       "      <th>0</th>\n",
       "      <td>14.Sep.15</td>\n",
       "      <td>0.940566</td>\n",
       "      <td>0.95</td>\n",
       "      <td>0.87</td>\n",
       "      <td>0.875622</td>\n",
       "      <td>741,085</td>\n",
       "      <td>64,084,135</td>\n",
       "    </tr>\n",
       "    <tr>\n",
       "      <th>1</th>\n",
       "      <td>15.Sep.15</td>\n",
       "      <td>0.875189</td>\n",
       "      <td>1.05</td>\n",
       "      <td>0.88</td>\n",
       "      <td>0.94441</td>\n",
       "      <td>703,390</td>\n",
       "      <td>69,141,409</td>\n",
       "    </tr>\n",
       "    <tr>\n",
       "      <th>2</th>\n",
       "      <td>16.Sep.15</td>\n",
       "      <td>0.941977</td>\n",
       "      <td>0.95</td>\n",
       "      <td>0.90</td>\n",
       "      <td>0.907175</td>\n",
       "      <td>615,593</td>\n",
       "      <td>66,437,873</td>\n",
       "    </tr>\n",
       "    <tr>\n",
       "      <th>3</th>\n",
       "      <td>17.Sep.15</td>\n",
       "      <td>0.906865</td>\n",
       "      <td>0.91</td>\n",
       "      <td>0.83</td>\n",
       "      <td>0.874231</td>\n",
       "      <td>897,940</td>\n",
       "      <td>64,046,216</td>\n",
       "    </tr>\n",
       "    <tr>\n",
       "      <th>4</th>\n",
       "      <td>18.Sep.15</td>\n",
       "      <td>0.874574</td>\n",
       "      <td>0.89</td>\n",
       "      <td>0.83</td>\n",
       "      <td>0.853685</td>\n",
       "      <td>484,622</td>\n",
       "      <td>62,561,883</td>\n",
       "    </tr>\n",
       "  </tbody>\n",
       "</table>\n",
       "</div>"
      ],
      "text/plain": [
       "        Date     Open*  High   Low   Close**   Volume  Market Cap\n",
       "0  14.Sep.15  0.940566  0.95  0.87  0.875622  741,085  64,084,135\n",
       "1  15.Sep.15  0.875189  1.05  0.88   0.94441  703,390  69,141,409\n",
       "2  16.Sep.15  0.941977  0.95  0.90  0.907175  615,593  66,437,873\n",
       "3  17.Sep.15  0.906865  0.91  0.83  0.874231  897,940  64,046,216\n",
       "4  18.Sep.15  0.874574  0.89  0.83  0.853685  484,622  62,561,883"
      ]
     },
     "execution_count": 5,
     "metadata": {},
     "output_type": "execute_result"
    }
   ],
   "source": [
    "data = pd.read_csv('dataset/etherium_TSdata.csv')\n",
    "data.head()"
   ]
  },
  {
   "cell_type": "markdown",
   "metadata": {},
   "source": [
    "## Compute Mid Price"
   ]
  },
  {
   "cell_type": "code",
   "execution_count": 6,
   "metadata": {},
   "outputs": [],
   "source": [
    "high_prices = data['High'].values\n",
    "low_prices = data['Low'].values\n",
    "mid_prices = (high_prices + low_prices) / 2"
   ]
  },
  {
   "cell_type": "markdown",
   "metadata": {},
   "source": [
    "## Create Windows\n",
    "\n",
    "Window: 50  \n",
    "최근 50일 데이터를 보고 다음을 예측한다."
   ]
  },
  {
   "cell_type": "code",
   "execution_count": 7,
   "metadata": {},
   "outputs": [],
   "source": [
    "seq_len = 10\n",
    "sequence_length = seq_len + 1\n",
    "\n",
    "result = []\n",
    "\n",
    "for index in range(len(mid_prices) - sequence_length):\n",
    "    #print(index)\n",
    "    result.append(mid_prices[index: index + sequence_length]) # slicing"
   ]
  },
  {
   "cell_type": "markdown",
   "metadata": {},
   "source": [
    "## Normalize Data\n",
    "\n",
    "모델이 잘 예측하게 함. \n",
    "\n",
    "### How?\n",
    "\n",
    "(맨 처음 값 - 해당 값) - 1 -> -1 해주는 이유는 처음 값을 0 으로 만들기 위함"
   ]
  },
  {
   "cell_type": "code",
   "execution_count": 8,
   "metadata": {
    "scrolled": true
   },
   "outputs": [
    {
     "name": "stdout",
     "output_type": "stream",
     "text": [
      "(1725, 10, 1) (91, 10, 1)\n",
      "(1725,) (91,)\n"
     ]
    }
   ],
   "source": [
    "normalized_data = []\n",
    "\n",
    "for window in result:\n",
    "    normalized_window = [((float(p) / float(window[0])) - 1) for p in window]\n",
    "    normalized_data.append(normalized_window)\n",
    "\n",
    "result = np.array(normalized_data)\n",
    "\n",
    "# split train and test data\n",
    "row = int(round(result.shape[0] * 0.95))\n",
    "train = result[:row, :]\n",
    "np.random.shuffle(train)\n",
    "\n",
    "x_train = train[:, :-1]\n",
    "x_train = np.reshape(x_train, (x_train.shape[0], x_train.shape[1], 1))\n",
    "y_train = train[:, -1]\n",
    "\n",
    "x_test = result[row:, :-1]\n",
    "x_test = np.reshape(x_test, (x_test.shape[0], x_test.shape[1], 1))\n",
    "y_test = result[row:, -1]\n",
    "\n",
    "print(x_train.shape, x_test.shape)\n",
    "print(y_train.shape, y_test.shape)"
   ]
  },
  {
   "cell_type": "markdown",
   "metadata": {},
   "source": [
    " ## Build a Model"
   ]
  },
  {
   "cell_type": "code",
   "execution_count": 9,
   "metadata": {
    "scrolled": true
   },
   "outputs": [
    {
     "name": "stdout",
     "output_type": "stream",
     "text": [
      "Model: \"sequential\"\n",
      "_________________________________________________________________\n",
      "Layer (type)                 Output Shape              Param #   \n",
      "=================================================================\n",
      "lstm (LSTM)                  (None, 10, 50)            10400     \n",
      "_________________________________________________________________\n",
      "lstm_1 (LSTM)                (None, 64)                29440     \n",
      "_________________________________________________________________\n",
      "dense (Dense)                (None, 1)                 65        \n",
      "=================================================================\n",
      "Total params: 39,905\n",
      "Trainable params: 39,905\n",
      "Non-trainable params: 0\n",
      "_________________________________________________________________\n"
     ]
    }
   ],
   "source": [
    "model = Sequential()\n",
    "\n",
    "model.add(LSTM(50, return_sequences=True, input_shape=(10, 1)))\n",
    "\n",
    "model.add(LSTM(64, return_sequences=False))\n",
    "\n",
    "model.add(Dense(1, activation='linear'))\n",
    "\n",
    "model.compile(loss='mse', optimizer='rmsprop')\n",
    "\n",
    "model.summary()"
   ]
  },
  {
   "cell_type": "markdown",
   "metadata": {},
   "source": [
    "## Training"
   ]
  },
  {
   "cell_type": "code",
   "execution_count": 10,
   "metadata": {
    "scrolled": true
   },
   "outputs": [
    {
     "name": "stdout",
     "output_type": "stream",
     "text": [
      "Epoch 1/100\n",
      "173/173 [==============================] - 2s 10ms/step - loss: 0.0204 - val_loss: 0.0046\n",
      "Epoch 2/100\n",
      "173/173 [==============================] - 1s 6ms/step - loss: 0.0096 - val_loss: 0.0033\n",
      "Epoch 3/100\n",
      "173/173 [==============================] - 1s 6ms/step - loss: 0.0067 - val_loss: 0.0021\n",
      "Epoch 4/100\n",
      "173/173 [==============================] - 1s 6ms/step - loss: 0.0051 - val_loss: 0.0021\n",
      "Epoch 5/100\n",
      "173/173 [==============================] - 1s 6ms/step - loss: 0.0044 - val_loss: 9.5345e-04\n",
      "Epoch 6/100\n",
      "173/173 [==============================] - 1s 6ms/step - loss: 0.0041 - val_loss: 9.4444e-04\n",
      "Epoch 7/100\n",
      "173/173 [==============================] - 1s 6ms/step - loss: 0.0039 - val_loss: 0.0020\n",
      "Epoch 8/100\n",
      "173/173 [==============================] - 1s 6ms/step - loss: 0.0038 - val_loss: 0.0012\n",
      "Epoch 9/100\n",
      "173/173 [==============================] - 1s 6ms/step - loss: 0.0037 - val_loss: 0.0017\n",
      "Epoch 10/100\n",
      "173/173 [==============================] - 1s 6ms/step - loss: 0.0035 - val_loss: 7.8712e-04\n",
      "Epoch 11/100\n",
      "173/173 [==============================] - 1s 6ms/step - loss: 0.0037 - val_loss: 8.8754e-04\n",
      "Epoch 12/100\n",
      "173/173 [==============================] - 1s 6ms/step - loss: 0.0036 - val_loss: 8.0307e-04\n",
      "Epoch 13/100\n",
      "173/173 [==============================] - 1s 6ms/step - loss: 0.0036 - val_loss: 8.5201e-04\n",
      "Epoch 14/100\n",
      "173/173 [==============================] - 1s 6ms/step - loss: 0.0036 - val_loss: 8.5122e-04\n",
      "Epoch 15/100\n",
      "173/173 [==============================] - 1s 6ms/step - loss: 0.0034 - val_loss: 0.0010\n",
      "Epoch 16/100\n",
      "173/173 [==============================] - 1s 6ms/step - loss: 0.0035 - val_loss: 7.8591e-04\n",
      "Epoch 17/100\n",
      "173/173 [==============================] - 1s 6ms/step - loss: 0.0035 - val_loss: 7.8697e-04\n",
      "Epoch 18/100\n",
      "173/173 [==============================] - 1s 6ms/step - loss: 0.0035 - val_loss: 9.5289e-04\n",
      "Epoch 19/100\n",
      "173/173 [==============================] - 1s 6ms/step - loss: 0.0035 - val_loss: 8.5618e-04\n",
      "Epoch 20/100\n",
      "173/173 [==============================] - 1s 6ms/step - loss: 0.0034 - val_loss: 0.0010\n",
      "Epoch 21/100\n",
      "173/173 [==============================] - 1s 6ms/step - loss: 0.0035 - val_loss: 9.9448e-04\n",
      "Epoch 22/100\n",
      "173/173 [==============================] - 1s 6ms/step - loss: 0.0034 - val_loss: 8.3419e-04\n",
      "Epoch 23/100\n",
      "173/173 [==============================] - 1s 6ms/step - loss: 0.0034 - val_loss: 8.1452e-04\n",
      "Epoch 24/100\n",
      "173/173 [==============================] - 1s 6ms/step - loss: 0.0033 - val_loss: 8.2453e-04\n",
      "Epoch 25/100\n",
      "173/173 [==============================] - 1s 6ms/step - loss: 0.0034 - val_loss: 7.8068e-04\n",
      "Epoch 26/100\n",
      "173/173 [==============================] - 1s 6ms/step - loss: 0.0033 - val_loss: 0.0013\n",
      "Epoch 27/100\n",
      "173/173 [==============================] - 1s 6ms/step - loss: 0.0034 - val_loss: 9.3585e-04\n",
      "Epoch 28/100\n",
      "173/173 [==============================] - 1s 6ms/step - loss: 0.0034 - val_loss: 8.9920e-04\n",
      "Epoch 29/100\n",
      "173/173 [==============================] - 1s 6ms/step - loss: 0.0034 - val_loss: 8.5906e-04\n",
      "Epoch 30/100\n",
      "173/173 [==============================] - 1s 6ms/step - loss: 0.0034 - val_loss: 0.0013\n",
      "Epoch 31/100\n",
      "173/173 [==============================] - 1s 6ms/step - loss: 0.0031 - val_loss: 0.0011\n",
      "Epoch 32/100\n",
      "173/173 [==============================] - 1s 6ms/step - loss: 0.0033 - val_loss: 8.8736e-04\n",
      "Epoch 33/100\n",
      "173/173 [==============================] - 1s 6ms/step - loss: 0.0034 - val_loss: 0.0013\n",
      "Epoch 34/100\n",
      "173/173 [==============================] - 1s 6ms/step - loss: 0.0032 - val_loss: 8.4834e-04\n",
      "Epoch 35/100\n",
      "173/173 [==============================] - 1s 6ms/step - loss: 0.0034 - val_loss: 9.6169e-04\n",
      "Epoch 36/100\n",
      "173/173 [==============================] - 1s 6ms/step - loss: 0.0034 - val_loss: 8.1777e-04\n",
      "Epoch 37/100\n",
      "173/173 [==============================] - 1s 6ms/step - loss: 0.0033 - val_loss: 8.3247e-04\n",
      "Epoch 38/100\n",
      "173/173 [==============================] - 1s 6ms/step - loss: 0.0033 - val_loss: 0.0011\n",
      "Epoch 39/100\n",
      "173/173 [==============================] - 1s 6ms/step - loss: 0.0033 - val_loss: 9.5154e-04\n",
      "Epoch 40/100\n",
      "173/173 [==============================] - 1s 6ms/step - loss: 0.0034 - val_loss: 7.9928e-04\n",
      "Epoch 41/100\n",
      "173/173 [==============================] - 1s 6ms/step - loss: 0.0034 - val_loss: 8.4486e-04\n",
      "Epoch 42/100\n",
      "173/173 [==============================] - 1s 6ms/step - loss: 0.0033 - val_loss: 8.5560e-04\n",
      "Epoch 43/100\n",
      "173/173 [==============================] - 1s 6ms/step - loss: 0.0032 - val_loss: 8.4755e-04\n",
      "Epoch 44/100\n",
      "173/173 [==============================] - 1s 6ms/step - loss: 0.0033 - val_loss: 8.0900e-04\n",
      "Epoch 45/100\n",
      "173/173 [==============================] - 1s 7ms/step - loss: 0.0033 - val_loss: 0.0010\n",
      "Epoch 46/100\n",
      "173/173 [==============================] - 1s 6ms/step - loss: 0.0032 - val_loss: 8.4840e-04\n",
      "Epoch 47/100\n",
      "173/173 [==============================] - 1s 6ms/step - loss: 0.0032 - val_loss: 0.0011\n",
      "Epoch 48/100\n",
      "173/173 [==============================] - 1s 6ms/step - loss: 0.0033 - val_loss: 8.1916e-04\n",
      "Epoch 49/100\n",
      "173/173 [==============================] - 1s 6ms/step - loss: 0.0033 - val_loss: 9.2326e-04\n",
      "Epoch 50/100\n",
      "173/173 [==============================] - 1s 6ms/step - loss: 0.0032 - val_loss: 8.8382e-04\n",
      "Epoch 51/100\n",
      "173/173 [==============================] - 1s 6ms/step - loss: 0.0032 - val_loss: 9.2055e-04\n",
      "Epoch 52/100\n",
      "173/173 [==============================] - 1s 6ms/step - loss: 0.0031 - val_loss: 0.0013\n",
      "Epoch 53/100\n",
      "173/173 [==============================] - 1s 6ms/step - loss: 0.0032 - val_loss: 0.0010\n",
      "Epoch 54/100\n",
      "173/173 [==============================] - 1s 6ms/step - loss: 0.0031 - val_loss: 8.0395e-04\n",
      "Epoch 55/100\n",
      "173/173 [==============================] - 1s 6ms/step - loss: 0.0032 - val_loss: 9.5838e-04\n",
      "Epoch 56/100\n",
      "173/173 [==============================] - 1s 6ms/step - loss: 0.0032 - val_loss: 8.3176e-04\n",
      "Epoch 57/100\n",
      "173/173 [==============================] - 1s 6ms/step - loss: 0.0032 - val_loss: 8.4901e-04\n",
      "Epoch 58/100\n",
      "173/173 [==============================] - 1s 6ms/step - loss: 0.0032 - val_loss: 0.0010\n",
      "Epoch 59/100\n",
      "173/173 [==============================] - 1s 6ms/step - loss: 0.0032 - val_loss: 0.0010\n",
      "Epoch 60/100\n",
      "173/173 [==============================] - 1s 6ms/step - loss: 0.0031 - val_loss: 0.0010\n",
      "Epoch 61/100\n",
      "173/173 [==============================] - 1s 6ms/step - loss: 0.0032 - val_loss: 0.0011\n",
      "Epoch 62/100\n",
      "173/173 [==============================] - 1s 6ms/step - loss: 0.0032 - val_loss: 0.0010\n",
      "Epoch 63/100\n",
      "173/173 [==============================] - 1s 6ms/step - loss: 0.0031 - val_loss: 8.2366e-04\n",
      "Epoch 64/100\n",
      "173/173 [==============================] - 1s 7ms/step - loss: 0.0031 - val_loss: 8.3989e-04\n",
      "Epoch 65/100\n",
      "173/173 [==============================] - 1s 6ms/step - loss: 0.0031 - val_loss: 7.9526e-04\n",
      "Epoch 66/100\n",
      "173/173 [==============================] - 1s 6ms/step - loss: 0.0031 - val_loss: 7.9854e-04\n",
      "Epoch 67/100\n",
      "173/173 [==============================] - 1s 6ms/step - loss: 0.0031 - val_loss: 9.4460e-04\n",
      "Epoch 68/100\n",
      "173/173 [==============================] - 1s 6ms/step - loss: 0.0030 - val_loss: 9.6905e-04\n",
      "Epoch 69/100\n",
      "173/173 [==============================] - 1s 6ms/step - loss: 0.0031 - val_loss: 0.0012\n",
      "Epoch 70/100\n",
      "173/173 [==============================] - 1s 6ms/step - loss: 0.0031 - val_loss: 0.0011\n",
      "Epoch 71/100\n",
      "173/173 [==============================] - 1s 7ms/step - loss: 0.0030 - val_loss: 8.2858e-04\n",
      "Epoch 72/100\n",
      "173/173 [==============================] - 1s 6ms/step - loss: 0.0031 - val_loss: 8.6035e-04\n",
      "Epoch 73/100\n",
      "173/173 [==============================] - 1s 7ms/step - loss: 0.0030 - val_loss: 8.4754e-04\n",
      "Epoch 74/100\n",
      "173/173 [==============================] - 1s 6ms/step - loss: 0.0030 - val_loss: 8.9088e-04\n",
      "Epoch 75/100\n",
      "173/173 [==============================] - 1s 6ms/step - loss: 0.0031 - val_loss: 8.2236e-04\n",
      "Epoch 76/100\n",
      "173/173 [==============================] - 1s 6ms/step - loss: 0.0030 - val_loss: 9.1915e-04\n",
      "Epoch 77/100\n",
      "173/173 [==============================] - 1s 6ms/step - loss: 0.0030 - val_loss: 9.8204e-04\n",
      "Epoch 78/100\n",
      "173/173 [==============================] - 1s 6ms/step - loss: 0.0030 - val_loss: 9.5827e-04\n",
      "Epoch 79/100\n"
     ]
    },
    {
     "name": "stdout",
     "output_type": "stream",
     "text": [
      "173/173 [==============================] - 1s 6ms/step - loss: 0.0029 - val_loss: 7.9578e-04\n",
      "Epoch 80/100\n",
      "173/173 [==============================] - 1s 6ms/step - loss: 0.0029 - val_loss: 0.0011\n",
      "Epoch 81/100\n",
      "173/173 [==============================] - 1s 6ms/step - loss: 0.0030 - val_loss: 8.3220e-04\n",
      "Epoch 82/100\n",
      "173/173 [==============================] - 1s 6ms/step - loss: 0.0030 - val_loss: 8.3976e-04\n",
      "Epoch 83/100\n",
      "173/173 [==============================] - 1s 6ms/step - loss: 0.0030 - val_loss: 8.8319e-04\n",
      "Epoch 84/100\n",
      "173/173 [==============================] - 1s 6ms/step - loss: 0.0029 - val_loss: 8.4979e-04\n",
      "Epoch 85/100\n",
      "173/173 [==============================] - 1s 6ms/step - loss: 0.0030 - val_loss: 8.2902e-04\n",
      "Epoch 86/100\n",
      "173/173 [==============================] - 1s 6ms/step - loss: 0.0029 - val_loss: 9.1250e-04\n",
      "Epoch 87/100\n",
      "173/173 [==============================] - 1s 6ms/step - loss: 0.0029 - val_loss: 8.9969e-04\n",
      "Epoch 88/100\n",
      "173/173 [==============================] - 1s 6ms/step - loss: 0.0030 - val_loss: 7.9174e-04\n",
      "Epoch 89/100\n",
      "173/173 [==============================] - 1s 6ms/step - loss: 0.0030 - val_loss: 8.1129e-04\n",
      "Epoch 90/100\n",
      "173/173 [==============================] - 1s 6ms/step - loss: 0.0030 - val_loss: 8.2364e-04\n",
      "Epoch 91/100\n",
      "173/173 [==============================] - 1s 6ms/step - loss: 0.0029 - val_loss: 8.5406e-04\n",
      "Epoch 92/100\n",
      "173/173 [==============================] - 1s 6ms/step - loss: 0.0029 - val_loss: 8.0843e-04\n",
      "Epoch 93/100\n",
      "173/173 [==============================] - 1s 6ms/step - loss: 0.0028 - val_loss: 8.6752e-04\n",
      "Epoch 94/100\n",
      "173/173 [==============================] - 1s 6ms/step - loss: 0.0029 - val_loss: 8.8382e-04\n",
      "Epoch 95/100\n",
      "173/173 [==============================] - 1s 7ms/step - loss: 0.0029 - val_loss: 8.3425e-04\n",
      "Epoch 96/100\n",
      "173/173 [==============================] - 1s 6ms/step - loss: 0.0030 - val_loss: 9.5932e-04\n",
      "Epoch 97/100\n",
      "173/173 [==============================] - 1s 6ms/step - loss: 0.0029 - val_loss: 9.0522e-04\n",
      "Epoch 98/100\n",
      "173/173 [==============================] - 1s 6ms/step - loss: 0.0029 - val_loss: 8.2630e-04\n",
      "Epoch 99/100\n",
      "173/173 [==============================] - 1s 6ms/step - loss: 0.0028 - val_loss: 7.8584e-04\n",
      "Epoch 100/100\n",
      "173/173 [==============================] - 1s 6ms/step - loss: 0.0029 - val_loss: 8.7077e-04\n"
     ]
    },
    {
     "data": {
      "text/plain": [
       "<tensorflow.python.keras.callbacks.History at 0x108efc1f0>"
      ]
     },
     "execution_count": 10,
     "metadata": {},
     "output_type": "execute_result"
    }
   ],
   "source": [
    "model.fit(x_train, y_train, validation_data=(x_test, y_test), batch_size=10, epochs=100)"
   ]
  },
  {
   "cell_type": "markdown",
   "metadata": {},
   "source": [
    "## Prediction"
   ]
  },
  {
   "cell_type": "code",
   "execution_count": 11,
   "metadata": {},
   "outputs": [],
   "source": [
    "pred = model.predict(x_test)\n",
    "\n",
    "# pred / y_test -> 2차원 이되, 일렬 데이터로 변경..\n",
    "#pred = pred.reshape(-1, 1)\n",
    "#y_test = y_test.reshape(-1, 1)"
   ]
  },
  {
   "cell_type": "code",
   "execution_count": 12,
   "metadata": {},
   "outputs": [
    {
     "data": {
      "image/png": "[encoded data removed]",
      "text/plain": [
       "<Figure size 1440x720 with 1 Axes>"
      ]
     },
     "metadata": {},
     "output_type": "display_data"
    }
   ],
   "source": [
    "fig = plt.figure(facecolor='white', figsize=(20, 10))\n",
    "ax = fig.add_subplot(111)\n",
    "ax.plot(y_test, label='True')\n",
    "ax.plot(pred, label='Prediction')\n",
    "ax.legend()\n",
    "plt.show()"
   ]
  },
  {
   "cell_type": "markdown",
   "metadata": {},
   "source": [
    "## 10 -> one epoch: 100 val_loss : 0.0007"
   ]
  },
  {
   "cell_type": "code",
   "execution_count": 16,
   "metadata": {},
   "outputs": [],
   "source": [
    "ax.legend?"
   ]
  },
  {
   "cell_type": "code",
   "execution_count": null,
   "metadata": {},
   "outputs": [],
   "source": []
  },
  {
   "cell_type": "code",
   "execution_count": null,
   "metadata": {},
   "outputs": [],
   "source": []
  }
 ],
 "metadata": {
  "kernelspec": {
   "display_name": "Python 3",
   "language": "python",
   "name": "python3"
  },
  "language_info": {
   "codemirror_mode": {
    "name": "ipython",
    "version": 3
   },
   "file_extension": ".py",
   "mimetype": "text/x-python",
   "name": "python",
   "nbconvert_exporter": "python",
   "pygments_lexer": "ipython3",
   "version": "3.8.3"
  }
 },
 "nbformat": 4,
 "nbformat_minor": 4
}
