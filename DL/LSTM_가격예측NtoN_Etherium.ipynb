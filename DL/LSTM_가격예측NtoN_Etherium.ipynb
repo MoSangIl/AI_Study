{
 "cells": [
  {
   "cell_type": "code",
   "execution_count": 1,
   "metadata": {},
   "outputs": [],
   "source": [
    "import pandas as pd\n",
    "import numpy as np\n",
    "import matplotlib.pyplot as plt\n",
    "from keras.models import Sequential\n",
    "from keras.layers import LSTM, Dropout, Dense, Activation\n",
    "\n",
    "import datetime"
   ]
  },
  {
   "cell_type": "code",
   "execution_count": 2,
   "metadata": {},
   "outputs": [
    {
     "data": {
      "text/html": [
       "<div>\n",
       "<style scoped>\n",
       "    .dataframe tbody tr th:only-of-type {\n",
       "        vertical-align: middle;\n",
       "    }\n",
       "\n",
       "    .dataframe tbody tr th {\n",
       "        vertical-align: top;\n",
       "    }\n",
       "\n",
       "    .dataframe thead th {\n",
       "        text-align: right;\n",
       "    }\n",
       "</style>\n",
       "<table border=\"1\" class=\"dataframe\">\n",
       "  <thead>\n",
       "    <tr style=\"text-align: right;\">\n",
       "      <th></th>\n",
       "      <th>Date</th>\n",
       "      <th>Open*</th>\n",
       "      <th>High</th>\n",
       "      <th>Low</th>\n",
       "      <th>Close**</th>\n",
       "      <th>Volume</th>\n",
       "      <th>Market Cap</th>\n",
       "    </tr>\n",
       "  </thead>\n",
       "  <tbody>\n",
       "    <tr>\n",
       "      <th>0</th>\n",
       "      <td>14.Sep.15</td>\n",
       "      <td>0.940566</td>\n",
       "      <td>0.95</td>\n",
       "      <td>0.87</td>\n",
       "      <td>0.875622</td>\n",
       "      <td>741,085</td>\n",
       "      <td>64,084,135</td>\n",
       "    </tr>\n",
       "    <tr>\n",
       "      <th>1</th>\n",
       "      <td>15.Sep.15</td>\n",
       "      <td>0.875189</td>\n",
       "      <td>1.05</td>\n",
       "      <td>0.88</td>\n",
       "      <td>0.94441</td>\n",
       "      <td>703,390</td>\n",
       "      <td>69,141,409</td>\n",
       "    </tr>\n",
       "    <tr>\n",
       "      <th>2</th>\n",
       "      <td>16.Sep.15</td>\n",
       "      <td>0.941977</td>\n",
       "      <td>0.95</td>\n",
       "      <td>0.90</td>\n",
       "      <td>0.907175</td>\n",
       "      <td>615,593</td>\n",
       "      <td>66,437,873</td>\n",
       "    </tr>\n",
       "    <tr>\n",
       "      <th>3</th>\n",
       "      <td>17.Sep.15</td>\n",
       "      <td>0.906865</td>\n",
       "      <td>0.91</td>\n",
       "      <td>0.83</td>\n",
       "      <td>0.874231</td>\n",
       "      <td>897,940</td>\n",
       "      <td>64,046,216</td>\n",
       "    </tr>\n",
       "    <tr>\n",
       "      <th>4</th>\n",
       "      <td>18.Sep.15</td>\n",
       "      <td>0.874574</td>\n",
       "      <td>0.89</td>\n",
       "      <td>0.83</td>\n",
       "      <td>0.853685</td>\n",
       "      <td>484,622</td>\n",
       "      <td>62,561,883</td>\n",
       "    </tr>\n",
       "  </tbody>\n",
       "</table>\n",
       "</div>"
      ],
      "text/plain": [
       "        Date     Open*  High   Low   Close**   Volume  Market Cap\n",
       "0  14.Sep.15  0.940566  0.95  0.87  0.875622  741,085  64,084,135\n",
       "1  15.Sep.15  0.875189  1.05  0.88   0.94441  703,390  69,141,409\n",
       "2  16.Sep.15  0.941977  0.95  0.90  0.907175  615,593  66,437,873\n",
       "3  17.Sep.15  0.906865  0.91  0.83  0.874231  897,940  64,046,216\n",
       "4  18.Sep.15  0.874574  0.89  0.83  0.853685  484,622  62,561,883"
      ]
     },
     "execution_count": 2,
     "metadata": {},
     "output_type": "execute_result"
    }
   ],
   "source": [
    "data = pd.read_csv('dataset/etherium_TSdata.csv')\n",
    "data.head()"
   ]
  },
  {
   "cell_type": "markdown",
   "metadata": {},
   "source": [
    "## Compute Mid Price"
   ]
  },
  {
   "cell_type": "code",
   "execution_count": 3,
   "metadata": {},
   "outputs": [],
   "source": [
    "high_prices = data['High'].values\n",
    "low_prices = data['Low'].values\n",
    "mid_prices = (high_prices + low_prices) / 2"
   ]
  },
  {
   "cell_type": "markdown",
   "metadata": {},
   "source": [
    "## Create Windows\n",
    "\n",
    "Window: 50  \n",
    "최근 50일 데이터를 보고 다음을 예측한다."
   ]
  },
  {
   "cell_type": "code",
   "execution_count": 4,
   "metadata": {},
   "outputs": [],
   "source": [
    "seq_len = 100\n",
    "sequence_length = seq_len + 10\n",
    "\n",
    "result = []\n",
    "\n",
    "for index in range((len(mid_prices) - sequence_length) // 10 + 1):\n",
    "    #print(index)\n",
    "    result.append(mid_prices[index*10: index*10 + sequence_length]) # slicing"
   ]
  },
  {
   "cell_type": "markdown",
   "metadata": {},
   "source": [
    "## Normalize Data\n",
    "\n",
    "모델이 잘 예측하게 함. \n",
    "\n",
    "### How?\n",
    "\n",
    "(맨 처음 값 - 해당 값) - 1 -> -1 해주는 이유는 처음 값을 0 으로 만들기 위함"
   ]
  },
  {
   "cell_type": "code",
   "execution_count": 5,
   "metadata": {
    "scrolled": true
   },
   "outputs": [
    {
     "name": "stdout",
     "output_type": "stream",
     "text": [
      "(155, 100, 1) (17, 100, 1)\n",
      "(155, 10) (17, 10)\n"
     ]
    }
   ],
   "source": [
    "normalized_data = []\n",
    "\n",
    "for window in result:\n",
    "    normalized_window = [((float(p) / float(window[0])) - 1) for p in window]\n",
    "    normalized_data.append(normalized_window)\n",
    "\n",
    "result = np.array(normalized_data)\n",
    "\n",
    "# split train and test data\n",
    "row = int(round(result.shape[0] * 0.9))\n",
    "train = result[:row, :]\n",
    "np.random.shuffle(train)\n",
    "\n",
    "x_train = train[:, :100]\n",
    "x_train = np.reshape(x_train, (x_train.shape[0], x_train.shape[1], 1))\n",
    "y_train = train[:, 100:]\n",
    "\n",
    "x_test = result[row:, :100]\n",
    "x_test = np.reshape(x_test, (x_test.shape[0], x_test.shape[1], 1))\n",
    "y_test = result[row:, 100:]\n",
    "\n",
    "print(x_train.shape, x_test.shape)\n",
    "print(y_train.shape, y_test.shape)"
   ]
  },
  {
   "cell_type": "markdown",
   "metadata": {},
   "source": [
    " ## Build a Model"
   ]
  },
  {
   "cell_type": "code",
   "execution_count": 6,
   "metadata": {
    "scrolled": true
   },
   "outputs": [
    {
     "name": "stdout",
     "output_type": "stream",
     "text": [
      "Model: \"sequential\"\n",
      "_________________________________________________________________\n",
      "Layer (type)                 Output Shape              Param #   \n",
      "=================================================================\n",
      "lstm (LSTM)                  (None, 100, 100)          40800     \n",
      "_________________________________________________________________\n",
      "lstm_1 (LSTM)                (None, 150)               150600    \n",
      "_________________________________________________________________\n",
      "dense (Dense)                (None, 10)                1510      \n",
      "=================================================================\n",
      "Total params: 192,910\n",
      "Trainable params: 192,910\n",
      "Non-trainable params: 0\n",
      "_________________________________________________________________\n"
     ]
    }
   ],
   "source": [
    "model = Sequential()\n",
    "\n",
    "model.add(LSTM(100, return_sequences=True, input_shape=(100, 1)))\n",
    "\n",
    "model.add(LSTM(150, return_sequences=False))\n",
    "\n",
    "model.add(Dense(10, activation='linear'))\n",
    "\n",
    "model.compile(loss='mse', optimizer='rmsprop')\n",
    "\n",
    "model.summary()"
   ]
  },
  {
   "cell_type": "markdown",
   "metadata": {},
   "source": [
    "## Training"
   ]
  },
  {
   "cell_type": "code",
   "execution_count": 7,
   "metadata": {
    "scrolled": true
   },
   "outputs": [
    {
     "name": "stdout",
     "output_type": "stream",
     "text": [
      "Epoch 1/100\n",
      "16/16 [==============================] - 2s 97ms/step - loss: 8.9884 - val_loss: 0.1720\n",
      "Epoch 2/100\n",
      "16/16 [==============================] - 1s 62ms/step - loss: 5.4066 - val_loss: 0.0996\n",
      "Epoch 3/100\n",
      "16/16 [==============================] - 1s 68ms/step - loss: 4.4444 - val_loss: 0.0649\n",
      "Epoch 4/100\n",
      "16/16 [==============================] - 1s 61ms/step - loss: 3.6825 - val_loss: 0.0537\n",
      "Epoch 5/100\n",
      "16/16 [==============================] - 1s 58ms/step - loss: 3.0708 - val_loss: 0.1114\n",
      "Epoch 6/100\n",
      "16/16 [==============================] - 1s 57ms/step - loss: 2.6973 - val_loss: 0.0661\n",
      "Epoch 7/100\n",
      "16/16 [==============================] - 1s 58ms/step - loss: 2.2689 - val_loss: 0.1019\n",
      "Epoch 8/100\n",
      "16/16 [==============================] - 1s 61ms/step - loss: 2.1293 - val_loss: 0.0526\n",
      "Epoch 9/100\n",
      "16/16 [==============================] - 1s 59ms/step - loss: 1.9656 - val_loss: 0.0776\n",
      "Epoch 10/100\n",
      "16/16 [==============================] - 1s 59ms/step - loss: 1.8308 - val_loss: 0.0626\n",
      "Epoch 11/100\n",
      "16/16 [==============================] - 1s 69ms/step - loss: 1.6664 - val_loss: 0.0435\n",
      "Epoch 12/100\n",
      "16/16 [==============================] - 1s 74ms/step - loss: 1.7822 - val_loss: 0.0356\n",
      "Epoch 13/100\n",
      "16/16 [==============================] - 1s 73ms/step - loss: 1.4928 - val_loss: 0.3074\n",
      "Epoch 14/100\n",
      "16/16 [==============================] - 1s 73ms/step - loss: 1.2533 - val_loss: 0.0475\n",
      "Epoch 15/100\n",
      "16/16 [==============================] - 1s 68ms/step - loss: 1.4092 - val_loss: 0.0414\n",
      "Epoch 16/100\n",
      "16/16 [==============================] - 1s 68ms/step - loss: 1.3678 - val_loss: 0.0515\n",
      "Epoch 17/100\n",
      "16/16 [==============================] - 1s 68ms/step - loss: 1.2744 - val_loss: 0.0419\n",
      "Epoch 18/100\n",
      "16/16 [==============================] - 1s 69ms/step - loss: 1.1786 - val_loss: 0.0428\n",
      "Epoch 19/100\n",
      "16/16 [==============================] - 1s 70ms/step - loss: 1.0451 - val_loss: 0.0407\n",
      "Epoch 20/100\n",
      "16/16 [==============================] - 1s 70ms/step - loss: 1.2241 - val_loss: 0.0308\n",
      "Epoch 21/100\n",
      "16/16 [==============================] - 1s 68ms/step - loss: 1.3354 - val_loss: 0.0444\n",
      "Epoch 22/100\n",
      "16/16 [==============================] - 1s 67ms/step - loss: 1.0490 - val_loss: 0.0713\n",
      "Epoch 23/100\n",
      "16/16 [==============================] - 1s 68ms/step - loss: 0.9872 - val_loss: 0.0622\n",
      "Epoch 24/100\n",
      "16/16 [==============================] - 1s 70ms/step - loss: 0.9561 - val_loss: 0.0373\n",
      "Epoch 25/100\n",
      "16/16 [==============================] - 1s 70ms/step - loss: 1.0950 - val_loss: 0.1078\n",
      "Epoch 26/100\n",
      "16/16 [==============================] - 1s 69ms/step - loss: 1.1705 - val_loss: 0.0330\n",
      "Epoch 27/100\n",
      "16/16 [==============================] - 1s 68ms/step - loss: 1.2614 - val_loss: 0.0631\n",
      "Epoch 28/100\n",
      "16/16 [==============================] - 1s 67ms/step - loss: 0.8382 - val_loss: 0.0506\n",
      "Epoch 29/100\n",
      "16/16 [==============================] - 1s 70ms/step - loss: 0.9618 - val_loss: 0.1000\n",
      "Epoch 30/100\n",
      "16/16 [==============================] - 1s 70ms/step - loss: 0.9817 - val_loss: 0.0385\n",
      "Epoch 31/100\n",
      "16/16 [==============================] - 1s 69ms/step - loss: 0.7634 - val_loss: 0.0263\n",
      "Epoch 32/100\n",
      "16/16 [==============================] - 1s 67ms/step - loss: 0.9273 - val_loss: 0.0417\n",
      "Epoch 33/100\n",
      "16/16 [==============================] - 1s 67ms/step - loss: 1.0674 - val_loss: 0.0383\n",
      "Epoch 34/100\n",
      "16/16 [==============================] - 1s 68ms/step - loss: 0.9095 - val_loss: 0.0518\n",
      "Epoch 35/100\n",
      "16/16 [==============================] - 1s 69ms/step - loss: 0.7705 - val_loss: 0.0295\n",
      "Epoch 36/100\n",
      "16/16 [==============================] - 1s 70ms/step - loss: 0.7115 - val_loss: 0.0412\n",
      "Epoch 37/100\n",
      "16/16 [==============================] - 1s 66ms/step - loss: 0.9937 - val_loss: 0.0298\n",
      "Epoch 38/100\n",
      "16/16 [==============================] - 1s 68ms/step - loss: 1.3323 - val_loss: 0.0555\n",
      "Epoch 39/100\n",
      "16/16 [==============================] - 1s 69ms/step - loss: 0.8589 - val_loss: 0.0348\n",
      "Epoch 40/100\n",
      "16/16 [==============================] - 1s 69ms/step - loss: 0.8219 - val_loss: 0.0420\n",
      "Epoch 41/100\n",
      "16/16 [==============================] - 1s 69ms/step - loss: 0.7230 - val_loss: 0.0415\n",
      "Epoch 42/100\n",
      "16/16 [==============================] - 1s 67ms/step - loss: 0.7694 - val_loss: 0.0398\n",
      "Epoch 43/100\n",
      "16/16 [==============================] - 1s 67ms/step - loss: 0.9296 - val_loss: 0.0754\n",
      "Epoch 44/100\n",
      "16/16 [==============================] - 1s 67ms/step - loss: 0.8311 - val_loss: 0.0251\n",
      "Epoch 45/100\n",
      "16/16 [==============================] - 1s 68ms/step - loss: 0.7858 - val_loss: 0.0336\n",
      "Epoch 46/100\n",
      "16/16 [==============================] - 1s 67ms/step - loss: 0.6959 - val_loss: 0.0274\n",
      "Epoch 47/100\n",
      "16/16 [==============================] - 1s 66ms/step - loss: 0.6559 - val_loss: 0.0226\n",
      "Epoch 48/100\n",
      "16/16 [==============================] - 1s 67ms/step - loss: 0.9754 - val_loss: 0.0201\n",
      "Epoch 49/100\n",
      "16/16 [==============================] - 1s 68ms/step - loss: 0.6483 - val_loss: 0.0566\n",
      "Epoch 50/100\n",
      "16/16 [==============================] - 1s 70ms/step - loss: 1.0840 - val_loss: 0.0230\n",
      "Epoch 51/100\n",
      "16/16 [==============================] - 1s 71ms/step - loss: 0.8988 - val_loss: 0.0661\n",
      "Epoch 52/100\n",
      "16/16 [==============================] - 1s 70ms/step - loss: 0.8692 - val_loss: 0.0432\n",
      "Epoch 53/100\n",
      "16/16 [==============================] - 1s 69ms/step - loss: 0.9632 - val_loss: 0.0300\n",
      "Epoch 54/100\n",
      "16/16 [==============================] - 1s 67ms/step - loss: 0.9172 - val_loss: 0.0375\n",
      "Epoch 55/100\n",
      "16/16 [==============================] - 1s 67ms/step - loss: 0.6266 - val_loss: 0.0260\n",
      "Epoch 56/100\n",
      "16/16 [==============================] - 1s 73ms/step - loss: 0.9163 - val_loss: 0.0310\n",
      "Epoch 57/100\n",
      "16/16 [==============================] - 1s 67ms/step - loss: 0.7865 - val_loss: 0.0571\n",
      "Epoch 58/100\n",
      "16/16 [==============================] - 1s 68ms/step - loss: 0.7412 - val_loss: 0.0332\n",
      "Epoch 59/100\n",
      "16/16 [==============================] - 1s 67ms/step - loss: 0.7687 - val_loss: 0.0317\n",
      "Epoch 60/100\n",
      "16/16 [==============================] - 1s 67ms/step - loss: 0.5897 - val_loss: 0.0692\n",
      "Epoch 61/100\n",
      "16/16 [==============================] - 1s 70ms/step - loss: 1.1315 - val_loss: 0.0271\n",
      "Epoch 62/100\n",
      "16/16 [==============================] - 1s 72ms/step - loss: 1.0889 - val_loss: 0.0378\n",
      "Epoch 63/100\n",
      "16/16 [==============================] - 1s 73ms/step - loss: 0.9675 - val_loss: 0.0249\n",
      "Epoch 64/100\n",
      "16/16 [==============================] - 1s 80ms/step - loss: 0.7498 - val_loss: 0.0264\n",
      "Epoch 65/100\n",
      "16/16 [==============================] - 1s 71ms/step - loss: 0.7893 - val_loss: 0.0441\n",
      "Epoch 66/100\n",
      "16/16 [==============================] - 1s 70ms/step - loss: 0.8007 - val_loss: 0.0303\n",
      "Epoch 67/100\n",
      "16/16 [==============================] - 1s 68ms/step - loss: 0.6991 - val_loss: 0.0433\n",
      "Epoch 68/100\n",
      "16/16 [==============================] - 1s 70ms/step - loss: 0.6597 - val_loss: 0.0273\n",
      "Epoch 69/100\n",
      "16/16 [==============================] - 1s 71ms/step - loss: 0.6953 - val_loss: 0.0315\n",
      "Epoch 70/100\n",
      "16/16 [==============================] - 1s 68ms/step - loss: 0.6047 - val_loss: 0.0383\n",
      "Epoch 71/100\n",
      "16/16 [==============================] - 1s 70ms/step - loss: 0.6249 - val_loss: 0.0326\n",
      "Epoch 72/100\n",
      "16/16 [==============================] - 1s 69ms/step - loss: 0.8456 - val_loss: 0.0297\n",
      "Epoch 73/100\n",
      "16/16 [==============================] - 1s 69ms/step - loss: 0.5080 - val_loss: 0.0477\n",
      "Epoch 74/100\n",
      "16/16 [==============================] - 1s 67ms/step - loss: 0.8062 - val_loss: 0.0519\n",
      "Epoch 75/100\n",
      "16/16 [==============================] - 1s 70ms/step - loss: 0.4407 - val_loss: 0.0255\n",
      "Epoch 76/100\n",
      "16/16 [==============================] - 1s 66ms/step - loss: 0.5096 - val_loss: 0.0290\n",
      "Epoch 77/100\n",
      "16/16 [==============================] - 1s 68ms/step - loss: 0.5185 - val_loss: 0.0265\n",
      "Epoch 78/100\n",
      "16/16 [==============================] - 1s 66ms/step - loss: 0.5529 - val_loss: 0.0468\n",
      "Epoch 79/100\n",
      "16/16 [==============================] - 1s 67ms/step - loss: 0.5609 - val_loss: 0.0276\n",
      "Epoch 80/100\n",
      "16/16 [==============================] - 1s 70ms/step - loss: 0.4143 - val_loss: 0.0381\n",
      "Epoch 81/100\n",
      "16/16 [==============================] - 1s 69ms/step - loss: 0.3894 - val_loss: 0.0518\n",
      "Epoch 82/100\n"
     ]
    },
    {
     "name": "stdout",
     "output_type": "stream",
     "text": [
      "16/16 [==============================] - 1s 66ms/step - loss: 0.4308 - val_loss: 0.0449\n",
      "Epoch 83/100\n",
      "16/16 [==============================] - 1s 71ms/step - loss: 0.3648 - val_loss: 0.0450\n",
      "Epoch 84/100\n",
      "16/16 [==============================] - 1s 72ms/step - loss: 0.6685 - val_loss: 0.0254\n",
      "Epoch 85/100\n",
      "16/16 [==============================] - 1s 67ms/step - loss: 0.6768 - val_loss: 0.0312\n",
      "Epoch 86/100\n",
      "16/16 [==============================] - 1s 66ms/step - loss: 0.5883 - val_loss: 0.0291\n",
      "Epoch 87/100\n",
      "16/16 [==============================] - 1s 62ms/step - loss: 0.6192 - val_loss: 0.0503\n",
      "Epoch 88/100\n",
      "16/16 [==============================] - 1s 69ms/step - loss: 0.4268 - val_loss: 0.0389\n",
      "Epoch 89/100\n",
      "16/16 [==============================] - 1s 59ms/step - loss: 0.3742 - val_loss: 0.0475\n",
      "Epoch 90/100\n",
      "16/16 [==============================] - 1s 64ms/step - loss: 0.4209 - val_loss: 0.0387\n",
      "Epoch 91/100\n",
      "16/16 [==============================] - 1s 62ms/step - loss: 0.4312 - val_loss: 0.0427\n",
      "Epoch 92/100\n",
      "16/16 [==============================] - 1s 72ms/step - loss: 0.3684 - val_loss: 0.0405\n",
      "Epoch 93/100\n",
      "16/16 [==============================] - 1s 71ms/step - loss: 0.3607 - val_loss: 0.0277\n",
      "Epoch 94/100\n",
      "16/16 [==============================] - 1s 71ms/step - loss: 0.2640 - val_loss: 0.0260\n",
      "Epoch 95/100\n",
      "16/16 [==============================] - 1s 69ms/step - loss: 0.2032 - val_loss: 0.0607\n",
      "Epoch 96/100\n",
      "16/16 [==============================] - 1s 69ms/step - loss: 0.2025 - val_loss: 0.0317\n",
      "Epoch 97/100\n",
      "16/16 [==============================] - 1s 69ms/step - loss: 0.8909 - val_loss: 0.1241\n",
      "Epoch 98/100\n",
      "16/16 [==============================] - 1s 69ms/step - loss: 0.7153 - val_loss: 0.0563\n",
      "Epoch 99/100\n",
      "16/16 [==============================] - 1s 70ms/step - loss: 0.9464 - val_loss: 0.0328\n",
      "Epoch 100/100\n",
      "16/16 [==============================] - 1s 69ms/step - loss: 0.3833 - val_loss: 0.0415\n"
     ]
    },
    {
     "data": {
      "text/plain": [
       "<tensorflow.python.keras.callbacks.History at 0x13873c550>"
      ]
     },
     "execution_count": 7,
     "metadata": {},
     "output_type": "execute_result"
    }
   ],
   "source": [
    "model.fit(x_train, y_train, validation_data=(x_test, y_test), batch_size=10, epochs=100)"
   ]
  },
  {
   "cell_type": "markdown",
   "metadata": {},
   "source": [
    "## Prediction"
   ]
  },
  {
   "cell_type": "code",
   "execution_count": 8,
   "metadata": {},
   "outputs": [],
   "source": [
    "pred = model.predict(x_test)\n",
    "\n",
    "# pred / y_test -> 2차원 이되, 일렬 데이터로 변경..\n",
    "pred = pred.reshape(-1, 1)\n",
    "y_test = y_test.reshape(-1, 1)"
   ]
  },
  {
   "cell_type": "code",
   "execution_count": 9,
   "metadata": {},
   "outputs": [
    {
     "data": {
      "image/png": "[encoded data removed]",
      "text/plain": [
       "<Figure size 1440x720 with 1 Axes>"
      ]
     },
     "metadata": {},
     "output_type": "display_data"
    }
   ],
   "source": [
    "fig = plt.figure(facecolor='white', figsize=(20, 10))\n",
    "ax = fig.add_subplot(111)\n",
    "ax.plot(y_test, label='True')\n",
    "ax.plot(pred, label='Prediction')\n",
    "ax.legend()\n",
    "plt.show()"
   ]
  },
  {
   "cell_type": "markdown",
   "metadata": {},
   "source": [
    "## 100 -> 10"
   ]
  },
  {
   "cell_type": "code",
   "execution_count": 16,
   "metadata": {},
   "outputs": [],
   "source": [
    "ax.legend?"
   ]
  },
  {
   "cell_type": "code",
   "execution_count": null,
   "metadata": {},
   "outputs": [],
   "source": []
  },
  {
   "cell_type": "code",
   "execution_count": null,
   "metadata": {},
   "outputs": [],
   "source": []
  }
 ],
 "metadata": {
  "kernelspec": {
   "display_name": "Python 3",
   "language": "python",
   "name": "python3"
  },
  "language_info": {
   "codemirror_mode": {
    "name": "ipython",
    "version": 3
   },
   "file_extension": ".py",
   "mimetype": "text/x-python",
   "name": "python",
   "nbconvert_exporter": "python",
   "pygments_lexer": "ipython3",
   "version": "3.8.3"
  }
 },
 "nbformat": 4,
 "nbformat_minor": 4
}
