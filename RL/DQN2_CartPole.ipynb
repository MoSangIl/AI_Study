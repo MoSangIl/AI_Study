{
 "cells": [
  {
   "cell_type": "code",
   "execution_count": 2,
   "metadata": {},
   "outputs": [
    {
     "name": "stdout",
     "output_type": "stream",
     "text": [
      "/Users/sangilmo/.zshenv:source:1: no such file or directory: /Users/sangilmo/.zsh/BlaCk-Void.zshenv\n",
      "Collecting gym\n",
      "  Downloading gym-0.17.2.tar.gz (1.6 MB)\n",
      "\u001b[K     |████████████████████████████████| 1.6 MB 851 kB/s eta 0:00:01\n",
      "\u001b[?25hRequirement already satisfied: scipy in /Users/sangilmo/opt/anaconda3/lib/python3.8/site-packages (from gym) (1.4.1)\n",
      "Requirement already satisfied: numpy>=1.10.4 in /Users/sangilmo/opt/anaconda3/lib/python3.8/site-packages (from gym) (1.18.5)\n",
      "Collecting pyglet<=1.5.0,>=1.4.0\n",
      "  Downloading pyglet-1.5.0-py2.py3-none-any.whl (1.0 MB)\n",
      "\u001b[K     |████████████████████████████████| 1.0 MB 1.5 MB/s eta 0:00:01\n",
      "\u001b[?25hCollecting cloudpickle<1.4.0,>=1.2.0\n",
      "  Downloading cloudpickle-1.3.0-py2.py3-none-any.whl (26 kB)\n",
      "Requirement already satisfied: future in /Users/sangilmo/opt/anaconda3/lib/python3.8/site-packages (from pyglet<=1.5.0,>=1.4.0->gym) (0.18.2)\n",
      "Building wheels for collected packages: gym\n",
      "\u001b[33m  WARNING: Building wheel for gym failed: [Errno 13] Permission denied: '/Users/sangilmo/Library/Caches/pip/wheels/48'\u001b[0m\n",
      "Failed to build gym\n",
      "\u001b[31mERROR: spyder 4.1.4 requires pyqt5<5.13; python_version >= \"3\", which is not installed.\u001b[0m\n",
      "\u001b[31mERROR: spyder 4.1.4 requires pyqtwebengine<5.13; python_version >= \"3\", which is not installed.\u001b[0m\n",
      "Installing collected packages: pyglet, cloudpickle, gym\n",
      "  Attempting uninstall: cloudpickle\n",
      "    Found existing installation: cloudpickle 1.5.0\n",
      "    Uninstalling cloudpickle-1.5.0:\n",
      "      Successfully uninstalled cloudpickle-1.5.0\n",
      "    Running setup.py install for gym ... \u001b[?25ldone\n",
      "\u001b[?25hSuccessfully installed cloudpickle-1.3.0 gym-0.17.2 pyglet-1.5.0\n"
     ]
    }
   ],
   "source": [
    "!pip install gym"
   ]
  },
  {
   "cell_type": "markdown",
   "metadata": {},
   "source": [
    "## Q-Network"
   ]
  },
  {
   "cell_type": "code",
   "execution_count": 8,
   "metadata": {},
   "outputs": [],
   "source": [
    "import numpy as np\n",
    "import matplotlib.pyplot as plt\n",
    "import tensorflow.compat.v1 as tf\n",
    "\n",
    "import random\n",
    "import gym"
   ]
  },
  {
   "cell_type": "code",
   "execution_count": 9,
   "metadata": {},
   "outputs": [],
   "source": [
    "env = gym.make('CartPole-v1')"
   ]
  },
  {
   "cell_type": "code",
   "execution_count": 10,
   "metadata": {},
   "outputs": [],
   "source": [
    "n_input = env.observation_space.shape[0] #4\n",
    "n_actions = env.action_space.n #2\n",
    "n_output = n_actions\n",
    "\n",
    "n_hidden1 = 100\n",
    "n_hidden2 = 50"
   ]
  },
  {
   "cell_type": "code",
   "execution_count": 12,
   "metadata": {},
   "outputs": [],
   "source": [
    "tf.disable_eager_execution()\n",
    "x = tf.placeholder(tf.float32, [None, n_input])\n",
    "y = tf.placeholder(tf.float32, [None, n_output])"
   ]
  },
  {
   "cell_type": "code",
   "execution_count": 13,
   "metadata": {},
   "outputs": [],
   "source": [
    "weights = {\n",
    "    'hidden1' : tf.Variable(tf.random_normal([n_input, n_hidden1], stddev = 0.01)),\n",
    "    'hidden2' : tf.Variable(tf.random_normal([n_hidden1, n_hidden2], stddev = 0.01)),\n",
    "    'output' : tf.Variable(tf.random_normal([n_hidden2, n_output], stddev = 0.01))\n",
    "}\n",
    "\n",
    "biases = {\n",
    "    'hidden1' : tf.Variable(tf.random_normal([n_hidden1], stddev = 0.01)),\n",
    "    'hidden2' : tf.Variable(tf.random_normal([n_hidden2], stddev = 0.01)),\n",
    "    'output' : tf.Variable(tf.random_normal([n_output], stddev = 0.01))\n",
    "}"
   ]
  },
  {
   "cell_type": "code",
   "execution_count": 14,
   "metadata": {},
   "outputs": [],
   "source": [
    "def Qnet(x, weights, biases):\n",
    "    hidden1 = tf.add(tf.matmul(x, weights['hidden1']), biases['hidden1'])\n",
    "    hidden1 = tf.nn.relu(hidden1)\n",
    "    \n",
    "    hidden2 = tf.add(tf.matmul(hidden1, weights['hidden2']), biases['hidden2'])\n",
    "    hidden2 = tf.nn.relu(hidden2)\n",
    "    \n",
    "    output = tf.add(tf.matmul(hidden2, weights['output']), biases['output'])\n",
    "    return output"
   ]
  },
  {
   "cell_type": "code",
   "execution_count": 15,
   "metadata": {},
   "outputs": [],
   "source": [
    "Qpred = Qnet(x, weights, biases)\n",
    "loss = tf.reduce_mean(tf.square(y - Qpred))\n",
    "\n",
    "LR = 0.001\n",
    "optm = tf.train.AdamOptimizer(LR).minimize(loss)"
   ]
  },
  {
   "cell_type": "code",
   "execution_count": 17,
   "metadata": {},
   "outputs": [],
   "source": [
    "sess = tf.Session()\n",
    "init = tf.global_variables_initializer()\n",
    "sess.run(init)"
   ]
  },
  {
   "cell_type": "code",
   "execution_count": 23,
   "metadata": {},
   "outputs": [
    {
     "name": "stdout",
     "output_type": "stream",
     "text": [
      "[ 0.02054273 -0.04727981 -0.04601002 -0.00252249]\n",
      "[[ 0.02054273 -0.04727981 -0.04601002 -0.00252249]]\n",
      "[[-0.0014436   0.01629434]]\n"
     ]
    }
   ],
   "source": [
    "state = env.reset()\n",
    "print(state)\n",
    "\n",
    "state = np.reshape(state, [1, 4])\n",
    "print(state)\n",
    "\n",
    "Q = sess.run(Qpred, feed_dict={x:state})\n",
    "print(Q)"
   ]
  },
  {
   "cell_type": "code",
   "execution_count": 24,
   "metadata": {},
   "outputs": [
    {
     "name": "stdout",
     "output_type": "stream",
     "text": [
      "Episode: 0 steps: 9\n",
      "Episode: 100 steps: 20\n",
      "Episode: 200 steps: 49\n",
      "Episode: 300 steps: 29\n",
      "Episode: 400 steps: 63\n",
      "Episode: 500 steps: 110\n"
     ]
    }
   ],
   "source": [
    "gamma = 0.9\n",
    "\n",
    "for episode in range(501):\n",
    "    \n",
    "    done = False\n",
    "    state = env.reset()\n",
    "    \n",
    "    count = 0\n",
    "    \n",
    "    while not done:\n",
    "        \n",
    "        count += 1\n",
    "        state = np.reshape(state, [1, 4])\n",
    "        Q = sess.run(Qpred, feed_dict = {x:state})\n",
    "        \n",
    "        epsilon = 0.1\n",
    "        if np.random.uniform() < epsilon:\n",
    "            a = env.action_space.sample()\n",
    "        else:\n",
    "            a = np.argmax(Q)\n",
    "            \n",
    "        next_state, reward, done, _ = env.step(a)\n",
    "        \n",
    "        if done:\n",
    "            reward = -200\n",
    "            Q[0][a] = reward\n",
    "        else:\n",
    "            next_state = np.reshape(next_state, [1, n_input])\n",
    "            next_Q = sess.run(Qpred, feed_dict = {x:next_state})\n",
    "            Q[0][a] = reward + gamma*np.max(next_Q)\n",
    "        \n",
    "        sess.run(optm, feed_dict = {x: state, y: Q})\n",
    "        state = next_state\n",
    "    \n",
    "    if episode % 100 == 0:\n",
    "        print(\"Episode: {} steps: {}\".format(episode, count))\n",
    "\n",
    "env.close()"
   ]
  },
  {
   "cell_type": "code",
   "execution_count": 32,
   "metadata": {},
   "outputs": [],
   "source": [
    "state = env.reset()\n",
    "\n",
    "done = False\n",
    "\n",
    "while not done:\n",
    "    env.render()\n",
    "    \n",
    "    state = np.reshape(state, [1, n_input])\n",
    "    Q = sess.run(Qpred, feed_dict={x:state})\n",
    "    action = np.argmax(Q)\n",
    "    \n",
    "    next_state, reward, done, _ = env.step(action)\n",
    "    state = next_state\n",
    "    \n",
    "    \n",
    "env.close()"
   ]
  },
  {
   "cell_type": "markdown",
   "metadata": {},
   "source": [
    "## DQN\n",
    "\n",
    "Buffer (Experience Replay)를 사용하여 업데이트 한다. -> 더 효율적. "
   ]
  },
  {
   "cell_type": "code",
   "execution_count": 55,
   "metadata": {},
   "outputs": [],
   "source": [
    "import numpy as np\n",
    "import matplotlib.pyplot as plt\n",
    "import tensorflow.compat.v1 as tf\n",
    "\n",
    "import random\n",
    "from collections import deque\n",
    "import gym\n",
    "%matplotlib inline"
   ]
  },
  {
   "cell_type": "code",
   "execution_count": 56,
   "metadata": {},
   "outputs": [],
   "source": [
    "env = gym.make('CartPole-v1')"
   ]
  },
  {
   "cell_type": "code",
   "execution_count": 57,
   "metadata": {},
   "outputs": [],
   "source": [
    "n_input = env.observation_space.shape[0] #4\n",
    "n_actions = env.action_space.n #2\n",
    "n_output = n_actions\n",
    "\n",
    "n_hidden1 = 100\n",
    "n_hidden2 = 50"
   ]
  },
  {
   "cell_type": "code",
   "execution_count": 58,
   "metadata": {},
   "outputs": [],
   "source": [
    "tf.disable_eager_execution()\n",
    "x = tf.placeholder(tf.float32, [None, n_input])\n",
    "y = tf.placeholder(tf.float32, [None, n_output])"
   ]
  },
  {
   "cell_type": "code",
   "execution_count": 59,
   "metadata": {},
   "outputs": [],
   "source": [
    "weights = {\n",
    "    'hidden1' : tf.Variable(tf.random_normal([n_input, n_hidden1], stddev = 0.01)),\n",
    "    'hidden2' : tf.Variable(tf.random_normal([n_hidden1, n_hidden2], stddev = 0.01)),\n",
    "    'output' : tf.Variable(tf.random_normal([n_hidden2, n_output], stddev = 0.01))\n",
    "}\n",
    "\n",
    "biases = {\n",
    "    'hidden1' : tf.Variable(tf.random_normal([n_hidden1], stddev = 0.01)),\n",
    "    'hidden2' : tf.Variable(tf.random_normal([n_hidden2], stddev = 0.01)),\n",
    "    'output' : tf.Variable(tf.random_normal([n_output], stddev = 0.01))\n",
    "}"
   ]
  },
  {
   "cell_type": "code",
   "execution_count": 60,
   "metadata": {},
   "outputs": [],
   "source": [
    "def Qnet(x, weights, biases):\n",
    "    hidden1 = tf.add(tf.matmul(x, weights['hidden1']), biases['hidden1'])\n",
    "    hidden1 = tf.nn.relu(hidden1)\n",
    "    \n",
    "    hidden2 = tf.add(tf.matmul(hidden1, weights['hidden2']), biases['hidden2'])\n",
    "    hidden2 = tf.nn.relu(hidden2)\n",
    "    \n",
    "    output = tf.add(tf.matmul(hidden2, weights['output']), biases['output'])\n",
    "    return output"
   ]
  },
  {
   "cell_type": "code",
   "execution_count": 61,
   "metadata": {},
   "outputs": [],
   "source": [
    "Qpred = Qnet(x, weights, biases)\n",
    "loss = tf.reduce_mean(tf.square(y - Qpred))\n",
    "\n",
    "LR = 0.001\n",
    "optm = tf.train.AdamOptimizer(LR).minimize(loss)"
   ]
  },
  {
   "cell_type": "code",
   "execution_count": 62,
   "metadata": {},
   "outputs": [],
   "source": [
    "sess = tf.Session()\n",
    "init = tf.global_variables_initializer()\n",
    "sess.run(init)"
   ]
  },
  {
   "cell_type": "code",
   "execution_count": 63,
   "metadata": {
    "scrolled": true
   },
   "outputs": [
    {
     "name": "stdout",
     "output_type": "stream",
     "text": [
      "Episode: 1 steps: 10\n",
      "Episode: 201 steps: 78\n",
      "Episode: 401 steps: 121\n",
      "Episode: 601 steps: 148\n",
      "Episode: 801 steps: 56\n",
      "Episode: 1001 steps: 500\n",
      "Episode: 1201 steps: 201\n",
      "Episode: 1401 steps: 500\n",
      "Episode: 1601 steps: 500\n",
      "Episode: 1801 steps: 500\n"
     ]
    }
   ],
   "source": [
    "replay_buffer = []\n",
    "n_buffer = 5000\n",
    "n_batch = 10 #10개씩 샘플링하여 배치프로세스를 진행한다.\n",
    "\n",
    "gamma = 0.9\n",
    "\n",
    "for episode in range(2001):\n",
    "    \n",
    "    done = False\n",
    "    state = env.reset()\n",
    "    \n",
    "    count = 0\n",
    "    \n",
    "    while not done:\n",
    "        \n",
    "        count += 1\n",
    "        state = np.reshape(state, [1, 4])\n",
    "        Q = sess.run(Qpred, feed_dict = {x:state})\n",
    "        \n",
    "        epsilon = 0.1\n",
    "        if np.random.uniform() < epsilon:\n",
    "            a = env.action_space.sample()\n",
    "        else:\n",
    "            a = np.argmax(Q)\n",
    "            \n",
    "        next_state, reward, done, _ = env.step(a)\n",
    "        \n",
    "        if done:\n",
    "            reward = -200\n",
    "#             Q[0][a] = reward\n",
    "#             next_state = np.zeros(state.shape) # 다음 시뮬레이션에서 없음\n",
    "        \n",
    "        # 버퍼에 저장!\n",
    "        replay_buffer.append([state, a, reward, next_state, done]) \n",
    "        \n",
    "        if len(replay_buffer) > n_buffer:\n",
    "            replay_buffer.pop(0)\n",
    "        \n",
    "        state = next_state\n",
    "    \n",
    "    if episode % n_batch == 1:\n",
    "        for _ in range(50):\n",
    "            # learning\n",
    "            if len(replay_buffer) < n_batch:\n",
    "                break\n",
    "\n",
    "            minibatch = random.sample(replay_buffer, n_batch)\n",
    "\n",
    "            x_stack = np.empty(0).reshape(0, n_input)\n",
    "            y_stack = np.empty(0).reshape(0, n_output)\n",
    "\n",
    "            for state, action, reward, next_state, done in minibatch:\n",
    "                Q = sess.run(Qpred, feed_dict = {x: np.reshape(state, [1, n_input])})\n",
    "\n",
    "                if done:\n",
    "                    Q[0][action] = reward\n",
    "                else:\n",
    "                    next_Q = sess.run(Qpred, feed_dict = {x: np.reshape(next_state, [1, n_input])})\n",
    "                    Q[0][action] = reward + gamma*np.max(next_Q)\n",
    "\n",
    "                x_stack = np.vstack([x_stack, state])\n",
    "                y_stack = np.vstack([y_stack, Q])\n",
    "\n",
    "            sess.run(optm, feed_dict = {x: x_stack, y: y_stack})\n",
    "\n",
    "\n",
    "    if episode % 200 == 1:\n",
    "        print(\"Episode: {} steps: {}\".format(episode, count))\n",
    "\n",
    "env.close()"
   ]
  },
  {
   "cell_type": "code",
   "execution_count": 76,
   "metadata": {},
   "outputs": [],
   "source": [
    "state = env.reset()\n",
    "\n",
    "done = False\n",
    "\n",
    "while not done:\n",
    "    env.render()\n",
    "    \n",
    "    state = np.reshape(state, [1, n_input])\n",
    "    Q = sess.run(Qpred, feed_dict={x:state})\n",
    "    action = np.argmax(Q)\n",
    "    \n",
    "    next_state, reward, done, _ = env.step(action)\n",
    "    state = next_state\n",
    "    \n",
    "    \n",
    "env.close()"
   ]
  },
  {
   "cell_type": "code",
   "execution_count": null,
   "metadata": {},
   "outputs": [],
   "source": []
  }
 ],
 "metadata": {
  "kernelspec": {
   "display_name": "Python 3",
   "language": "python",
   "name": "python3"
  },
  "language_info": {
   "codemirror_mode": {
    "name": "ipython",
    "version": 3
   },
   "file_extension": ".py",
   "mimetype": "text/x-python",
   "name": "python",
   "nbconvert_exporter": "python",
   "pygments_lexer": "ipython3",
   "version": "3.8.3"
  }
 },
 "nbformat": 4,
 "nbformat_minor": 4
}
