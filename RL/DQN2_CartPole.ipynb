{
 "cells": [
  {
   "cell_type": "code",
   "execution_count": 1,
   "metadata": {},
   "outputs": [],
   "source": [
    "#!pip install gym"
   ]
  },
  {
   "cell_type": "markdown",
   "metadata": {},
   "source": [
    "## Q-Network\n",
    "\n",
    "Neural Network 에 기반하여 DeepLearning 알고리즘을 사용해 푼다.  "
   ]
  },
  {
   "cell_type": "code",
   "execution_count": 1,
   "metadata": {},
   "outputs": [],
   "source": [
    "import numpy as np\n",
    "import matplotlib.pyplot as plt\n",
    "import tensorflow.compat.v1 as tf\n",
    "\n",
    "import random\n",
    "import gym"
   ]
  },
  {
   "cell_type": "code",
   "execution_count": 2,
   "metadata": {},
   "outputs": [],
   "source": [
    "env = gym.make('CartPole-v1')"
   ]
  },
  {
   "cell_type": "markdown",
   "metadata": {},
   "source": [
    "## Set The Variables for Network\n",
    "\n",
    "Number of Each Network's input, output"
   ]
  },
  {
   "cell_type": "code",
   "execution_count": 3,
   "metadata": {},
   "outputs": [],
   "source": [
    "n_input = env.observation_space.shape[0] #4\n",
    "n_actions = env.action_space.n #2\n",
    "n_output = n_actions\n",
    "\n",
    "n_hidden1 = 100\n",
    "n_hidden2 = 50"
   ]
  },
  {
   "cell_type": "markdown",
   "metadata": {},
   "source": [
    "Train 을 위한 Parameters (데이터 셋)"
   ]
  },
  {
   "cell_type": "code",
   "execution_count": 4,
   "metadata": {},
   "outputs": [],
   "source": [
    "tf.disable_eager_execution()\n",
    "x = tf.placeholder(tf.float32, [None, n_input])\n",
    "y = tf.placeholder(tf.float32, [None, n_output])"
   ]
  },
  {
   "cell_type": "markdown",
   "metadata": {},
   "source": [
    "Network 에 대해 Weight and Biase 정의 (Hidden1, Hidden2, Output)"
   ]
  },
  {
   "cell_type": "code",
   "execution_count": 5,
   "metadata": {},
   "outputs": [
    {
     "name": "stdout",
     "output_type": "stream",
     "text": [
      "WARNING:tensorflow:From C:\\Users\\mosan\\.conda\\envs\\venv\\lib\\site-packages\\tensorflow\\python\\ops\\resource_variable_ops.py:1666: calling BaseResourceVariable.__init__ (from tensorflow.python.ops.resource_variable_ops) with constraint is deprecated and will be removed in a future version.\n",
      "Instructions for updating:\n",
      "If using Keras pass *_constraint arguments to layers.\n"
     ]
    }
   ],
   "source": [
    "weights = {\n",
    "    'hidden1' : tf.Variable(tf.random_normal([n_input, n_hidden1], stddev = 0.01)),\n",
    "    'hidden2' : tf.Variable(tf.random_normal([n_hidden1, n_hidden2], stddev = 0.01)),\n",
    "    'output' : tf.Variable(tf.random_normal([n_hidden2, n_output], stddev = 0.01))\n",
    "}\n",
    "\n",
    "biases = {\n",
    "    'hidden1' : tf.Variable(tf.random_normal([n_hidden1], stddev = 0.01)),\n",
    "    'hidden2' : tf.Variable(tf.random_normal([n_hidden2], stddev = 0.01)),\n",
    "    'output' : tf.Variable(tf.random_normal([n_output], stddev = 0.01))\n",
    "}"
   ]
  },
  {
   "cell_type": "markdown",
   "metadata": {},
   "source": [
    "## Define Network\n",
    "\n",
    "Network 정의하기  \n",
    "> Input -> Hidden(relu) -> Hidden(relu) -> Output"
   ]
  },
  {
   "cell_type": "code",
   "execution_count": 6,
   "metadata": {},
   "outputs": [],
   "source": [
    "def Qnet(x, weights, biases):\n",
    "    hidden1 = tf.add(tf.matmul(x, weights['hidden1']), biases['hidden1'])\n",
    "    hidden1 = tf.nn.relu(hidden1)\n",
    "    \n",
    "    hidden2 = tf.add(tf.matmul(hidden1, weights['hidden2']), biases['hidden2'])\n",
    "    hidden2 = tf.nn.relu(hidden2)\n",
    "    \n",
    "    output = tf.add(tf.matmul(hidden2, weights['output']), biases['output'])\n",
    "    return output"
   ]
  },
  {
   "cell_type": "markdown",
   "metadata": {},
   "source": [
    "Computation Graph 정의 하기"
   ]
  },
  {
   "cell_type": "code",
   "execution_count": 7,
   "metadata": {},
   "outputs": [],
   "source": [
    "Qpred = Qnet(x, weights, biases)  # Q Network 에 기반한 Input X 에 대한 예측값\n",
    "loss = tf.reduce_mean(tf.square(y - Qpred)) # Deep Learning Framework 에 따라 정의된 Network의 Loss.. (Mean Square Loss)\n",
    "\n",
    "LR = 0.001 # Learning Rate.. 작게 할 수록 더 자세히 한다.\n",
    "optm = tf.train.AdamOptimizer(LR).minimize(loss) # 최적화기.. Gradient Descent 기법 등을 활용하여 Loss에 대한 최적의 값을 찾는다. "
   ]
  },
  {
   "cell_type": "code",
   "execution_count": 8,
   "metadata": {},
   "outputs": [],
   "source": [
    "sess = tf.Session()\n",
    "init = tf.global_variables_initializer()\n",
    "sess.run(init)"
   ]
  },
  {
   "cell_type": "code",
   "execution_count": 9,
   "metadata": {},
   "outputs": [
    {
     "name": "stdout",
     "output_type": "stream",
     "text": [
      "[ 0.02669913  0.00936279 -0.04171726 -0.00492669]\n",
      "[[ 0.02669913  0.00936279 -0.04171726 -0.00492669]]\n",
      "[[-0.01127372  0.00346072]]\n"
     ]
    }
   ],
   "source": [
    "state = env.reset()\n",
    "print(state)\n",
    "\n",
    "state = np.reshape(state, [1, 4])\n",
    "print(state)\n",
    "\n",
    "Q = sess.run(Qpred, feed_dict={x:state})\n",
    "print(Q)"
   ]
  },
  {
   "cell_type": "markdown",
   "metadata": {},
   "source": [
    "## Train Using Q Network\n",
    "\n",
    "1. setting Variables.. (Not Q-table -> Will update Weight and Biases)\n",
    "\n",
    "\n",
    "2. Get a Sample of States..\n",
    "\n",
    "\n",
    "3. Train With Q-Network While Episode done\n",
    "    1. Sample State에 대한 Q-Network의 예측값을 저장한다. 이때, 예측값은 두 Action에 대한 Q-value\n",
    "    2. Exploitation VS Exploration 으로 현 State에 따른 다음 Action을 결정\n",
    "    3. 결정된 Action에 따른 state, reward, done, 을 저장\n",
    "    4. Q-function에 따라 다음 State에 대한 Q 값을 저장한다. \n",
    "    5. 최적화기 를 통해서 weight and Bias 업데이트 한다."
   ]
  },
  {
   "cell_type": "code",
   "execution_count": 10,
   "metadata": {},
   "outputs": [
    {
     "name": "stdout",
     "output_type": "stream",
     "text": [
      "Episode: 0 steps: 10\n",
      "Episode: 100 steps: 14\n",
      "Episode: 200 steps: 58\n",
      "Episode: 300 steps: 40\n",
      "Episode: 400 steps: 83\n",
      "Episode: 500 steps: 18\n"
     ]
    }
   ],
   "source": [
    "gamma = 0.9\n",
    "\n",
    "for episode in range(501):\n",
    "    \n",
    "    done = False\n",
    "    state = env.reset()\n",
    "    \n",
    "    count = 0\n",
    "    \n",
    "    while not done:\n",
    "        \n",
    "        count += 1\n",
    "        state = np.reshape(state, [1, 4])\n",
    "        Q = sess.run(Qpred, feed_dict = {x:state})\n",
    "        \n",
    "        epsilon = 0.1\n",
    "        if np.random.uniform() < epsilon:\n",
    "            a = env.action_space.sample()\n",
    "        else:\n",
    "            a = np.argmax(Q)\n",
    "            \n",
    "        next_state, reward, done, _ = env.step(a)\n",
    "        \n",
    "        if done:\n",
    "            reward = -200\n",
    "            Q[0][a] = reward\n",
    "        else:\n",
    "            next_state = np.reshape(next_state, [1, n_input])\n",
    "            next_Q = sess.run(Qpred, feed_dict = {x:next_state})\n",
    "            Q[0][a] = reward + gamma*np.max(next_Q)\n",
    "        \n",
    "        sess.run(optm, feed_dict = {x: state, y: Q})\n",
    "        state = next_state\n",
    "    \n",
    "    if episode % 100 == 0:\n",
    "        print(\"Episode: {} steps: {}\".format(episode, count))\n",
    "\n",
    "env.close()"
   ]
  },
  {
   "cell_type": "markdown",
   "metadata": {},
   "source": [
    "## Test Q Network"
   ]
  },
  {
   "cell_type": "code",
   "execution_count": 13,
   "metadata": {},
   "outputs": [],
   "source": [
    "state = env.reset()\n",
    "\n",
    "done = False\n",
    "\n",
    "while not done:\n",
    "    env.render()\n",
    "    \n",
    "    state = np.reshape(state, [1, n_input])\n",
    "    Q = sess.run(Qpred, feed_dict={x:state})\n",
    "    action = np.argmax(Q)\n",
    "    \n",
    "    next_state, reward, done, _ = env.step(action)\n",
    "    state = next_state\n",
    "    \n",
    "    \n",
    "env.close()"
   ]
  },
  {
   "cell_type": "markdown",
   "metadata": {},
   "source": [
    "## DQN\n",
    "\n",
    "DQN Process \n",
    "![DQN](resource/DQN.png)\n",
    "Buffer (Experience Replay)를 사용하여 업데이트 한다. -> 더 효율적. \n",
    "\n"
   ]
  },
  {
   "cell_type": "code",
   "execution_count": 14,
   "metadata": {},
   "outputs": [],
   "source": [
    "import numpy as np\n",
    "import matplotlib.pyplot as plt\n",
    "import tensorflow.compat.v1 as tf\n",
    "\n",
    "import random\n",
    "from collections import deque\n",
    "import gym\n",
    "%matplotlib inline"
   ]
  },
  {
   "cell_type": "code",
   "execution_count": 15,
   "metadata": {},
   "outputs": [],
   "source": [
    "env = gym.make('CartPole-v1')"
   ]
  },
  {
   "cell_type": "code",
   "execution_count": 16,
   "metadata": {},
   "outputs": [],
   "source": [
    "n_input = env.observation_space.shape[0] #4\n",
    "n_actions = env.action_space.n #2\n",
    "n_output = n_actions\n",
    "\n",
    "n_hidden1 = 100\n",
    "n_hidden2 = 50"
   ]
  },
  {
   "cell_type": "code",
   "execution_count": 17,
   "metadata": {},
   "outputs": [],
   "source": [
    "tf.disable_eager_execution()\n",
    "x = tf.placeholder(tf.float32, [None, n_input])\n",
    "y = tf.placeholder(tf.float32, [None, n_output])"
   ]
  },
  {
   "cell_type": "code",
   "execution_count": 18,
   "metadata": {},
   "outputs": [],
   "source": [
    "weights = {\n",
    "    'hidden1' : tf.Variable(tf.random_normal([n_input, n_hidden1], stddev = 0.01)),\n",
    "    'hidden2' : tf.Variable(tf.random_normal([n_hidden1, n_hidden2], stddev = 0.01)),\n",
    "    'output' : tf.Variable(tf.random_normal([n_hidden2, n_output], stddev = 0.01))\n",
    "}\n",
    "\n",
    "biases = {\n",
    "    'hidden1' : tf.Variable(tf.random_normal([n_hidden1], stddev = 0.01)),\n",
    "    'hidden2' : tf.Variable(tf.random_normal([n_hidden2], stddev = 0.01)),\n",
    "    'output' : tf.Variable(tf.random_normal([n_output], stddev = 0.01))\n",
    "}"
   ]
  },
  {
   "cell_type": "code",
   "execution_count": 19,
   "metadata": {},
   "outputs": [],
   "source": [
    "def Qnet(x, weights, biases):\n",
    "    hidden1 = tf.add(tf.matmul(x, weights['hidden1']), biases['hidden1'])\n",
    "    hidden1 = tf.nn.relu(hidden1)\n",
    "    \n",
    "    hidden2 = tf.add(tf.matmul(hidden1, weights['hidden2']), biases['hidden2'])\n",
    "    hidden2 = tf.nn.relu(hidden2)\n",
    "    \n",
    "    output = tf.add(tf.matmul(hidden2, weights['output']), biases['output'])\n",
    "    return output"
   ]
  },
  {
   "cell_type": "code",
   "execution_count": 20,
   "metadata": {},
   "outputs": [],
   "source": [
    "Qpred = Qnet(x, weights, biases)\n",
    "loss = tf.reduce_mean(tf.square(y - Qpred))\n",
    "\n",
    "LR = 0.001\n",
    "optm = tf.train.AdamOptimizer(LR).minimize(loss)"
   ]
  },
  {
   "cell_type": "code",
   "execution_count": 21,
   "metadata": {},
   "outputs": [],
   "source": [
    "sess = tf.Session()\n",
    "init = tf.global_variables_initializer()\n",
    "sess.run(init)"
   ]
  },
  {
   "cell_type": "markdown",
   "metadata": {},
   "source": [
    "## Experienc Replay\n",
    "\n",
    "- Learning from batches of consecutive smaples is problematic! (연속적인 sample을 가지고 Batch 프로세스를 진행하면 문제점이 생긴다.)\n",
    "    - Samples are correlated -> inefficient learning..! (샘플이 서로 연관되있다.)\n",
    "    - Current Q-network parameters determines next training smaples.. 현재 State에대한 Network parameter들이 다음 State를 결정하기 때문에 결과가 치우칠 수 있다. -> Lead to Bad Feed back\n",
    "\n",
    "\n",
    "- Address these problems using experience replay\n",
    "    - Continually update a replay mermory table of transition..! 매 State의 전이 마다 상황을 저장한다.\n",
    "    - Random minibatch of transition을 추출하여 Q-network 을 Train 한다. \n",
    "    \n",
    "\n",
    "- Stabilize! and Improve DQN Training procedure"
   ]
  },
  {
   "cell_type": "markdown",
   "metadata": {},
   "source": [
    "## Train Using Q Network\n",
    "\n",
    "1. setting Variables.. and Define replay_buffer(list) (Not Q-table -> Will update Weight and Biases)\n",
    "\n",
    "\n",
    "2. Get a Sample of States..\n",
    "\n",
    "\n",
    "3. Train With Q-Network While Episode done\n",
    "    1. Sample State에 대한 Q-Network의 예측값을 저장한다. 이때, 예측값은 두 Action에 대한 Q-value\n",
    "    2. Exploitation VS Exploration 으로 현 State에 따른 다음 Action을 결정\n",
    "    3. 결정된 Action에 따른 state, reward, done, 을 replay_buffer에 리스트로 저장\n",
    "    4. n번째 에피소드 마다! minibatch를 랜덤으로 뽑아내어 Q-Network을 Train 한다."
   ]
  },
  {
   "cell_type": "code",
   "execution_count": 26,
   "metadata": {
    "scrolled": true
   },
   "outputs": [
    {
     "name": "stdout",
     "output_type": "stream",
     "text": [
      "Episode: 1 steps: 106\n",
      "Episode: 201 steps: 127\n",
      "Episode: 401 steps: 152\n",
      "Episode: 601 steps: 129\n",
      "Episode: 801 steps: 310\n",
      "Episode: 1001 steps: 410\n",
      "Episode: 1201 steps: 191\n",
      "Episode: 1401 steps: 162\n",
      "Episode: 1601 steps: 186\n",
      "Episode: 1801 steps: 194\n"
     ]
    }
   ],
   "source": [
    "replay_buffer = []\n",
    "n_buffer = 5000\n",
    "n_batch = 10 #10개씩 샘플링하여 배치프로세스를 진행한다.\n",
    "\n",
    "gamma = 0.9\n",
    "\n",
    "for episode in range(2001):\n",
    "    \n",
    "    done = False\n",
    "    state = env.reset()\n",
    "    \n",
    "    count = 0\n",
    "    \n",
    "    while not done:\n",
    "        \n",
    "        count += 1\n",
    "        state = np.reshape(state, [1, 4])\n",
    "        Q = sess.run(Qpred, feed_dict = {x:state})\n",
    "        \n",
    "        epsilon = 0.1\n",
    "        if np.random.uniform() < epsilon:\n",
    "            a = env.action_space.sample()\n",
    "        else:\n",
    "            a = np.argmax(Q)\n",
    "            \n",
    "        next_state, reward, done, _ = env.step(a)\n",
    "        \n",
    "        if done:\n",
    "            reward = -200\n",
    "#             Q[0][a] = reward\n",
    "#             next_state = np.zeros(state.shape) # 다음 시뮬레이션에서 없음\n",
    "        \n",
    "        # 버퍼에 저장!\n",
    "        replay_buffer.append([state, a, reward, next_state, done]) \n",
    "        \n",
    "        # 개수가 넘으면 예전것 삭제\n",
    "        if len(replay_buffer) > n_buffer:\n",
    "            replay_buffer.pop(0)\n",
    "        \n",
    "        state = next_state\n",
    "    \n",
    "    if episode % n_batch == 1:\n",
    "        for _ in range(50):\n",
    "            # learning\n",
    "            if len(replay_buffer) < n_batch:\n",
    "                break\n",
    "\n",
    "            minibatch = random.sample(replay_buffer, n_batch)\n",
    "\n",
    "            x_stack = np.empty(0).reshape(0, n_input)\n",
    "            y_stack = np.empty(0).reshape(0, n_output)\n",
    "\n",
    "            for state, action, reward, next_state, done in minibatch:\n",
    "                Q = sess.run(Qpred, feed_dict = {x: np.reshape(state, [1, n_input])})\n",
    "\n",
    "                if done:\n",
    "                    Q[0][action] = reward\n",
    "                else:\n",
    "                    next_Q = sess.run(Qpred, feed_dict = {x: np.reshape(next_state, [1, n_input])})\n",
    "                    Q[0][action] = reward + gamma*np.max(next_Q)\n",
    "\n",
    "                x_stack = np.vstack([x_stack, state])\n",
    "                y_stack = np.vstack([y_stack, Q])\n",
    "\n",
    "            sess.run(optm, feed_dict = {x: x_stack, y: y_stack})\n",
    "\n",
    "\n",
    "    if episode % 200 == 1:\n",
    "        print(\"Episode: {} steps: {}\".format(episode, count))\n",
    "\n",
    "env.close()"
   ]
  },
  {
   "cell_type": "markdown",
   "metadata": {},
   "source": [
    "## Test (DQN)"
   ]
  },
  {
   "cell_type": "code",
   "execution_count": 32,
   "metadata": {},
   "outputs": [],
   "source": [
    "state = env.reset()\n",
    "\n",
    "done = False\n",
    "\n",
    "while not done:\n",
    "    env.render()\n",
    "    \n",
    "    state = np.reshape(state, [1, n_input])\n",
    "    Q = sess.run(Qpred, feed_dict={x:state})\n",
    "    action = np.argmax(Q)\n",
    "    \n",
    "    next_state, reward, done, _ = env.step(action)\n",
    "    state = next_state\n",
    "    \n",
    "    \n",
    "env.close()"
   ]
  },
  {
   "cell_type": "code",
   "execution_count": null,
   "metadata": {},
   "outputs": [],
   "source": []
  }
 ],
 "metadata": {
  "kernelspec": {
   "display_name": "Python 3",
   "language": "python",
   "name": "python3"
  },
  "language_info": {
   "codemirror_mode": {
    "name": "ipython",
    "version": 3
   },
   "file_extension": ".py",
   "mimetype": "text/x-python",
   "name": "python",
   "nbconvert_exporter": "python",
   "pygments_lexer": "ipython3",
   "version": "3.6.10"
  }
 },
 "nbformat": 4,
 "nbformat_minor": 4
}
