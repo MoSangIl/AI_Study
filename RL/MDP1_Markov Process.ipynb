{
 "cells": [
  {
   "cell_type": "markdown",
   "metadata": {},
   "source": [
    "# Markov Process (MDP1)\n",
    "\n",
    "강화학습의 시작 알고리즘"
   ]
  },
  {
   "cell_type": "markdown",
   "metadata": {},
   "source": [
    "## Sequential Process\n",
    "\n",
    "시간에 따른 State 들의 집합으로, 다음 State로 넘어갈 확률이 이전의 있었던 모든 State들의 경우에 의해 영향이 미치는 Process 이다.  \n",
    "\n",
    "곧, $p(q_0, q_1, \\cdots , q_T) = p(q_0)p(q_1|q_0)p(q_2|q_1q_0) \\cdots $ 인 것인데, 이경우는 수학적으로 계산하는 것이 불가능 하다."
   ]
  },
  {
   "cell_type": "markdown",
   "metadata": {},
   "source": [
    "## Markov Chain (Process)\n",
    "Sequential Process의 한계를 극복하기 위하여 제시.  \n",
    "$$ Markovian property(assumption): p(q_{t+1} | q_t, \\cdots , q_0) = [(q_{t+1} | q_t) $$\n",
    "\n",
    "Markovian Property로 가정 하는 것은, 현 상태에서 그 이전 상태의 확률만 고려한다는 것, 과거의 것은 바로 이전 State에 축적이 되어 있다 라는 관점  \n",
    "\n",
    "*information state(바로 이전 State): sufficient statistic of history*  \n",
    "* Given current state, the past does not matter\n",
    "* The state captures all relevant information from the history\n",
    "* The state is a sufficient statistic of the future"
   ]
  },
  {
   "cell_type": "markdown",
   "metadata": {},
   "source": [
    "### State Transition Matirx\n",
    "from State s to State s' 가 될 확률 p(s -> s'), 즉 $P_{ss'} = P[S_{t+1} = s' | S_t =. ]$  \n",
    "즉, State Transition Matrix 란 N개의 State 사이에서 Transition이 일어날 확률을 값으로 하는 행렬이다.  \n",
    "$$ P = from \n",
    "\\begin{bmatrix} \n",
    "    P_{11}& \\cdots & P_{1n} \\\\\n",
    "    \\vdots \\\\\n",
    "    P_{n1}& \\cdots & P_{nn} \n",
    "\\end{bmatrix}\n",
    "$$"
   ]
  },
  {
   "cell_type": "markdown",
   "metadata": {},
   "source": [
    "### Definition: Markov Process\n",
    "Markove Process는 (memoryless random process)기억상실 랜덤 과정  \n",
    "수동적 활률론적 행동 (Passive Stochastic Behavior)  \n",
    "랜덤 State의 연속  \n",
    "\n",
    "3가지 요약!\n",
    "* finite set of N states, $S = {S_1, \\cdots , S_N}$\n",
    "* state transition probability, $P = {p_{ij}}_{MxM}, 1 \\leq i, j \\leq M$\n",
    "* initial state (초기 상태) probability distribution , $\\pi = {\\pi_{i}}$\n",
    "\n",
    "예시)\n",
    "Episodes Example\n",
    "![Property of P Matrix](./Markovian_Property_ex.png)\n",
    "\n",
    "Episode1 : S_1 -> S_3 -> S_2 -> ..."
   ]
  },
  {
   "cell_type": "markdown",
   "metadata": {},
   "source": [
    "## Chapman-Kolmogorov Equation\n",
    "\n",
    "- finite state space , $S={S_1, \\cdots , S_N}$\n",
    "- transition probability matrix = P $\n",
    "\\begin{bmatrix} \n",
    "    p_{11}& p_{12} & p_{13} \\\\\n",
    "    p_{21}& p_{22} & p_{23} \\\\\n",
    "    p_{31}& p_{32} & p_{33}\n",
    "\\end{bmatrix}\n",
    "$\n",
    "- initial distribution $\\pi = {\\pi_i(0)}$ \n",
    "\n",
    "*one-step transition probabilities*  \n",
    "$ [\\pi_1(1)\\ \\pi_2(1)\\ \\pi_3(1)] = [\\pi_1(0)\\ \\pi_2(0)\\  \\pi_3(0)]P$\n",
    "\n",
    "***N-step transition probabilities***  \n",
    "$ [\\pi_1(n)\\ \\pi_2(n)\\ \\pi_3(n)] = [\\pi_1(n-1)\\  \\pi_2(n-1)\\ \\pi_3(n-1)]P^n$\n",
    "\n",
    "Key recursion : $$ p_{ij}(n) = \\sum_{k=1}^{N}{p_{ik}(n-1)p_{kj}(1)} $$"
   ]
  },
  {
   "cell_type": "markdown",
   "metadata": {},
   "source": [
    "### Stationary Distribution (정적 분배)\n",
    "Steady-state behavior, $p_{ij}(n) 은 어떤 \\pi_j 로 수렴할까? $  \n",
    "\n",
    "무수히 많은 경우가 지나고나서 해당 State에 있을 활률을 구하는 것! n -> $\\infty$ 로 간다고 하자!  \n",
    "\n",
    "$$ p_{ij}(n) = \\sum_{k=1}^{N}{p_{ik}(n-1)p_{kj}(1)}$$\n",
    "$$\\pi_j = \\sum_{k=1}^{N}{\\pi_kp_{kj}}$$\n",
    "$$\\pi = \\pi P \\ [행렬곱!]$$"
   ]
  },
  {
   "cell_type": "markdown",
   "metadata": {},
   "source": [
    "## Question\n",
    "- [ ] 아이겐 벨류, 아이겐 벡터?\n",
    "- [ ] Eigen-analysis  \n",
    "- [ ] Fixed-point iteration"
   ]
  },
  {
   "cell_type": "markdown",
   "metadata": {},
   "source": [
    "Fixed Point Iteration -> f(x) = 0 의 해를 구하기 위해 x = g(x) 의 꼴로 변형하고, $x_{k+1} = g(x_k)$ 로 update 를 iteration 해줌으로써, 해에 근접할 수 있다!  \n",
    "\n",
    "이때, x = Ax + b 라는 식의 행렬로도 나타내 지는데, $A^k$ 이 수렴해야지 해에 근접해 진다.  $A^k$ 가 수렴하는 것은 행렬 A 의 Eigen Value 가 모두 1 보다 작으면 된다.  "
   ]
  },
  {
   "cell_type": "markdown",
   "metadata": {},
   "source": [
    "## Lab"
   ]
  },
  {
   "cell_type": "code",
   "execution_count": 2,
   "metadata": {},
   "outputs": [],
   "source": [
    "import numpy as np\n",
    "\n",
    "P = [[0,0,1],\n",
    "    [1/2, 1/2, 0],\n",
    "    [1/3, 2/3, 0]]"
   ]
  },
  {
   "cell_type": "code",
   "execution_count": 3,
   "metadata": {},
   "outputs": [
    {
     "name": "stdout",
     "output_type": "stream",
     "text": [
      "[0.5, 0.5, 0]\n"
     ]
    }
   ],
   "source": [
    "print(P[1][:])"
   ]
  },
  {
   "cell_type": "code",
   "execution_count": 4,
   "metadata": {},
   "outputs": [
    {
     "name": "stdout",
     "output_type": "stream",
     "text": [
      "1\n"
     ]
    }
   ],
   "source": [
    "s = np.random.choice(3, 1, p = P[1][:])[0] # 1st par a = arrange(a)\n",
    "print(s)"
   ]
  },
  {
   "cell_type": "code",
   "execution_count": 5,
   "metadata": {},
   "outputs": [
    {
     "name": "stdout",
     "output_type": "stream",
     "text": [
      "[0, 2, 1, 1, 0, 2, 1, 1, 1, 0, 2]\n"
     ]
    }
   ],
   "source": [
    "# sequential Processes\n",
    "# sequence generated by Markov chain\n",
    "# S1 = 0, S2 = 1, S3 = 2\n",
    "\n",
    "#starting from 0\n",
    "x = 0\n",
    "S = []\n",
    "S.append(x)\n",
    "# get episode which get 10 sequences of state\n",
    "for i in range(10):\n",
    "    x = np.random.choice(3, 1, p = P[x][:])[0]\n",
    "    S.append(x)\n",
    "    \n",
    "print(S)"
   ]
  },
  {
   "cell_type": "code",
   "execution_count": 9,
   "metadata": {},
   "outputs": [
    {
     "name": "stdout",
     "output_type": "stream",
     "text": [
      "[0, 1, 2, 3, 6, 6]\n"
     ]
    }
   ],
   "source": [
    "P = [[0, 0.5, 0, 0, 0, 0.5 ,0],\n",
    "    [0, 0, 0.8, 0, 0, 0, 0.2],\n",
    "    [0, 0, 0, 0.6, 0.4, 0, 0],\n",
    "    [0, 0, 0, 0, 0, 0, 1],\n",
    "    [0.2, 0.4, 0.4, 0, 0, 0, 0],\n",
    "    [0.1, 0, 0, 0, 0, 0.9, 0],\n",
    "    [0, 0, 0, 0, 0, 0, 1]]\n",
    "\n",
    "# sequential Processes\n",
    "# sequence generated by Markov chain\n",
    "# [C1 C2 C3 Pass Pub FB Sleep] = [0 1 2 3 4 5 6]\n",
    "\n",
    "name = ['C1', 'C2', 'C3', 'Pass', 'Pub', 'FB', 'Sleep']\n",
    "\n",
    "# starting from 0\n",
    "x = 0\n",
    "S = []\n",
    "S.append(x)\n",
    "\n",
    "for i in range(5):\n",
    "    x = np.random.choice(7, 1, p=P[x][:])[0]\n",
    "    S.append(x)\n",
    "    \n",
    "print(S)"
   ]
  },
  {
   "cell_type": "code",
   "execution_count": 10,
   "metadata": {},
   "outputs": [
    {
     "name": "stdout",
     "output_type": "stream",
     "text": [
      "['C1', 'C2', 'C3', 'Pass', 'Sleep', 'Sleep']\n"
     ]
    }
   ],
   "source": [
    "episode = []\n",
    "\n",
    "for i in S:\n",
    "    episode.append(name[i])\n",
    "    \n",
    "print(episode)"
   ]
  },
  {
   "cell_type": "code",
   "execution_count": 13,
   "metadata": {},
   "outputs": [
    {
     "name": "stdout",
     "output_type": "stream",
     "text": [
      "[[0.3 0.4 0.3]]\n"
     ]
    }
   ],
   "source": [
    "P = [[0, 0, 1],\n",
    "    [1/2, 1/2, 0],\n",
    "    [1/3, 2/3, 0]]\n",
    "\n",
    "u = [0, 1, 0] # State distribution probability\n",
    "\n",
    "P = np.asmatrix(P)\n",
    "u = np.asmatrix(u)\n",
    "\n",
    "for i in range(100):\n",
    "    u = u*P # 행렬곱!\n",
    "    \n",
    "print(u)"
   ]
  },
  {
   "cell_type": "code",
   "execution_count": 14,
   "metadata": {},
   "outputs": [
    {
     "name": "stdout",
     "output_type": "stream",
     "text": [
      "[[0.3000217  0.39989632 0.30008198]]\n"
     ]
    }
   ],
   "source": [
    "u = [0, 1, 0]\n",
    "\n",
    "u = u*P**10\n",
    "print(u)"
   ]
  },
  {
   "cell_type": "code",
   "execution_count": 15,
   "metadata": {},
   "outputs": [
    {
     "name": "stdout",
     "output_type": "stream",
     "text": [
      "[-0.25+0.32274861j -0.25-0.32274861j  1.  +0.j        ]\n"
     ]
    }
   ],
   "source": [
    "# eigenvalue = 1 and associated eigenvector\n",
    "\n",
    "d, v = np.linalg.eig(P.T) # Transpose!\n",
    "\n",
    "print(d)"
   ]
  },
  {
   "cell_type": "code",
   "execution_count": 17,
   "metadata": {},
   "outputs": [
    {
     "data": {
      "text/plain": [
       "matrix([[0.3-0.j],\n",
       "        [0.4-0.j],\n",
       "        [0.3-0.j]])"
      ]
     },
     "execution_count": 17,
     "metadata": {},
     "output_type": "execute_result"
    }
   ],
   "source": [
    "v[:, 2]/np.sum(v[:,2])"
   ]
  },
  {
   "cell_type": "code",
   "execution_count": null,
   "metadata": {},
   "outputs": [],
   "source": []
  }
 ],
 "metadata": {
  "kernelspec": {
   "display_name": "Python 3",
   "language": "python",
   "name": "python3"
  },
  "language_info": {
   "codemirror_mode": {
    "name": "ipython",
    "version": 3
   },
   "file_extension": ".py",
   "mimetype": "text/x-python",
   "name": "python",
   "nbconvert_exporter": "python",
   "pygments_lexer": "ipython3",
   "version": "3.6.10"
  }
 },
 "nbformat": 4,
 "nbformat_minor": 4
}
