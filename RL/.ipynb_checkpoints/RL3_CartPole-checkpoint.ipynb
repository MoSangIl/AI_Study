{
 "cells": [
  {
   "cell_type": "markdown",
   "metadata": {},
   "source": [
    "# Q-Learning : Solution for CartPole"
   ]
  },
  {
   "cell_type": "code",
   "execution_count": 1,
   "metadata": {
    "scrolled": true
   },
   "outputs": [],
   "source": [
    "#!pip install gym"
   ]
  },
  {
   "cell_type": "markdown",
   "metadata": {},
   "source": [
    "## Insert Needed Library\n",
    "\n",
    "gym -> CartPole 문제를 위한 환경을 구성!  "
   ]
  },
  {
   "cell_type": "code",
   "execution_count": 2,
   "metadata": {},
   "outputs": [],
   "source": [
    "import numpy as np\n",
    "import matplotlib.pyplot as plt\n",
    "\n",
    "%matplotlib inline"
   ]
  },
  {
   "cell_type": "markdown",
   "metadata": {},
   "source": [
    "**기본적인 gym Environment 명령어**\n",
    "\n",
    "gym  \n",
    "\n",
    "- .make()  \n",
    "원하는 환경을 만든다.  \n",
    "\n",
    "- .reset()  \n",
    "초기 State 값을 반환한다.  \n",
    "\n",
    "- .render()  \n",
    "그래픽 환경을 시작한다.  \n",
    "\n",
    "- .close()  \n",
    "그래픽 환경을 종료한다.  \n",
    "- .action_space\n",
    "    - .smaple() : action을 랜덤으로 가져옴 \n",
    "    - .n : action의 개수를 반환함  \n",
    "    \n",
    "- .step()  \n",
    "action을 인자로 주고 다음 스테이트에 관한 정보를 반환한다.  \n",
    "\n",
    "- .observation_space()\n",
    "    - .shape : State 의 Shape을 반환\n",
    "    - .high : State를 구성하는 각 property의 최대값 출력\n",
    "    - .low : State를 구성하는 각 property의 최소값 출력"
   ]
  },
  {
   "cell_type": "code",
   "execution_count": 3,
   "metadata": {},
   "outputs": [],
   "source": [
    "import gym\n",
    "\n",
    "env = gym.make('CartPole-v0')"
   ]
  },
  {
   "cell_type": "code",
   "execution_count": 4,
   "metadata": {
    "scrolled": false
   },
   "outputs": [
    {
     "name": "stdout",
     "output_type": "stream",
     "text": [
      "[-0.0223288  -0.00283242  0.00467966 -0.00785557]\n"
     ]
    }
   ],
   "source": [
    "observation = env.reset() #observation return ..\n",
    "print(observation)"
   ]
  },
  {
   "cell_type": "code",
   "execution_count": 5,
   "metadata": {},
   "outputs": [
    {
     "name": "stdout",
     "output_type": "stream",
     "text": [
      "[ 0.01570962  0.19810006 -0.02273824 -0.3018503 ] 1.0 False {}\n",
      "[ 0.01967162  0.39353858 -0.02877525 -0.60161677] 1.0 False {}\n",
      "[ 0.02754239  0.19883072 -0.04080758 -0.31813463] 1.0 False {}\n",
      "[ 0.03151901  0.3945094  -0.04717028 -0.6234024 ] 1.0 False {}\n",
      "[ 0.03940919  0.20007669 -0.05963833 -0.34594066] 1.0 False {}\n",
      "[ 0.04341073  0.39599403 -0.06655714 -0.65681748] 1.0 False {}\n",
      "[ 0.05133061  0.59197627 -0.07969349 -0.96969331] 1.0 False {}\n",
      "[ 0.06317013  0.78807234 -0.09908735 -1.28630894] 1.0 False {}\n",
      "[ 0.07893158  0.98430586 -0.12481353 -1.60829943] 1.0 False {}\n",
      "[ 0.0986177   1.18066247 -0.15697952 -1.9371431 ] 1.0 False {}\n",
      "[ 0.12223095  1.37707534 -0.19572238 -2.27410242] 1.0 False {}\n",
      "[ 0.14977245  1.57340856 -0.24120443 -2.62015521] 1.0 True {}\n",
      "[-0.01842126 -0.18979839  0.02538217  0.34734938] 1.0 False {}\n",
      "[-0.02221723  0.00495351  0.03232916  0.06277719] 1.0 False {}\n",
      "[-0.02211816  0.19959738  0.0335847  -0.21953294] 1.0 False {}\n",
      "[-0.01812621  0.00401186  0.02919404  0.08355196] 1.0 False {}\n",
      "[-0.01804598 -0.19151615  0.03086508  0.38530083] 1.0 False {}\n",
      "[-0.0218763  -0.38706238  0.0385711   0.68755335] 1.0 False {}\n",
      "[-0.02961755 -0.58269788  0.05232216  0.99212543] 1.0 False {}\n",
      "[-0.0412715  -0.38831361  0.07216467  0.71632375] 1.0 False {}\n",
      "[-0.04903778 -0.19426074  0.08649115  0.44720005] 1.0 False {}\n",
      "[-0.05292299 -0.00046198  0.09543515  0.18298526] 1.0 False {}\n",
      "[-0.05293223  0.19317404  0.09909485 -0.07813171] 1.0 False {}\n",
      "[-0.04906875  0.38674607  0.09753222 -0.33797907] 1.0 False {}\n",
      "[-0.04133383  0.19038132  0.09077264 -0.01620274] 1.0 False {}\n",
      "[-0.0375262  -0.00591726  0.09044858  0.30368341] 1.0 False {}\n",
      "[-0.03764455  0.18780707  0.09652225  0.04084038] 1.0 False {}\n",
      "[-0.03388841  0.38142191  0.09733906 -0.21989656] 1.0 False {}\n",
      "[-0.02625997  0.57502746  0.09294113 -0.48035767] 1.0 False {}\n",
      "[-0.01475942  0.37872487  0.08333397 -0.15988925] 1.0 False {}\n",
      "[-0.00718492  0.57256102  0.08013619 -0.42516265] 1.0 False {}\n",
      "[ 0.0042663   0.37640081  0.07163294 -0.10833177] 1.0 False {}\n",
      "[0.01179432 0.18032936 0.0694663  0.20606324] 1.0 False {}\n",
      "[ 0.0154009   0.37439273  0.07358757 -0.06392308] 1.0 False {}\n",
      "[0.02288876 0.17829708 0.0723091  0.25103956] 1.0 False {}\n",
      "[ 0.0264547  -0.01777895  0.0773299   0.5656254 ] 1.0 False {}\n",
      "[0.02609912 0.17617781 0.0886424  0.29827205] 1.0 False {}\n",
      "[0.02962268 0.36993172 0.09460784 0.03480899] 1.0 False {}\n",
      "[0.03702131 0.17358936 0.09530402 0.35577871] 1.0 False {}\n",
      "[0.0404931  0.36723621 0.1024196  0.09460356] 1.0 False {}\n",
      "[ 0.04783782  0.56075245  0.10431167 -0.16409092] 1.0 False {}\n",
      "[0.05905287 0.36430392 0.10102985 0.15959222] 1.0 False {}\n",
      "[ 0.06633895  0.55784524  0.1042217  -0.09958714] 1.0 False {}\n",
      "[0.07749585 0.36139598 0.10222995 0.22407354] 1.0 False {}\n",
      "[ 0.08472377  0.55491952  0.10671142 -0.03469293] 1.0 False {}\n",
      "[ 0.09582216  0.74836222  0.10601757 -0.2918928 ] 1.0 False {}\n",
      "[ 0.11078941  0.94182538  0.10017971 -0.5493474 ] 1.0 False {}\n",
      "[ 0.12962592  0.74544946  0.08919276 -0.22685682] 1.0 False {}\n",
      "[ 0.14453491  0.93919103  0.08465563 -0.49012605] 1.0 False {}\n",
      "[ 0.16331873  1.1330231   0.0748531  -0.75497391] 1.0 False {}\n",
      "[ 0.18597919  0.93695347  0.05975363 -0.43970675] 1.0 False {}\n",
      "[ 0.20471826  0.74103899  0.05095949 -0.12880239] 1.0 False {}\n",
      "[ 0.21953904  0.9353953   0.04838344 -0.40498279] 1.0 False {}\n",
      "[ 0.23824694  0.73962179  0.04028379 -0.097447  ] 1.0 False {}\n",
      "[ 0.25303938  0.93414393  0.03833485 -0.37715325] 1.0 False {}\n",
      "[ 0.27172226  1.12870105  0.03079178 -0.65750684] 1.0 False {}\n",
      "[ 0.29429628  1.32338116  0.01764165 -0.94033723] 1.0 False {}\n",
      "[ 3.20763902e-01  1.51826094e+00 -1.16509932e-03 -1.22742503e+00] 1.0 False {}\n",
      "[ 0.35112912  1.323154   -0.0257136  -0.93510737] 1.0 False {}\n",
      "[ 0.3775922   1.12838815 -0.04441575 -0.65061413] 1.0 False {}\n",
      "[ 0.40015996  0.93391206 -0.05742803 -0.37224163] 1.0 False {}\n",
      "[ 0.4188382   0.73965097 -0.06487286 -0.09820493] 1.0 False {}\n"
     ]
    }
   ],
   "source": [
    "for _ in range(2): # episode 2번 생성\n",
    "\n",
    "    env.reset()\n",
    "\n",
    "    for _ in range(50):\n",
    "        env.render()\n",
    "        action = env.action_space.sample() # action 랜덤으로 가져옴\n",
    "        observation, reward, done, info = env.step(action) # Transition 일으킴\n",
    "\n",
    "        print(observation, reward, done, info)\n",
    "\n",
    "        if done:\n",
    "            break"
   ]
  },
  {
   "cell_type": "code",
   "execution_count": 6,
   "metadata": {},
   "outputs": [],
   "source": [
    "env.action_space.sample()\n",
    "env.step?"
   ]
  },
  {
   "cell_type": "code",
   "execution_count": 7,
   "metadata": {},
   "outputs": [
    {
     "name": "stdout",
     "output_type": "stream",
     "text": [
      "Box(4,)\n",
      "Discrete(2)\n",
      "0\n"
     ]
    }
   ],
   "source": [
    "print(env.observation_space)\n",
    "print(env.action_space)\n",
    "print(env.action_space.sample())"
   ]
  },
  {
   "cell_type": "code",
   "execution_count": 8,
   "metadata": {},
   "outputs": [
    {
     "name": "stdout",
     "output_type": "stream",
     "text": [
      "[-4.8000002e+00 -3.4028235e+38 -4.1887903e-01 -3.4028235e+38]\n",
      "[4.8000002e+00 3.4028235e+38 4.1887903e-01 3.4028235e+38]\n"
     ]
    }
   ],
   "source": [
    "print(env.observation_space.low)\n",
    "print(env.observation_space.high)"
   ]
  },
  {
   "cell_type": "code",
   "execution_count": 9,
   "metadata": {},
   "outputs": [
    {
     "name": "stdout",
     "output_type": "stream",
     "text": [
      "(4,)\n",
      "2\n"
     ]
    }
   ],
   "source": [
    "n_observation = env.observation_space.shape\n",
    "n_actions = env.action_space.n\n",
    "\n",
    "print(n_observation)\n",
    "print(n_actions)"
   ]
  },
  {
   "cell_type": "markdown",
   "metadata": {},
   "source": [
    "## Init the Variables for CartPole"
   ]
  },
  {
   "cell_type": "code",
   "execution_count": 10,
   "metadata": {},
   "outputs": [],
   "source": [
    "# State의 각 요소들을 각 10부분으로 나눈다.\n",
    "n_bins_pos = 10\n",
    "n_bins_vel = 10\n",
    "n_bins_ang = 10\n",
    "n_bins_anv = 10"
   ]
  },
  {
   "cell_type": "code",
   "execution_count": 11,
   "metadata": {},
   "outputs": [],
   "source": [
    "# 모든 경우의 수를 적용하여 State의 개수 / Action의 개수를 선언\n",
    "n_states = n_bins_pos*n_bins_vel*n_bins_ang*n_bins_anv\n",
    "n_action = 2\n",
    "\n",
    "# Q-Learning 을 위한 Q-table 생성 : 해당 테이블을 Q-Learning기법을 사용하여 업데이트 목적\n",
    "Q_table = np.random.uniform(0, 1,(n_states, n_actions)) # 0~1 값 & shape"
   ]
  },
  {
   "cell_type": "code",
   "execution_count": 12,
   "metadata": {},
   "outputs": [
    {
     "name": "stdout",
     "output_type": "stream",
     "text": [
      "[[0.93386109 0.06616627]\n",
      " [0.50003217 0.10298524]\n",
      " [0.77737097 0.47632901]\n",
      " ...\n",
      " [0.79319662 0.43206754]\n",
      " [0.60099723 0.94285235]\n",
      " [0.04515138 0.41372704]] (10000, 2)\n"
     ]
    }
   ],
   "source": [
    "print(Q_table, Q_table.shape)"
   ]
  },
  {
   "cell_type": "code",
   "execution_count": 13,
   "metadata": {},
   "outputs": [
    {
     "name": "stdout",
     "output_type": "stream",
     "text": [
      "[ 0.02752572 -0.15437297  0.00359311  0.33313387]\n"
     ]
    }
   ],
   "source": [
    "env.reset()\n",
    "observation, _, _, _ = env.step(0)\n",
    "env.close()\n",
    "\n",
    "pos, vel, ang, anv = observation\n",
    "print(observation)"
   ]
  },
  {
   "cell_type": "markdown",
   "metadata": {},
   "source": [
    "## Mapping Discrete State!\n",
    "\n",
    "**State의 각 요소들을 10부분으로 나눔으로, 어떤 State가 현재 State인지 Mapping하기 위한 함수 이다.**  \n",
    "\n",
    "\n",
    "- np.where() -> 괄호 안에 조건문과 일치하는 요소의 인덱스를 반환\n",
    "- np.histogram() -> array와 bins(구간) 을 받는 다. range는 범위를 말하는 데 보통 (min ~ max) 이다.  \n",
    "bins 가 정수 일때, 정수크기 만큼의 구간으로 (정해진 범위내에서) 나눈다.  \n",
    "해당 범위 안에 속한 값들의 개수를 반환한다.    \n",
    "- np.clip() -> number , min, max(범위) 값을 차례로 받고, 해당 number가 정해진 범위를 벗어나지 않도록 한다. 벗어날 경우 최소 혹은 최대값으로 변경한다.  "
   ]
  },
  {
   "cell_type": "code",
   "execution_count": 14,
   "metadata": {},
   "outputs": [
    {
     "name": "stdout",
     "output_type": "stream",
     "text": [
      "[0.98337134 0.17087763 0.23394778 0.5011882 ]\n"
     ]
    }
   ],
   "source": [
    "import numpy as np\n",
    "array = np.random.uniform(0, 1, (4))\n",
    "print(array)"
   ]
  },
  {
   "cell_type": "code",
   "execution_count": 15,
   "metadata": {},
   "outputs": [
    {
     "name": "stdout",
     "output_type": "stream",
     "text": [
      "[0 0 0 0 0 0 0 1 0 0]\n",
      "[-2.  -1.6 -1.2 -0.8 -0.4  0.   0.4  0.8  1.2  1.6  2. ]\n",
      "(array([1], dtype=int64), array([2], dtype=int64), array([3], dtype=int64), array([4], dtype=int64))\n",
      "(array([1234], dtype=int64), array([0], dtype=int64))\n"
     ]
    }
   ],
   "source": [
    "\n",
    "hist, bins = np.histogram(array[0], bins=10, range=(-2, 2))\n",
    "print(hist)\n",
    "print(bins)\n",
    "\n",
    "states = np.zeros([10, 10, 10, 10])\n",
    "states[1, 2, 3, 4] = 1\n",
    "\n",
    "print(np.where(states == 1))\n",
    "\n",
    "states = states.reshape(-1, 1)\n",
    "print(np.where(states == 1))"
   ]
  },
  {
   "cell_type": "code",
   "execution_count": 16,
   "metadata": {},
   "outputs": [
    {
     "name": "stdout",
     "output_type": "stream",
     "text": [
      "[[1. 1. 1.]\n",
      " [1. 1. 1.]]\n"
     ]
    },
    {
     "data": {
      "text/plain": [
       "array([[1.],\n",
       "       [1.],\n",
       "       [1.],\n",
       "       [1.],\n",
       "       [1.],\n",
       "       [1.]])"
      ]
     },
     "execution_count": 16,
     "metadata": {},
     "output_type": "execute_result"
    }
   ],
   "source": [
    "arr = np.ones([2, 3])\n",
    "print(arr)\n",
    "\n",
    "np.reshape(arr, [-1, 1])"
   ]
  },
  {
   "cell_type": "code",
   "execution_count": 17,
   "metadata": {},
   "outputs": [],
   "source": [
    "# State 를 받아서 각 요소의 값들이 어느 부분(index)의 속하였고, 그 State를 가리키는 일렬로 나열시의 index값을 반환\n",
    "def map_discrete_state(state):\n",
    "\n",
    "    pos, vel, ang, anv = state\n",
    "    \n",
    "    idx_pos = np.where(np.histogram(np.clip(pos, -2, 2), bins = n_bins_pos, range=(-2,2))[0]==1)[0][0]\n",
    "    idx_vel = np.where(np.histogram(np.clip(vel, -2, 2), bins = n_bins_vel, range=(-2,2))[0]==1)[0][0]\n",
    "    idx_ang = np.where(np.histogram(np.clip(ang, -0.4, 0.4), bins = n_bins_ang, range=(-0.4,0.4))[0]==1)[0][0]\n",
    "    idx_anv = np.where(np.histogram(np.clip(anv, -2, 2), bins = n_bins_anv, range=(-2,2))[0]==1)[0][0]\n",
    "    \n",
    "    states = np.zeros([n_bins_pos, n_bins_vel, n_bins_ang, n_bins_anv])\n",
    "    states[idx_pos, idx_vel, idx_ang, idx_anv] = 1\n",
    "    \n",
    "    states = states.reshape(-1, 1) # 일렬로 세움 -> 당연히 2차원 배열로 늘어서게 되있음.. 1열로만 만들기 위해선 n 행이 필요!\n",
    "    s = np.where(states == 1)[0][0]\n",
    "    \n",
    "    return s\n"
   ]
  },
  {
   "cell_type": "code",
   "execution_count": 18,
   "metadata": {},
   "outputs": [
    {
     "data": {
      "text/plain": [
       "5"
      ]
     },
     "execution_count": 18,
     "metadata": {},
     "output_type": "execute_result"
    }
   ],
   "source": [
    "np.where(np.histogram(np.clip(pos, -2, 2), bins = n_bins_pos, range=(-2,2))[0]==1)[0][0]"
   ]
  },
  {
   "cell_type": "markdown",
   "metadata": {},
   "source": [
    "## Train Using Q-Learning\n",
    "\n",
    "***process***  \n",
    "\n",
    "1. Set the variables and Q-table\n",
    "\n",
    "\n",
    "2. Get sample of State Random\n",
    "\n",
    "\n",
    "3. Update Q-Table While Episode done\n",
    "    1. Mapping the state to the index of Q-table (샘플이 어떤(몇번째) 스테이트인지 구함)\n",
    "    2. Exploitation VS Exploration\n",
    "    3. Update Q-Table According to Action for the next step (Using TD Algorithm / Q-Function)\n"
   ]
  },
  {
   "cell_type": "code",
   "execution_count": 20,
   "metadata": {},
   "outputs": [
    {
     "name": "stdout",
     "output_type": "stream",
     "text": [
      "0 15\n",
      "100 73\n",
      "200 84\n",
      "300 200\n",
      "400 47\n",
      "500 200\n",
      "600 186\n",
      "700 146\n",
      "800 200\n"
     ]
    }
   ],
   "source": [
    "alpha = 0.3\n",
    "gamma = 0.9\n",
    "\n",
    "Q_table = np.random.uniform(0, 1, (n_states, n_actions))\n",
    "\n",
    "for episode in range(801):\n",
    "    \n",
    "    done = False\n",
    "    \n",
    "    state = env.reset()\n",
    "    \n",
    "    count = 0\n",
    "    while not done:\n",
    "        count += 1\n",
    "        \n",
    "        s = map_discrete_state(state)\n",
    "        \n",
    "        epsilon = 0.1\n",
    "        if np.random.uniform() < epsilon:\n",
    "            a = env.action_space.sample()\n",
    "        else:\n",
    "            a = np.argmax(Q_table[s, :])\n",
    "        \n",
    "        next_state, reward, done, _ = env.step(a)\n",
    "        \n",
    "        if done:\n",
    "            reward = -100\n",
    "            Q_table[s, a] = reward\n",
    "        else:\n",
    "            next_s = map_discrete_state(next_state)\n",
    "            Q_table[s, a] = (1-alpha)*Q_table[s,a] + (alpha)*(reward + gamma*np.max(Q_table[next_s, :]))        \n",
    "        \n",
    "        state = next_state\n",
    "    \n",
    "    if episode % 100 == 0:\n",
    "        print(episode, count)\n",
    "env.close()"
   ]
  },
  {
   "cell_type": "markdown",
   "metadata": {},
   "source": [
    "## Test The Result"
   ]
  },
  {
   "cell_type": "code",
   "execution_count": 23,
   "metadata": {},
   "outputs": [],
   "source": [
    "state = env.reset()\n",
    "\n",
    "done = False\n",
    "\n",
    "while not done:\n",
    "    env.render()\n",
    "    \n",
    "    s = map_discrete_state(state)\n",
    "    a = np.argmax(Q_table[s, :])\n",
    "    \n",
    "    next_state, _, done, _ = env.step(a)\n",
    "    \n",
    "    state = next_state\n",
    "    \n",
    "env.close()"
   ]
  }
 ],
 "metadata": {
  "kernelspec": {
   "display_name": "Python 3",
   "language": "python",
   "name": "python3"
  },
  "language_info": {
   "codemirror_mode": {
    "name": "ipython",
    "version": 3
   },
   "file_extension": ".py",
   "mimetype": "text/x-python",
   "name": "python",
   "nbconvert_exporter": "python",
   "pygments_lexer": "ipython3",
   "version": "3.6.10"
  }
 },
 "nbformat": 4,
 "nbformat_minor": 4
}
