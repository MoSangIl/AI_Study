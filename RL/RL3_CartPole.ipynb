{
 "cells": [
  {
   "cell_type": "code",
   "execution_count": 2,
   "metadata": {},
   "outputs": [
    {
     "name": "stdout",
     "output_type": "stream",
     "text": [
      "Collecting gym\n",
      "  Using cached gym-0.17.2.tar.gz (1.6 MB)\n",
      "Requirement already satisfied: scipy in c:\\users\\mosan\\.conda\\envs\\venv\\lib\\site-packages (from gym) (1.4.1)\n",
      "Requirement already satisfied: numpy>=1.10.4 in c:\\users\\mosan\\.conda\\envs\\venv\\lib\\site-packages (from gym) (1.19.1)\n",
      "Collecting pyglet<=1.5.0,>=1.4.0\n",
      "  Using cached pyglet-1.5.0-py2.py3-none-any.whl (1.0 MB)\n",
      "Collecting cloudpickle<1.4.0,>=1.2.0\n",
      "  Using cached cloudpickle-1.3.0-py2.py3-none-any.whl (26 kB)\n",
      "Requirement already satisfied: future in c:\\users\\mosan\\.conda\\envs\\venv\\lib\\site-packages (from pyglet<=1.5.0,>=1.4.0->gym) (0.18.2)\n",
      "Building wheels for collected packages: gym\n",
      "  Building wheel for gym (setup.py): started\n",
      "  Building wheel for gym (setup.py): finished with status 'done'\n",
      "  Created wheel for gym: filename=gym-0.17.2-py3-none-any.whl size=1650896 sha256=ec84a0af0f57751f74799eafbf6d4d46e84124e65afdb526faa5a127307b9c97\n",
      "  Stored in directory: c:\\users\\mosan\\appdata\\local\\pip\\cache\\wheels\\be\\a1\\84\\6b4caa6c1cea703acbfea8a24cc3c1729bd359cd4a65755d8b\n",
      "Successfully built gym\n",
      "Installing collected packages: pyglet, cloudpickle, gym\n",
      "  Attempting uninstall: cloudpickle\n",
      "    Found existing installation: cloudpickle 1.5.0\n",
      "    Uninstalling cloudpickle-1.5.0:\n",
      "      Successfully uninstalled cloudpickle-1.5.0\n",
      "Successfully installed cloudpickle-1.3.0 gym-0.17.2 pyglet-1.5.0\n"
     ]
    }
   ],
   "source": [
    "#!pip install gym"
   ]
  },
  {
   "cell_type": "code",
   "execution_count": 1,
   "metadata": {},
   "outputs": [],
   "source": [
    "import numpy as np\n",
    "import matplotlib.pyplot as plt\n",
    "\n",
    "%matplotlib inline"
   ]
  },
  {
   "cell_type": "code",
   "execution_count": 2,
   "metadata": {},
   "outputs": [],
   "source": [
    "import gym\n",
    "\n",
    "env = gym.make('CartPole-v0')"
   ]
  },
  {
   "cell_type": "code",
   "execution_count": 3,
   "metadata": {},
   "outputs": [
    {
     "name": "stdout",
     "output_type": "stream",
     "text": [
      "[ 0.02999755 -0.00842166  0.03755834 -0.03345345]\n"
     ]
    }
   ],
   "source": [
    "observation = env.reset() #observation return ..\n",
    "print(observation)"
   ]
  },
  {
   "cell_type": "code",
   "execution_count": 4,
   "metadata": {},
   "outputs": [
    {
     "name": "stdout",
     "output_type": "stream",
     "text": [
      "[ 0.03828893  0.24252556  0.03166984 -0.26770723] 1.0 False {}\n",
      "[ 0.04313944  0.43718155  0.0263157  -0.55023543] 1.0 False {}\n",
      "[ 0.05188307  0.24170005  0.01531099 -0.24937878] 1.0 False {}\n",
      "[ 0.05671707  0.43660004  0.01032341 -0.53719324] 1.0 False {}\n",
      "[ 6.54490743e-02  6.31575331e-01 -4.20451560e-04 -8.26605567e-01] 1.0 False {}\n",
      "[ 0.07808058  0.43645913 -0.01695256 -0.53405491] 1.0 False {}\n",
      "[ 0.08680976  0.24157964 -0.02763366 -0.24676149] 1.0 False {}\n",
      "[ 0.09164136  0.43708513 -0.03256889 -0.54803103] 1.0 False {}\n",
      "[ 0.10038306  0.63264913 -0.04352951 -0.85079501] 1.0 False {}\n",
      "[ 0.11303604  0.82833672 -0.06054541 -1.15684199] 1.0 False {}\n",
      "[ 0.12960278  0.634054   -0.08368225 -0.88374137] 1.0 False {}\n",
      "[ 0.14228386  0.44016201 -0.10135708 -0.618495  ] 1.0 False {}\n",
      "[ 0.1510871   0.63654276 -0.11372698 -0.9413023 ] 1.0 False {}\n",
      "[ 0.16381795  0.83299848 -0.13255302 -1.26744593] 1.0 False {}\n",
      "[ 0.18047792  1.02954091 -0.15790194 -1.59852995] 1.0 False {}\n",
      "[ 0.20106874  0.83660311 -0.18987254 -1.35895416] 1.0 False {}\n",
      "[ 0.2178008   0.6443004  -0.21705163 -1.13117182] 1.0 True {}\n",
      "[-0.02381826 -0.20534325 -0.02647272  0.31794862] 1.0 False {}\n",
      "[-0.02792512 -0.40007835 -0.02011375  0.60216685] 1.0 False {}\n",
      "[-0.03592669 -0.20468092 -0.00807041  0.30321694] 1.0 False {}\n",
      "[-0.04002031 -0.00944488 -0.00200607  0.00799976] 1.0 False {}\n",
      "[-0.04020921 -0.20453801 -0.00184607  0.30004907] 1.0 False {}\n",
      "[-0.04429997 -0.3996336   0.00415491  0.59214921] 1.0 False {}\n",
      "[-0.05229264 -0.20457006  0.01599789  0.30077796] 1.0 False {}\n",
      "[-0.05638404 -0.00967974  0.02201345  0.01318307] 1.0 False {}\n",
      "[-0.05657763 -0.20511036  0.02227711  0.31272941] 1.0 False {}\n",
      "[-0.06067984 -0.40054247  0.0285317   0.61235377] 1.0 False {}\n",
      "[-0.06869069 -0.20583064  0.04077878  0.32879208] 1.0 False {}\n",
      "[-0.0728073  -0.01131223  0.04735462  0.04924266] 1.0 False {}\n",
      "[-0.07303355  0.18309984  0.04833947 -0.22813148] 1.0 False {}\n",
      "[-0.06937155 -0.01267839  0.04377684  0.0793991 ] 1.0 False {}\n",
      "[-0.06962512 -0.20839966  0.04536482  0.38556602] 1.0 False {}\n",
      "[-0.07379311 -0.0139501   0.05307614  0.10752444] 1.0 False {}\n",
      "[-0.07407211 -0.20979089  0.05522663  0.416469  ] 1.0 False {}\n",
      "[-0.07826793 -0.40565025  0.06355601  0.72603852] 1.0 False {}\n",
      "[-0.08638094 -0.21146199  0.07807678  0.45401711] 1.0 False {}\n",
      "[-0.09061018 -0.01752587  0.08715712  0.18693042] 1.0 False {}\n",
      "[-0.09096069 -0.21377969  0.09089573  0.5057855 ] 1.0 False {}\n",
      "[-0.09523629 -0.41005706  0.10101144  0.82567273] 1.0 False {}\n",
      "[-0.10343743 -0.60640467  0.1175249   1.14833976] 1.0 False {}\n",
      "[-0.11556552 -0.41299644  0.14049169  0.89470147] 1.0 False {}\n",
      "[-0.12382545 -0.60971523  0.15838572  1.22804115] 1.0 False {}\n",
      "[-0.13601976 -0.80648065  0.18294654  1.56586591] 1.0 False {}\n",
      "[-0.15214937 -0.61395532  0.21426386  1.335384  ] 1.0 True {}\n"
     ]
    }
   ],
   "source": [
    "for _ in range(2): # episode 2번 생성\n",
    "\n",
    "    env.reset()\n",
    "\n",
    "    for _ in range(50):\n",
    "        env.render()\n",
    "        action = env.action_space.sample() # action 랜덤으로 가져옴\n",
    "        observation, reward, done, info = env.step(action) # Transition 일으킴\n",
    "\n",
    "        print(observation, reward, done, info)\n",
    "\n",
    "        if done:\n",
    "            break"
   ]
  },
  {
   "cell_type": "code",
   "execution_count": 5,
   "metadata": {},
   "outputs": [],
   "source": [
    "env.action_space.sample()\n",
    "env.step?"
   ]
  },
  {
   "cell_type": "code",
   "execution_count": 6,
   "metadata": {},
   "outputs": [
    {
     "name": "stdout",
     "output_type": "stream",
     "text": [
      "Box(4,)\n",
      "Discrete(2)\n",
      "0\n"
     ]
    }
   ],
   "source": [
    "print(env.observation_space)\n",
    "print(env.action_space)\n",
    "print(env.action_space.sample())"
   ]
  },
  {
   "cell_type": "code",
   "execution_count": 7,
   "metadata": {},
   "outputs": [
    {
     "name": "stdout",
     "output_type": "stream",
     "text": [
      "[-4.8000002e+00 -3.4028235e+38 -4.1887903e-01 -3.4028235e+38]\n",
      "[4.8000002e+00 3.4028235e+38 4.1887903e-01 3.4028235e+38]\n"
     ]
    }
   ],
   "source": [
    "print(env.observation_space.low)\n",
    "print(env.observation_space.high)"
   ]
  },
  {
   "cell_type": "code",
   "execution_count": 8,
   "metadata": {},
   "outputs": [
    {
     "name": "stdout",
     "output_type": "stream",
     "text": [
      "(4,)\n",
      "2\n"
     ]
    }
   ],
   "source": [
    "n_observation = env.observation_space.shape\n",
    "n_actions = env.action_space.n\n",
    "\n",
    "print(n_observation)\n",
    "print(n_actions)"
   ]
  },
  {
   "cell_type": "code",
   "execution_count": 9,
   "metadata": {},
   "outputs": [],
   "source": [
    "n_bins_pos = 10\n",
    "n_bins_vel = 10\n",
    "n_bins_ang = 10\n",
    "n_bins_anv = 10"
   ]
  },
  {
   "cell_type": "code",
   "execution_count": 11,
   "metadata": {},
   "outputs": [],
   "source": [
    "n_states = n_bins_pos*n_bins_vel*n_bins_ang*n_bins_anv\n",
    "n_action = 2\n",
    "\n",
    "Q_table = np.random.uniform(0, 1,(n_states, n_actions)) # 0~1 값 & shape"
   ]
  },
  {
   "cell_type": "code",
   "execution_count": 12,
   "metadata": {},
   "outputs": [
    {
     "name": "stdout",
     "output_type": "stream",
     "text": [
      "[[0.4720598  0.03861795]\n",
      " [0.61408808 0.19113143]\n",
      " [0.63307965 0.9249879 ]\n",
      " ...\n",
      " [0.07325044 0.18650188]\n",
      " [0.97000806 0.6947951 ]\n",
      " [0.64647507 0.04529677]] (10000, 2)\n"
     ]
    }
   ],
   "source": [
    "print(Q_table, Q_table.shape)"
   ]
  },
  {
   "cell_type": "code",
   "execution_count": 13,
   "metadata": {},
   "outputs": [
    {
     "name": "stdout",
     "output_type": "stream",
     "text": [
      "[-0.02587327 -0.1790236   0.01811598  0.27319424]\n"
     ]
    }
   ],
   "source": [
    "env.reset()\n",
    "observation, _, _, _ = env.step(0)\n",
    "env.close()\n",
    "\n",
    "pos, vel, ang, anv = observation\n",
    "print(observation)"
   ]
  },
  {
   "cell_type": "code",
   "execution_count": 14,
   "metadata": {},
   "outputs": [],
   "source": [
    "def map_discrete_state(state):\n",
    "    pos, vel, ang, anv = state\n",
    "    \n",
    "    idx_pos = np.where(np.histogram(np.clip(pos, -2, 2), bins = n_bins_pos, range=(-2,2))[0]==1)[0][0]\n",
    "    idx_vel = np.where(np.histogram(np.clip(vel, -2, 2), bins = n_bins_vel, range=(-2,2))[0]==1)[0][0]\n",
    "    idx_ang = np.where(np.histogram(np.clip(ang, -0.4, 0.4), bins = n_bins_ang, range=(-0.4,0.4))[0]==1)[0][0]\n",
    "    idx_anv = np.where(np.histogram(np.clip(anv, -2, 2), bins = n_bins_anv, range=(-2,2))[0]==1)[0][0]\n",
    "    \n",
    "    states = np.zeros([n_bins_pos, n_bins_vel, n_bins_ang, n_bins_anv])\n",
    "    states[idx_pos, idx_vel, idx_ang, idx_anv] = 1\n",
    "    \n",
    "    states = states.reshape(-1, 1) # 일렬로 세움\n",
    "    s = np.where(states == 1)[0][0]\n",
    "    \n",
    "    return s\n"
   ]
  },
  {
   "cell_type": "code",
   "execution_count": 15,
   "metadata": {},
   "outputs": [
    {
     "data": {
      "text/plain": [
       "4"
      ]
     },
     "execution_count": 15,
     "metadata": {},
     "output_type": "execute_result"
    }
   ],
   "source": [
    "np.where(np.histogram(np.clip(pos, -2, 2), bins = n_bins_pos, range=(-2,2))[0]==1)[0][0]"
   ]
  },
  {
   "cell_type": "code",
   "execution_count": 16,
   "metadata": {},
   "outputs": [
    {
     "name": "stdout",
     "output_type": "stream",
     "text": [
      "0 18\n",
      "100 56\n",
      "200 12\n",
      "300 17\n",
      "400 33\n",
      "500 36\n",
      "600 17\n",
      "700 20\n",
      "800 11\n"
     ]
    }
   ],
   "source": [
    "alpha = 0.3\n",
    "gamma = 0.9\n",
    "\n",
    "Q_table = np.random.uniform(0, 1, (n_states, n_actions))\n",
    "\n",
    "for episode in range(801):\n",
    "    \n",
    "    done = False\n",
    "    \n",
    "    state = env.reset()\n",
    "    \n",
    "    count = 0\n",
    "    while not done:\n",
    "        count += 1\n",
    "        \n",
    "        s = map_discrete_state(state)\n",
    "        \n",
    "        epsilon = 0.1\n",
    "        if np.random.uniform() < epsilon:\n",
    "            a = env.action_space.sample()\n",
    "        else:\n",
    "            a = np.argmax(Q_table[s, :])\n",
    "        \n",
    "        next_state, reward, done, _ = env.step(a)\n",
    "        \n",
    "        if done:\n",
    "            reward = -100\n",
    "            Q_table[s, a] = reward\n",
    "        else:\n",
    "            next_s = map_discrete_state(next_state)\n",
    "            Q_table[s, a] = (1-alpha)*Q_table[s,a] + (alpha)*(reward + gamma*np.argmax(Q_table[next_s, :]))        \n",
    "        \n",
    "        state = next_state\n",
    "    \n",
    "    if episode % 100 == 0:\n",
    "        print(episode, count)\n",
    "env.close()"
   ]
  },
  {
   "cell_type": "code",
   "execution_count": 27,
   "metadata": {},
   "outputs": [],
   "source": [
    "state = env.reset()\n",
    "\n",
    "done = False\n",
    "\n",
    "while not done:\n",
    "    env.render()\n",
    "    \n",
    "    s = map_discrete_state(state)\n",
    "    a = np.argmax(Q_table[s, :])\n",
    "    \n",
    "    next_state, _, done, _ = env.step(a)\n",
    "    \n",
    "    state = next_state\n",
    "    \n",
    "env.close()"
   ]
  },
  {
   "cell_type": "code",
   "execution_count": null,
   "metadata": {},
   "outputs": [],
   "source": []
  },
  {
   "cell_type": "code",
   "execution_count": null,
   "metadata": {},
   "outputs": [],
   "source": []
  }
 ],
 "metadata": {
  "kernelspec": {
   "display_name": "Python 3",
   "language": "python",
   "name": "python3"
  },
  "language_info": {
   "codemirror_mode": {
    "name": "ipython",
    "version": 3
   },
   "file_extension": ".py",
   "mimetype": "text/x-python",
   "name": "python",
   "nbconvert_exporter": "python",
   "pygments_lexer": "ipython3",
   "version": "3.6.10"
  }
 },
 "nbformat": 4,
 "nbformat_minor": 4
}
