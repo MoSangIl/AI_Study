{
 "cells": [
  {
   "cell_type": "markdown",
   "metadata": {},
   "source": [
    "# MDP Markov Decision Process\n",
    "\n",
    "**Definition: A MDP is a tuple <S, A, P, R, r>**\n",
    "\n",
    "- (Plus from MRP) A is a finite set of actions\n",
    "    - $P_{ss'}^a = P[S_{t+1} = s' | S_t = s, A_t = a]$\n",
    "    - $R_s^a = E[R_{t+1} | S_t = s, A_t = a]$"
   ]
  },
  {
   "cell_type": "markdown",
   "metadata": {},
   "source": [
    "*Environment -> States are Markov*\n",
    "\n",
    "Environmnet - Markov Chain  \n",
    "Agent - Action을 취할 수 있는 권한이 있다.\n",
    "\n",
    "Now, it is Active not Passive\n",
    "\n",
    "Important Process of MDP\n",
    "![MDP_process](./MDPprocess.png)"
   ]
  },
  {
   "cell_type": "markdown",
   "metadata": {},
   "source": [
    "### Deterministic VS Stochastic\n",
    "\n",
    "Deterministic : Cirtain 갈 곳이 하나로 정해져 있다. (p = 1)  \n",
    "\n",
    "Stochastic : Uncirtain  여러 State로 갈 수 있다. (p1 = 0.2, p2 = 0.8)"
   ]
  },
  {
   "cell_type": "markdown",
   "metadata": {},
   "source": [
    "## Policy  $\\pi$\n",
    "\n",
    "policy 란 어떤 State에서 어떤 Action을 취할 것인지 Mapping 하는 것  \n",
    "\n",
    "-> 이때, 각 State 에서 Action이 고정되기 때문에 MDP -> MRP 가 된다.  \n",
    "\n",
    "**Policy 는 Deterministic 할 수도, Stochastic 할 수 도 있다.**  \n",
    "이때, Policy 행렬 -> $\\pi(a|s)$\n",
    "\n",
    "- Policy 는 현재 상태에 의존적이다.\n",
    "- Policy 는 시간에 독립적이고, Policies are stationary ->(Optimal)\n",
    "\n",
    "$$P^\\pi \\ is \\ a \\ matrix \\ containing \\ probabilities \\ for \\ each \\ transition \\ under \\ policy \\ \\pi$$\n",
    "\n",
    "즉, A + P -> $P^\\pi$\n",
    "\n",
    "### Question?\n",
    "- How many possible policies in our example?\n",
    "Action 에 따라 가능 한 policy는 여러가지가 될 수 있다!\n",
    "\n",
    "- Which of the above two policies is best?\n",
    "\n",
    "- How do you compute the optimal policy?"
   ]
  },
  {
   "cell_type": "code",
   "execution_count": null,
   "metadata": {},
   "outputs": [],
   "source": []
  }
 ],
 "metadata": {
  "kernelspec": {
   "display_name": "Python 3",
   "language": "python",
   "name": "python3"
  },
  "language_info": {
   "codemirror_mode": {
    "name": "ipython",
    "version": 3
   },
   "file_extension": ".py",
   "mimetype": "text/x-python",
   "name": "python",
   "nbconvert_exporter": "python",
   "pygments_lexer": "ipython3",
   "version": "3.6.10"
  }
 },
 "nbformat": 4,
 "nbformat_minor": 4
}
