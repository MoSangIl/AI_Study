{
 "cells": [
  {
   "cell_type": "code",
   "execution_count": 3,
   "metadata": {},
   "outputs": [],
   "source": [
    "%matplotlib inline"
   ]
  },
  {
   "cell_type": "markdown",
   "metadata": {},
   "source": [
    "\n",
    "# Recurrence Plots\n",
    "\n",
    "\n",
    "This example shows how you can transform a time series into a Recurrence Plot\n",
    "using :class:`pyts.image.RecurrencePlots`.\n",
    "\n"
   ]
  },
  {
   "cell_type": "code",
   "execution_count": 17,
   "metadata": {},
   "outputs": [],
   "source": [
    "import numpy as np\n",
    "import matplotlib.pyplot as plt\n",
    "from pyts.image import RecurrencePlots\n",
    "\n",
    "# Parameters\n",
    "n_samples, n_features = 1, 144"
   ]
  },
  {
   "cell_type": "code",
   "execution_count": 18,
   "metadata": {},
   "outputs": [
    {
     "name": "stdout",
     "output_type": "stream",
     "text": [
      "RandomState(MT19937)\n",
      "[[-0.27071232  0.10484805  0.25052782 -0.92519997  0.56714366 -1.04018022\n",
      "  -0.15367595  0.78985181 -1.22621585 -0.94800699 -0.56965394 -0.97715021\n",
      "  -0.77063171 -0.03371129 -1.03285925  1.14242738 -0.60977801  1.46941639\n",
      "   1.49267884  0.70712523 -1.85849026 -1.37062377 -0.33010639 -1.51528995\n",
      "   1.20006019 -1.82261914  0.26938454 -0.44642438  1.1143136  -1.3808026\n",
      "   1.01542452  0.22408128 -0.64455111  0.66153166  1.29296485 -0.89531205\n",
      "  -0.56831065 -2.11161836 -0.81830772 -0.96238361  0.12450167  0.10850869\n",
      "  -0.43930126 -0.71356037  0.93418096  0.05865553  1.60971428  0.85990674\n",
      "  -0.98520304 -0.95836832  0.44910865 -0.94246256  0.15890945  0.38807562\n",
      "   0.43733776  0.41822955 -0.73218499 -1.42828297 -2.00921735 -0.23343958\n",
      "   1.80395237 -1.94867066  1.36785101 -1.85873942 -1.23395073 -0.50756976\n",
      "   1.4071715  -0.94109705  0.87350473  1.13510019  1.1659844   0.04921449\n",
      "   0.51094674  0.63129939  0.88770207  0.05765164 -0.32954444 -2.83207869\n",
      "  -1.18255366 -0.05484602  1.24835183  2.51034292 -0.17133646 -0.45805514\n",
      "  -1.33878152  1.32006292 -1.40932928 -1.09829722 -0.48675106 -1.00097056\n",
      "   1.77387679  0.55578305 -0.54871197  1.08001575 -0.75243358  1.15879497\n",
      "   0.75087133 -1.26271269 -0.79070053 -0.17078885 -1.61938536  0.64289466\n",
      "  -0.63412657 -0.56148287 -1.02556547 -0.25455271  0.3961761   0.5166931\n",
      "   0.75148994  1.14887901  0.23861987 -0.75117731  0.31066401 -1.08120922\n",
      "   0.0364976  -0.29444887 -0.27087118 -0.12885845 -1.01822144 -1.91796875\n",
      "  -0.38294503  1.63635555 -1.50357428 -0.0114092   0.76021827  0.49461804\n",
      "   0.08958527 -0.33462448  2.36055095  0.61026022  1.10742501  0.92915347\n",
      "  -0.89823368  0.29691641  1.29742011  0.28304745 -0.19181926 -0.78840366\n",
      "   0.43176591  0.05909669  1.47085812 -1.55421805  0.27262686 -0.5656834 ]]\n"
     ]
    },
    {
     "data": {
      "text/plain": [
       "<matplotlib.image.AxesImage at 0x1a9b30bd6a0>"
      ]
     },
     "execution_count": 18,
     "metadata": {},
     "output_type": "execute_result"
    },
    {
     "data": {
      "image/png": "[encoded data removed]",
      "text/plain": [
       "<Figure size 432x288 with 1 Axes>"
      ]
     },
     "metadata": {
      "needs_background": "light"
     },
     "output_type": "display_data"
    }
   ],
   "source": [
    "# Toy dataset\n",
    "rng = np.random.RandomState(41)\n",
    "print(rng)\n",
    "X = rng.randn(n_samples, n_features)\n",
    "print(X)\n",
    "plt.imshow(X)\n",
    "# np.random.RandomState"
   ]
  },
  {
   "cell_type": "code",
   "execution_count": 6,
   "metadata": {},
   "outputs": [
    {
     "name": "stdout",
     "output_type": "stream",
     "text": [
      "[[[1. 1. 1. ... 0. 1. 1.]\n",
      "  [1. 1. 1. ... 0. 1. 0.]\n",
      "  [1. 1. 1. ... 0. 1. 0.]\n",
      "  ...\n",
      "  [0. 0. 0. ... 1. 0. 0.]\n",
      "  [1. 1. 1. ... 0. 1. 0.]\n",
      "  [1. 0. 0. ... 0. 0. 1.]]\n",
      "\n",
      " [[1. 1. 1. ... 0. 0. 0.]\n",
      "  [1. 1. 1. ... 0. 0. 0.]\n",
      "  [1. 1. 1. ... 0. 0. 0.]\n",
      "  ...\n",
      "  [0. 0. 0. ... 1. 0. 1.]\n",
      "  [0. 0. 0. ... 0. 1. 0.]\n",
      "  [0. 0. 0. ... 1. 0. 1.]]\n",
      "\n",
      " [[1. 1. 0. ... 1. 0. 1.]\n",
      "  [1. 1. 0. ... 1. 0. 1.]\n",
      "  [0. 0. 1. ... 0. 0. 0.]\n",
      "  ...\n",
      "  [1. 1. 0. ... 1. 0. 1.]\n",
      "  [0. 0. 0. ... 0. 1. 0.]\n",
      "  [1. 1. 0. ... 1. 0. 1.]]\n",
      "\n",
      " ...\n",
      "\n",
      " [[1. 0. 0. ... 0. 0. 0.]\n",
      "  [0. 1. 0. ... 1. 0. 0.]\n",
      "  [0. 0. 1. ... 0. 0. 0.]\n",
      "  ...\n",
      "  [0. 1. 0. ... 1. 0. 0.]\n",
      "  [0. 0. 0. ... 0. 1. 0.]\n",
      "  [0. 0. 0. ... 0. 0. 1.]]\n",
      "\n",
      " [[1. 0. 0. ... 0. 1. 0.]\n",
      "  [0. 1. 0. ... 0. 0. 1.]\n",
      "  [0. 0. 1. ... 0. 0. 0.]\n",
      "  ...\n",
      "  [0. 0. 0. ... 1. 0. 0.]\n",
      "  [1. 0. 0. ... 0. 1. 1.]\n",
      "  [0. 1. 0. ... 0. 1. 1.]]\n",
      "\n",
      " [[1. 0. 0. ... 0. 0. 0.]\n",
      "  [0. 1. 0. ... 1. 0. 0.]\n",
      "  [0. 0. 1. ... 1. 0. 1.]\n",
      "  ...\n",
      "  [0. 1. 1. ... 1. 0. 1.]\n",
      "  [0. 0. 0. ... 0. 1. 0.]\n",
      "  [0. 0. 1. ... 1. 0. 1.]]]\n"
     ]
    }
   ],
   "source": [
    "# Recurrence plot transformation\n",
    "rp = RecurrencePlots(dimension=1,\n",
    "                     epsilon='percentage_points',\n",
    "                     percentage=30)\n",
    "X_rp = rp.fit_transform(X)\n",
    "print(X_rp\\)"
   ]
  },
  {
   "cell_type": "code",
   "execution_count": 2,
   "metadata": {},
   "outputs": [
    {
     "data": {
      "image/png": "[encoded data removed]",
      "text/plain": [
       "<Figure size 576x576 with 1 Axes>"
      ]
     },
     "metadata": {
      "needs_background": "light"
     },
     "output_type": "display_data"
    }
   ],
   "source": [
    "# Show the results for the first time series\n",
    "plt.figure(figsize=(8, 8))\n",
    "plt.imshow(X_rp[0], cmap='binary', origin='lower')\n",
    "plt.show()"
   ]
  },
  {
   "cell_type": "code",
   "execution_count": null,
   "metadata": {},
   "outputs": [],
   "source": []
  }
 ],
 "metadata": {
  "kernelspec": {
   "display_name": "Python 3",
   "language": "python",
   "name": "python3"
  },
  "language_info": {
   "codemirror_mode": {
    "name": "ipython",
    "version": 3
   },
   "file_extension": ".py",
   "mimetype": "text/x-python",
   "name": "python",
   "nbconvert_exporter": "python",
   "pygments_lexer": "ipython3",
   "version": "3.8.5"
  }
 },
 "nbformat": 4,
 "nbformat_minor": 1
}
