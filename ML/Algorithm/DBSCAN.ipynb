{
 "cells": [
  {
   "cell_type": "code",
   "execution_count": 62,
   "metadata": {},
   "outputs": [],
   "source": [
    "from sklearn.cluster import DBSCAN\n",
    "from sklearn.cluster import KMeans\n",
    "\n",
    "from sklearn.datasets import make_blobs\n",
    "from sklearn.datasets import make_moons\n",
    "\n",
    "from sklearn.preprocessing import MinMaxScaler\n",
    "from sklearn.preprocessing import StandardScaler\n",
    "\n",
    "import pandas as pd\n",
    "import numpy as np\n",
    "import matplotlib.pyplot as plt\n",
    "\n"
   ]
  },
  {
   "cell_type": "code",
   "execution_count": 53,
   "metadata": {},
   "outputs": [],
   "source": [
    "DBSCAN?"
   ]
  },
  {
   "cell_type": "code",
   "execution_count": 66,
   "metadata": {
    "scrolled": false
   },
   "outputs": [
    {
     "name": "stdout",
     "output_type": "stream",
     "text": [
      "clusters\n",
      "클러스터레이블: [-1 -1 -1 -1 -1 -1 -1 -1 -1  0 -1 -1 -1 -1 -1 -1 -1 -1 -1 -1 -1 -1 -1 -1\n",
      " -1 -1 -1 -1 -1 -1 -1 -1 -1 -1 -1 -1  1 -1 -1 -1 -1 -1 -1 -1  1  0 -1 -1\n",
      " -1 -1  0 -1 -1 -1 -1 -1 -1 -1 -1 -1 -1 -1 -1 -1 -1 -1 -1 -1 -1 -1 -1 -1\n",
      " -1 -1 -1 -1 -1  0 -1 -1 -1  1 -1 -1 -1  1  1 -1 -1  0 -1 -1 -1 -1 -1 -1\n",
      " -1 -1 -1 -1]\n"
     ]
    }
   ],
   "source": [
    "x, y = make_blobs(n_samples=100, random_state=0)\n",
    "\n",
    "scaler_MMS = MinMaxScaler().fit(x)\n",
    "x_scaled_MMS = scaler_MMS.transform(x)\n",
    "dbscan = DBSCAN(eps=0.3, min_samples=4)\n",
    "clusters = dbscan.fit_predict(x)\n",
    "\n",
    "print('clusters\\n클러스터레이블: {}'.format(clusters))\n",
    "# 모든 포인트에 '잡음 포인트' 를 의미하는 '-1' 할당\n",
    "## eps / min_smaples를 적절하게 세팅하자"
   ]
  },
  {
   "cell_type": "code",
   "execution_count": 69,
   "metadata": {},
   "outputs": [
    {
     "data": {
      "text/plain": [
       "array([0, 2, 0, 1, 1, 2, 1, 1, 0, 2, 2, 2, 0, 2, 1, 0, 1, 1, 1, 1, 1, 1,\n",
       "       1, 1, 0, 0, 0, 0, 1, 1, 2, 0, 0, 2, 1, 2, 2, 0, 0, 1, 1, 0, 0, 2,\n",
       "       2, 2, 0, 0, 1, 1, 2, 0, 2, 0, 1, 1, 0, 0, 2, 0, 0, 1, 1, 1, 1, 0,\n",
       "       2, 1, 0, 2, 1, 0, 1, 0, 2, 2, 2, 2, 1, 0, 2, 2, 0, 2, 2, 2, 2, 2,\n",
       "       0, 2, 0, 0, 1, 1, 1, 1, 2, 2, 1, 1])"
      ]
     },
     "execution_count": 69,
     "metadata": {},
     "output_type": "execute_result"
    }
   ],
   "source": [
    "kMeans_clusters = KMeans(n_clusters=3).fit(x)\n",
    "kMeans_clusters.labels_"
   ]
  },
  {
   "cell_type": "code",
   "execution_count": 72,
   "metadata": {
    "scrolled": false
   },
   "outputs": [
    {
     "name": "stdout",
     "output_type": "stream",
     "text": [
      "           0         1  clusterid\n",
      "0   2.631858  0.689365          2\n",
      "1   0.080804  4.690690          0\n",
      "2   3.002519  0.742654          2\n",
      "3  -0.637628  4.091047          1\n",
      "4  -0.072283  2.883769          1\n",
      "..       ...       ...        ...\n",
      "95 -0.338874  3.234825          1\n",
      "96  1.289338  3.449692          0\n",
      "97  1.840706  3.561622          0\n",
      "98 -0.901673  1.315825          1\n",
      "99 -2.752340  3.762245          1\n",
      "\n",
      "[100 rows x 3 columns]\n"
     ]
    }
   ],
   "source": [
    "#df_ = pd.DataFrame(x)\n",
    "#df_['clusterid'] = kMeans_clusters.labels_\n",
    "df = np.hstack([x, kMeans_clusters.labels_.reshape(-1, 1)])\n",
    "print(df_)\n",
    "#df = df_.values"
   ]
  },
  {
   "cell_type": "code",
   "execution_count": 73,
   "metadata": {},
   "outputs": [
    {
     "data": {
      "image/png": "[encoded data removed]",
      "text/plain": [
       "<Figure size 432x288 with 1 Axes>"
      ]
     },
     "metadata": {
      "needs_background": "light"
     },
     "output_type": "display_data"
    }
   ],
   "source": [
    "\n",
    "df_ft0 = df[df[:,2]==0, :] # 클러스터 0 추출\n",
    "\n",
    "df_ft1 = df[df[:,2]==1, :] # 클러스터 1 추출\n",
    "df_ft2 = df[df[:,2]==2, :] # 클러스터 2 추출\n",
    "\n",
    "\n",
    "\n",
    "# matplotlib로 그래프 그리기\n",
    "\n",
    "plt.scatter(df_ft0[:, 0], df_ft0[:, 1], label='cluster 0', cmap='Pairs') # x, y, label, 색상\n",
    "\n",
    "plt.scatter(df_ft1[:, 0], df_ft1[:, 1], label='cluster 1', cmap='Pairs')\n",
    "plt.scatter(df_ft2[:, 0], df_ft2[:, 1], label='cluster 2', cmap='Pairs')\n",
    "\n",
    "plt.xlabel('feature 0')\n",
    "\n",
    "plt.ylabel('feature 1')\n",
    "\n",
    "plt.legend()\n",
    "\n",
    "plt.show()"
   ]
  },
  {
   "cell_type": "code",
   "execution_count": 67,
   "metadata": {},
   "outputs": [
    {
     "name": "stdout",
     "output_type": "stream",
     "text": [
      "[[ 2.63185834  0.6893649  -1.        ]\n",
      " [ 0.08080352  4.69068983 -1.        ]\n",
      " [ 3.00251949  0.74265357 -1.        ]\n",
      " [-0.63762777  4.09104705 -1.        ]\n",
      " [-0.07228289  2.88376939 -1.        ]\n",
      " [ 0.62835793  4.4601363  -1.        ]\n",
      " [-2.67437267  2.48006222 -1.        ]\n",
      " [-0.57748321  3.0054335  -1.        ]\n",
      " [ 2.72756228  1.3051255  -1.        ]\n",
      " [ 0.34194798  3.94104616  0.        ]\n",
      " [ 1.70536064  4.43277024 -1.        ]\n",
      " [ 2.20656076  5.50616718 -1.        ]\n",
      " [ 2.52092996 -0.63858003 -1.        ]\n",
      " [ 2.50904929  5.7731461  -1.        ]\n",
      " [-2.27165884  2.09144372 -1.        ]\n",
      " [ 3.92282648  1.80370832 -1.        ]\n",
      " [-1.62535654  2.25440397 -1.        ]\n",
      " [ 0.1631238   2.57750473 -1.        ]\n",
      " [-1.59514562  4.63122498 -1.        ]\n",
      " [-2.63128735  2.97004734 -1.        ]\n",
      " [-2.17052242  0.69447911 -1.        ]\n",
      " [-1.56618683  1.74978876 -1.        ]\n",
      " [-0.88677249  1.30092622 -1.        ]\n",
      " [ 0.08848433  2.32299086 -1.        ]\n",
      " [ 0.9845149   1.95211539 -1.        ]\n",
      " [ 2.18217961  1.29965302 -1.        ]\n",
      " [ 1.28535145  1.43691285 -1.        ]\n",
      " [ 0.89011768  1.79849015 -1.        ]\n",
      " [-1.89608585  2.67850308 -1.        ]\n",
      " [-0.75511346  3.74138642 -1.        ]\n",
      " [ 1.12031365  5.75806083 -1.        ]\n",
      " [ 3.54351972  2.79355284 -1.        ]\n",
      " [ 1.64164854  0.15020885 -1.        ]\n",
      " [ 2.47034915  4.09862906 -1.        ]\n",
      " [-1.98243652  2.93536142 -1.        ]\n",
      " [ 0.85624076  3.86236175 -1.        ]\n",
      " [ 0.87305123  4.71438583  1.        ]\n",
      " [ 1.38093486  0.92949422 -1.        ]\n",
      " [ 2.41163392  1.60423683 -1.        ]\n",
      " [-2.26646701  4.46089686 -1.        ]\n",
      " [-0.40026809  1.83795075 -1.        ]\n",
      " [ 2.45760916  0.21285357 -1.        ]\n",
      " [ 2.3535057   2.22404956 -1.        ]\n",
      " [-0.73000011  6.25456272 -1.        ]\n",
      " [ 1.1312175   4.68194985  1.        ]\n",
      " [ 0.4666179   3.86571303  0.        ]\n",
      " [ 1.18447037  0.318814   -1.        ]\n",
      " [ 1.36069966  0.74802912 -1.        ]\n",
      " [-2.43972624  4.03489855 -1.        ]\n",
      " [-1.00362735  2.74633593 -1.        ]\n",
      " [ 0.63633194  4.25441021  0.        ]\n",
      " [ 1.41942144  1.57409695 -1.        ]\n",
      " [ 0.06897171  4.35573272 -1.        ]\n",
      " [ 2.2635425   1.8743027  -1.        ]\n",
      " [-2.02493646  4.84741432 -1.        ]\n",
      " [-0.6700734   2.26685667 -1.        ]\n",
      " [ 3.23404709  0.71773882 -1.        ]\n",
      " [ 2.06576754  2.68353415 -1.        ]\n",
      " [ 1.0220286   4.11660348 -1.        ]\n",
      " [ 3.93841822 -0.4500954  -1.        ]\n",
      " [ 0.78478252  1.86706037 -1.        ]\n",
      " [-2.81976092  3.18493313 -1.        ]\n",
      " [-2.33031368  2.22833248 -1.        ]\n",
      " [-1.36023052  3.5529137  -1.        ]\n",
      " [-3.01816161  3.35727396 -1.        ]\n",
      " [ 1.65209057  2.12010873 -1.        ]\n",
      " [ 1.7373078   4.42546234 -1.        ]\n",
      " [-2.52711936  1.37311116 -1.        ]\n",
      " [ 1.74371499  0.953829   -1.        ]\n",
      " [ 1.9263585   4.15243012 -1.        ]\n",
      " [-0.60604519  3.23660991 -1.        ]\n",
      " [ 3.2460247   2.84942165 -1.        ]\n",
      " [-1.57671974  4.95740592 -1.        ]\n",
      " [ 3.97820955  2.37817845 -1.        ]\n",
      " [ 1.19404184  2.80772861 -1.        ]\n",
      " [ 2.11567076  3.06896151 -1.        ]\n",
      " [ 1.15369622  3.90200639 -1.        ]\n",
      " [ 0.30380963  3.94423417  0.        ]\n",
      " [-1.88089792  1.54293097 -1.        ]\n",
      " [ 2.43169305 -0.20173713 -1.        ]\n",
      " [-0.27652528  5.08127768 -1.        ]\n",
      " [ 1.0427873   4.60625923  1.        ]\n",
      " [ 1.78726415  1.70012006 -1.        ]\n",
      " [-0.65392827  4.76656958 -1.        ]\n",
      " [ 0.88214412  2.84128485 -1.        ]\n",
      " [ 1.42013331  4.63746165  1.        ]\n",
      " [ 0.94808785  4.7321192   1.        ]\n",
      " [ 0.46546494  3.12315514 -1.        ]\n",
      " [ 2.66934689  1.81987033 -1.        ]\n",
      " [ 0.58894326  4.00148458  0.        ]\n",
      " [ 1.62011397  2.74692739 -1.        ]\n",
      " [ 2.45127423 -0.19539785 -1.        ]\n",
      " [-0.42724442  3.57314599 -1.        ]\n",
      " [-2.56114686  3.59947678 -1.        ]\n",
      " [-2.84281142  2.45629766 -1.        ]\n",
      " [-0.33887422  3.23482487 -1.        ]\n",
      " [ 1.28933778  3.44969159 -1.        ]\n",
      " [ 1.84070628  3.56162231 -1.        ]\n",
      " [-0.90167256  1.31582461 -1.        ]\n",
      " [-2.75233953  3.76224524 -1.        ]]\n"
     ]
    }
   ],
   "source": [
    "# visualization\n",
    "df = np.hstack([x, clusters.reshape(-1, 1)]) # x_scaled_ss 오른쪽에 1열 붙이기\n",
    "print(df)"
   ]
  },
  {
   "cell_type": "code",
   "execution_count": 68,
   "metadata": {},
   "outputs": [
    {
     "data": {
      "image/png": "[encoded data removed]",
      "text/plain": [
       "<Figure size 432x288 with 1 Axes>"
      ]
     },
     "metadata": {
      "needs_background": "light"
     },
     "output_type": "display_data"
    }
   ],
   "source": [
    "df_ft0 = df[df[:,2]==0, :] # 클러스터 0 추출\n",
    "\n",
    "df_ft1 = df[df[:,2]==1, :] # 클러스터 1 추출\n",
    "\n",
    "df_ft2 = df[df[:,2]==-1, :]\n",
    "\n",
    "\n",
    "# matplotlib로 그래프 그리기\n",
    "\n",
    "plt.scatter(df_ft0[:, 0], df_ft0[:, 1], label='cluster 0', cmap='Pairs') # x, y, label, 색상\n",
    "\n",
    "plt.scatter(df_ft1[:, 0], df_ft1[:, 1], label='cluster 1', cmap='Pairs')\n",
    "\n",
    "plt.scatter(df_ft2[:, 0], df_ft2[:, 1], label='noise', cmap='Pairs')\n",
    "\n",
    "plt.xlabel('feature 0')\n",
    "\n",
    "plt.ylabel('feature 1')\n",
    "\n",
    "plt.legend()\n",
    "\n",
    "plt.show()"
   ]
  },
  {
   "cell_type": "markdown",
   "metadata": {},
   "source": [
    "## 전처리 후 make_blobs에 DBSCAN 적용"
   ]
  },
  {
   "cell_type": "markdown",
   "metadata": {},
   "source": [
    "### Min-Max Scaling"
   ]
  },
  {
   "cell_type": "code",
   "execution_count": 4,
   "metadata": {},
   "outputs": [
    {
     "name": "stdout",
     "output_type": "stream",
     "text": [
      "clusters_MMS\n",
      "클러스터레이블: [0]\n"
     ]
    }
   ],
   "source": [
    "from sklearn.datasets import make_moons\n",
    "\n",
    "from sklearn.preprocessing import StandardScaler\n",
    "\n",
    "from sklearn.preprocessing import MinMaxScaler\n",
    "\n",
    "import numpy as np\n",
    "import matplotlib.pyplot as plt\n",
    "\n",
    "# dataset\n",
    "x, y = make_moons(n_samples=200, noise=0.05, random_state=0)\n",
    "\n",
    "\n",
    "# MinMaxScaler 메소드로 전처리\n",
    "scaler_MMS = MinMaxScaler().fit(x)\n",
    "x_scaled_MMS = scaler_MMS.transform(x) # 전처리 메소드를 훈련데이터에 적용\n",
    "dbscan = DBSCAN()\n",
    "clusters_MMS = dbscan.fit_predict(x_scaled_MMS)\n",
    "print('clusters_MMS\\n클러스터레이블: {}'.format(np.unique(clusters_MMS)))\n",
    "\n",
    "## 예측한 레이블이 0으로 전부 하나의 클러스터로 표현\n",
    "# MinMax 전처리가 적합하지 않다."
   ]
  },
  {
   "cell_type": "code",
   "execution_count": 5,
   "metadata": {},
   "outputs": [
    {
     "data": {
      "image/png": "[encoded data removed]",
      "text/plain": [
       "<Figure size 432x288 with 1 Axes>"
      ]
     },
     "metadata": {
      "needs_background": "light"
     },
     "output_type": "display_data"
    }
   ],
   "source": [
    "# visualization\n",
    "\n",
    "df = np.hstack([x_scaled_MMS, clusters_MMS.reshape(-1, 1)]) # x_scaled_ss 오른쪽에 1열 붙이기\n",
    "\n",
    "\n",
    "\n",
    "df_ft0 = df[df[:,2]==0, :] # 클러스터 0 추출\n",
    "\n",
    "df_ft1 = df[df[:,2]==1, :] # 클러스터 1 추출\n",
    "\n",
    "\n",
    "# matplotlib로 그래프 그리기\n",
    "\n",
    "plt.scatter(df_ft0[:, 0], df_ft0[:, 1], label='cluster 0', cmap='Pairs') # x, y, label, 색상\n",
    "\n",
    "plt.scatter(df_ft1[:, 0], df_ft1[:, 1], label='cluster 1', cmap='Pairs')\n",
    "\n",
    "plt.xlabel('feature 0')\n",
    "\n",
    "plt.ylabel('feature 1')\n",
    "\n",
    "plt.legend()\n",
    "\n",
    "plt.show()"
   ]
  },
  {
   "cell_type": "markdown",
   "metadata": {},
   "source": [
    "### Standard Scaler (표준화 : 정규분포)"
   ]
  },
  {
   "cell_type": "code",
   "execution_count": 6,
   "metadata": {},
   "outputs": [
    {
     "name": "stdout",
     "output_type": "stream",
     "text": [
      "np.unique(clusters_ss)\n",
      "예측한 레이블:[0 1]\n"
     ]
    }
   ],
   "source": [
    "scaler_ss = StandardScaler().fit(x)\n",
    "x_scaled_ss = scaler_ss.transform(x) \n",
    "dbscan = DBSCAN()\n",
    "clusters_ss = dbscan.fit_predict(x_scaled_ss)\n",
    "\n",
    "print('np.unique(clusters_ss)\\n예측한 레이블:{}'.format(np.unique(clusters_ss))) # [0 ,1]\n",
    "### 2차원 데이터셋을 0과 1로 구분했기 때문에 전처리가 잘되었음을 확인"
   ]
  },
  {
   "cell_type": "code",
   "execution_count": 7,
   "metadata": {
    "scrolled": true
   },
   "outputs": [
    {
     "data": {
      "image/png": "[encoded data removed]",
      "text/plain": [
       "<Figure size 432x288 with 1 Axes>"
      ]
     },
     "metadata": {
      "needs_background": "light"
     },
     "output_type": "display_data"
    }
   ],
   "source": [
    "# visualization\n",
    "\n",
    "df = np.hstack([x_scaled_ss, clusters_ss.reshape(-1, 1)]) # x_scaled_ss 오른쪽에 1열 붙이기\n",
    "\n",
    "\n",
    "\n",
    "df_ft0 = df[df[:,2]==0, :] # 클러스터 0 추출\n",
    "\n",
    "df_ft1 = df[df[:,2]==1, :] # 클러스터 1 추출\n",
    "\n",
    "\n",
    "# matplotlib로 그래프 그리기\n",
    "\n",
    "plt.scatter(df_ft0[:, 0], df_ft0[:, 1], label='cluster 0', cmap='Pairs') # x, y, label, 색상\n",
    "\n",
    "plt.scatter(df_ft1[:, 0], df_ft1[:, 1], label='cluster 1', cmap='Pairs')\n",
    "\n",
    "plt.xlabel('feature 0')\n",
    "\n",
    "plt.ylabel('feature 1')\n",
    "\n",
    "plt.legend()\n",
    "\n",
    "plt.show()"
   ]
  },
  {
   "cell_type": "markdown",
   "metadata": {},
   "source": [
    "## K-means 적용"
   ]
  },
  {
   "cell_type": "code",
   "execution_count": 8,
   "metadata": {},
   "outputs": [],
   "source": [
    "import pandas as pd\n",
    "from sklearn.cluster import KMeans"
   ]
  },
  {
   "cell_type": "code",
   "execution_count": 9,
   "metadata": {},
   "outputs": [
    {
     "data": {
      "text/plain": [
       "'\\nx_df = pd.DataFrame(x)\\ny_df = pd.DataFrame(y)\\ndf_df = pd.DataFrame(df)\\nprint(x_df.head())\\nprint(y_df.head())\\nprint(df_df.head()) \\n'"
      ]
     },
     "execution_count": 9,
     "metadata": {},
     "output_type": "execute_result"
    }
   ],
   "source": [
    "'''\n",
    "x_df = pd.DataFrame(x)\n",
    "y_df = pd.DataFrame(y)\n",
    "df_df = pd.DataFrame(df)\n",
    "print(x_df.head())\n",
    "print(y_df.head())\n",
    "print(df_df.head()) \n",
    "'''"
   ]
  },
  {
   "cell_type": "code",
   "execution_count": 10,
   "metadata": {},
   "outputs": [
    {
     "data": {
      "text/plain": [
       "'\\ndata_points = x_df.values\\nkmeans = KMeans(n_clusters=2).fit(data_points) # initial centroid 지정 안함\\n# k-mean++ 로 초기 설정 되어 있다.\\n# fit = 학습!\\nkmeans.labels_\\n'"
      ]
     },
     "execution_count": 10,
     "metadata": {},
     "output_type": "execute_result"
    }
   ],
   "source": [
    "'''\n",
    "data_points = x_df.values\n",
    "kmeans = KMeans(n_clusters=2).fit(data_points) # initial centroid 지정 안함\n",
    "# k-mean++ 로 초기 설정 되어 있다.\n",
    "# fit = 학습!\n",
    "kmeans.labels_\n",
    "'''"
   ]
  },
  {
   "cell_type": "code",
   "execution_count": 11,
   "metadata": {},
   "outputs": [
    {
     "data": {
      "text/plain": [
       "array([0, 1, 0, 0, 1, 1, 1, 1, 1, 1, 0, 1, 1, 1, 0, 1, 0, 1, 0, 0, 1, 1,\n",
       "       0, 1, 0, 1, 1, 1, 1, 0, 0, 0, 1, 0, 0, 1, 1, 1, 0, 0, 1, 0, 0, 0,\n",
       "       1, 0, 1, 0, 1, 1, 0, 1, 1, 0, 1, 0, 0, 1, 0, 0, 1, 0, 1, 0, 1, 0,\n",
       "       0, 1, 0, 0, 1, 0, 1, 0, 1, 0, 0, 1, 0, 1, 1, 0, 1, 1, 0, 0, 1, 0,\n",
       "       1, 1, 0, 1, 1, 0, 1, 1, 1, 1, 0, 0, 1, 1, 0, 1, 0, 0, 0, 0, 1, 0,\n",
       "       0, 0, 0, 0, 1, 1, 0, 1, 1, 0, 0, 0, 0, 0, 0, 0, 1, 1, 1, 1, 1, 0,\n",
       "       0, 1, 1, 1, 1, 0, 1, 1, 1, 0, 0, 0, 0, 1, 1, 1, 0, 0, 1, 1, 0, 0,\n",
       "       1, 0, 1, 1, 0, 0, 1, 1, 0, 1, 1, 1, 0, 1, 1, 1, 0, 0, 0, 0, 1, 1,\n",
       "       1, 0, 0, 0, 1, 0, 1, 1, 1, 0, 0, 1, 0, 0, 0, 0, 0, 1, 0, 0, 1, 1,\n",
       "       0, 1])"
      ]
     },
     "execution_count": 11,
     "metadata": {},
     "output_type": "execute_result"
    }
   ],
   "source": [
    "kmeans_x_scaled = KMeans(n_clusters=2).fit(x_scaled_ss)\n",
    "kmeans_x_scaled.labels_"
   ]
  },
  {
   "cell_type": "code",
   "execution_count": 12,
   "metadata": {},
   "outputs": [],
   "source": [
    "df = pd.DataFrame(x_scaled_ss)\n",
    "df['cluster_id'] = kmeans_x_scaled.labels_"
   ]
  },
  {
   "cell_type": "code",
   "execution_count": 13,
   "metadata": {},
   "outputs": [],
   "source": [
    "df.head(12)\n",
    "df = df.values"
   ]
  },
  {
   "cell_type": "code",
   "execution_count": 14,
   "metadata": {},
   "outputs": [
    {
     "data": {
      "image/png": "[encoded data removed]",
      "text/plain": [
       "<Figure size 432x288 with 1 Axes>"
      ]
     },
     "metadata": {
      "needs_background": "light"
     },
     "output_type": "display_data"
    }
   ],
   "source": [
    "df_ft0 = df[df[:,2]==0, :] # 클러스터 0 추출\n",
    "\n",
    "df_ft1 = df[df[:,2]==1, :] # 클러스터 1 추출\n",
    "\n",
    "\n",
    "# matplotlib로 그래프 그리기\n",
    "\n",
    "plt.scatter(df_ft0[:, 0], df_ft0[:, 1], label='cluster 0', cmap='Pairs') # x, y, label, 색상\n",
    "\n",
    "plt.scatter(df_ft1[:, 0], df_ft1[:, 1], label='cluster 1', cmap='Pairs')\n",
    "\n",
    "plt.xlabel('feature 0')\n",
    "\n",
    "plt.ylabel('feature 1')\n",
    "\n",
    "plt.legend()\n",
    "\n",
    "plt.show()"
   ]
  }
 ],
 "metadata": {
  "kernelspec": {
   "display_name": "Python 3",
   "language": "python",
   "name": "python3"
  },
  "language_info": {
   "codemirror_mode": {
    "name": "ipython",
    "version": 3
   },
   "file_extension": ".py",
   "mimetype": "text/x-python",
   "name": "python",
   "nbconvert_exporter": "python",
   "pygments_lexer": "ipython3",
   "version": "3.8.3"
  }
 },
 "nbformat": 4,
 "nbformat_minor": 4
}
