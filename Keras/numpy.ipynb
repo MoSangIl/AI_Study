{
 "cells": [
  {
   "cell_type": "code",
   "execution_count": 25,
   "metadata": {},
   "outputs": [],
   "source": [
    "import numpy as np"
   ]
  },
  {
   "cell_type": "code",
   "execution_count": 26,
   "metadata": {},
   "outputs": [
    {
     "data": {
      "text/plain": [
       "array([[1., 1., 1., 1., 1., 1., 1., 1., 1., 1.],\n",
       "       [1., 1., 1., 1., 1., 1., 1., 1., 1., 1.],\n",
       "       [1., 1., 1., 1., 1., 1., 1., 1., 1., 1.],\n",
       "       [1., 1., 1., 1., 1., 1., 1., 1., 1., 1.],\n",
       "       [1., 1., 1., 1., 1., 1., 1., 1., 1., 1.],\n",
       "       [1., 1., 1., 1., 1., 1., 1., 1., 1., 1.]])"
      ]
     },
     "execution_count": 26,
     "metadata": {},
     "output_type": "execute_result"
    }
   ],
   "source": [
    "matrix = np.zeros(shape=(6, 10))\n",
    "matrix\n",
    "matrix = np.ones(shape=(6, 10))\n",
    "matrix"
   ]
  },
  {
   "cell_type": "markdown",
   "metadata": {},
   "source": [
    "**데이터가 저장된 리스트나 튜플등을 np.array() 를 사용하여 numpy로 변경가능**"
   ]
  },
  {
   "cell_type": "code",
   "execution_count": 27,
   "metadata": {},
   "outputs": [
    {
     "name": "stdout",
     "output_type": "stream",
     "text": [
      "(2, 3, 3)\n",
      "[[[ 1  2  3]\n",
      "  [ 4  5  6]\n",
      "  [ 7  8  9]]\n",
      "\n",
      " [[-1 -2 -3]\n",
      "  [-4 -5 -6]\n",
      "  [-7 -8 -9]]]\n"
     ]
    }
   ],
   "source": [
    "l = [\n",
    "    [\n",
    "        [1, 2, 3],\n",
    "        [4, 5, 6],\n",
    "        [7, 8, 9]\n",
    "    ],\n",
    "    [\n",
    "        [-1, -2, -3],\n",
    "        [-4, -5, -6],\n",
    "        [-7, -8, -9]\n",
    "    ]\n",
    "]\n",
    "\n",
    "arr = np.array(l)\n",
    "print(arr.shape)\n",
    "print(arr)"
   ]
  },
  {
   "cell_type": "markdown",
   "metadata": {},
   "source": [
    "**numpy 배열은 다차원 배열의 사칙/대입 연산등을 수월하게 할수 있으므로 강력함**  \n",
    "각 인덱스를 인위적으로 자유롭게 접근이 가능하기 때문이다."
   ]
  },
  {
   "cell_type": "code",
   "execution_count": 28,
   "metadata": {},
   "outputs": [
    {
     "data": {
      "text/plain": [
       "array([[[  4,   6,   8],\n",
       "        [ 10,  12,  14],\n",
       "        [ 16,  18,  20]],\n",
       "\n",
       "       [[  0,  -2,  -4],\n",
       "        [ -6,  -8, -10],\n",
       "        [-12, -14, -16]]])"
      ]
     },
     "execution_count": 28,
     "metadata": {},
     "output_type": "execute_result"
    }
   ],
   "source": [
    "# 사칙 연산\n",
    "arr *= 2\n",
    "arr\n",
    "arr += 2\n",
    "arr"
   ]
  },
  {
   "cell_type": "code",
   "execution_count": 29,
   "metadata": {},
   "outputs": [
    {
     "data": {
      "text/plain": [
       "array([[[  1,   2,   3],\n",
       "        [ 10,  12,  14],\n",
       "        [ 16,  18,  20]],\n",
       "\n",
       "       [[  0,  -2,  -4],\n",
       "        [ -6,  -8, -10],\n",
       "        [-12, -14, -16]]])"
      ]
     },
     "execution_count": 29,
     "metadata": {},
     "output_type": "execute_result"
    }
   ],
   "source": [
    "# 인덱스 접근 및 대입 연산\n",
    "## arr 은 3차원 배열 / 첫번째 배열의 1행의 값을 1, 2, 3 으로 변경하자\n",
    "\n",
    "arr[0, 0] = [1, 2, 3]\n",
    "## 확장 ->  arr[0, 0] = np.array([1])\n",
    "arr"
   ]
  },
  {
   "cell_type": "code",
   "execution_count": 33,
   "metadata": {},
   "outputs": [
    {
     "data": {
      "text/plain": [
       "array([[ 16,  18,  20],\n",
       "       [-12, -14, -16]])"
      ]
     },
     "execution_count": 33,
     "metadata": {},
     "output_type": "execute_result"
    }
   ],
   "source": [
    "# 슬라이싱!\n",
    "\n",
    "arr[:, 2] # 첫번째, 두번째 배열에서, 각각 2행만 가져옴"
   ]
  },
  {
   "cell_type": "code",
   "execution_count": 35,
   "metadata": {},
   "outputs": [
    {
     "data": {
      "text/plain": [
       "array([[ 16,  18],\n",
       "       [-12, -14]])"
      ]
     },
     "execution_count": 35,
     "metadata": {},
     "output_type": "execute_result"
    }
   ],
   "source": [
    "arr[:, 2, :2] # 첫번째, 두번째 배열에서 각 2행에서 2번 열 전까지 가져옴"
   ]
  },
  {
   "cell_type": "code",
   "execution_count": 36,
   "metadata": {},
   "outputs": [
    {
     "data": {
      "text/plain": [
       "1.1097556480175312"
      ]
     },
     "execution_count": 36,
     "metadata": {},
     "output_type": "execute_result"
    }
   ],
   "source": [
    "# 랜덤\n",
    "np.random.normal()"
   ]
  },
  {
   "cell_type": "code",
   "execution_count": 39,
   "metadata": {},
   "outputs": [],
   "source": [
    "A = np.random.normal(size=(10, 5)) # 10 행 5열 크기의 난수를 생성!"
   ]
  },
  {
   "cell_type": "code",
   "execution_count": 38,
   "metadata": {},
   "outputs": [],
   "source": [
    "B = np.random.normal(size=(5, 3)) # 5행 3열"
   ]
  },
  {
   "cell_type": "code",
   "execution_count": 41,
   "metadata": {},
   "outputs": [
    {
     "data": {
      "text/plain": [
       "(10, 3)"
      ]
     },
     "execution_count": 41,
     "metadata": {},
     "output_type": "execute_result"
    }
   ],
   "source": [
    "#행렬곱\n",
    "T = A @ B\n",
    "T\n",
    "T.shape"
   ]
  },
  {
   "cell_type": "code",
   "execution_count": null,
   "metadata": {},
   "outputs": [],
   "source": []
  }
 ],
 "metadata": {
  "kernelspec": {
   "display_name": "Python 3",
   "language": "python",
   "name": "python3"
  },
  "language_info": {
   "codemirror_mode": {
    "name": "ipython",
    "version": 3
   },
   "file_extension": ".py",
   "mimetype": "text/x-python",
   "name": "python",
   "nbconvert_exporter": "python",
   "pygments_lexer": "ipython3",
   "version": "3.7.6"
  }
 },
 "nbformat": 4,
 "nbformat_minor": 4
}
